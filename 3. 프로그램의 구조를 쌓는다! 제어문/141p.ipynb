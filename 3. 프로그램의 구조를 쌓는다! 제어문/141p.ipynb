{
 "cells": [
  {
   "cell_type": "markdown",
   "metadata": {},
   "source": [
    "# for문"
   ]
  },
  {
   "cell_type": "markdown",
   "metadata": {},
   "source": [
    "## for문의 기본 구조 이해하기"
   ]
  },
  {
   "cell_type": "markdown",
   "metadata": {},
   "source": [
    "### 전형적인 for문"
   ]
  },
  {
   "cell_type": "code",
   "execution_count": 1,
   "metadata": {},
   "outputs": [
    {
     "name": "stdout",
     "output_type": "stream",
     "text": [
      "Miyeon\n",
      "Minnie\n",
      "Soyeon\n"
     ]
    }
   ],
   "source": [
    "test_list = ['Miyeon', 'Minnie', 'Soyeon']\n",
    "\n",
    "for i in test_list: # 리스트 {test_list}의 원소 {i}에 대하여 이하의 내용을 반복.\n",
    "    print(i)"
   ]
  },
  {
   "cell_type": "markdown",
   "metadata": {},
   "source": [
    "### 다양한 for문의 사용"
   ]
  },
  {
   "cell_type": "code",
   "execution_count": 2,
   "metadata": {},
   "outputs": [
    {
     "name": "stdout",
     "output_type": "stream",
     "text": [
      "3\n",
      "7\n",
      "11\n"
     ]
    }
   ],
   "source": [
    "a = [(1,2), (3,4), (5,6)] # 튜플 3개로 구성된 리스트 정의\n",
    "\n",
    "for (fisrt, last) in a: # 리스트 내의 튜플이 자동으로 {(first, last)}에 대입\n",
    "    print(fisrt+last)"
   ]
  },
  {
   "cell_type": "markdown",
   "metadata": {},
   "source": [
    "## for문과 continue문"
   ]
  },
  {
   "cell_type": "code",
   "execution_count": 3,
   "metadata": {},
   "outputs": [
    {
     "name": "stdout",
     "output_type": "stream",
     "text": [
      "1\n",
      "3\n",
      "4\n"
     ]
    }
   ],
   "source": [
    "# continue 문은 for문의 처음으로 돌아간다.\n",
    "test_list = [1, 2, 3, 4]\n",
    "\n",
    "for i in test_list:\n",
    "    if i == 2:\n",
    "        continue # {i}가 2인 경우, 바로 continue를 맞이하므로 아무것도 하지 않고 for문의 처음으로 돌아간다.\n",
    "        print(i) # continue 다음의 문장이 같은 블록 안에 있을 경우, 실행되지 않는다.\n",
    "    else:\n",
    "        print(i)"
   ]
  },
  {
   "cell_type": "markdown",
   "metadata": {},
   "source": [
    "## for문과 함께 자주 사용하는 range 함수"
   ]
  },
  {
   "cell_type": "code",
   "execution_count": 4,
   "metadata": {},
   "outputs": [
    {
     "data": {
      "text/plain": [
       "range(0, 10)"
      ]
     },
     "execution_count": 4,
     "metadata": {},
     "output_type": "execute_result"
    }
   ],
   "source": [
    "# for문은 range() 함수와 함께 자주 사용된다.\n",
    "# range()는 정수로 구성된 범위를 입력받아, 해당 범위의 정수들로 구성된 range 객체를 반환한다.\n",
    "\n",
    "a = range(10) # {a}: 0 이상 10 미만의 정수를 포함하는 range 객체\n",
    "a # 0, 1, 2, 3, 4, 5, 6, 7, 8, 9"
   ]
  },
  {
   "cell_type": "code",
   "execution_count": 5,
   "metadata": {},
   "outputs": [
    {
     "data": {
      "text/plain": [
       "range(1, 10)"
      ]
     },
     "execution_count": 5,
     "metadata": {},
     "output_type": "execute_result"
    }
   ],
   "source": [
    "# range()가 두 개의 인자를 받을 경우, range 객체의 시작 숫자를 지정할 수 있다.\n",
    "\n",
    "a = range(1, 10) # {a}: 1 이상 10 미만의 정수를 포함하는 range 객체\n",
    "a # 1, 2, 3, 4, 5, 6, 7, 8, 9"
   ]
  },
  {
   "cell_type": "markdown",
   "metadata": {},
   "source": [
    "### range 함수의 예시 살펴보기"
   ]
  },
  {
   "cell_type": "code",
   "execution_count": 6,
   "metadata": {},
   "outputs": [
    {
     "name": "stdout",
     "output_type": "stream",
     "text": [
      "55\n"
     ]
    }
   ],
   "source": [
    "add = 0\n",
    "\n",
    "for i in range(1, 11): # range(1, 11)의 원소를 {i}로 받아서 반복\n",
    "    add = add + i # 숫자를 하나씩 늘려가며 더함\n",
    "\n",
    "print(add)"
   ]
  },
  {
   "cell_type": "code",
   "execution_count": 7,
   "metadata": {},
   "outputs": [
    {
     "name": "stdout",
     "output_type": "stream",
     "text": [
      "5050\n"
     ]
    }
   ],
   "source": [
    "# 1분 코딩 145p\n",
    "add = 0\n",
    "for i in range(101):\n",
    "    add = add + i\n",
    "\n",
    "print(add)"
   ]
  },
  {
   "cell_type": "markdown",
   "metadata": {},
   "source": [
    "### for와 range를 이용한 구구단"
   ]
  },
  {
   "cell_type": "code",
   "execution_count": 8,
   "metadata": {},
   "outputs": [
    {
     "name": "stdout",
     "output_type": "stream",
     "text": [
      "2 4 6 8 10 12 14 16 18  \n",
      "3 6 9 12 15 18 21 24 27  \n",
      "4 8 12 16 20 24 28 32 36  \n",
      "5 10 15 20 25 30 35 40 45  \n",
      "6 12 18 24 30 36 42 48 54  \n",
      "7 14 21 28 35 42 49 56 63  \n",
      "8 16 24 32 40 48 56 64 72  \n",
      "9 18 27 36 45 54 63 72 81  \n"
     ]
    }
   ],
   "source": [
    "for i in  range(2, 10):\n",
    "    for j in range(1, 10):\n",
    "        print(i*j, end=' ') # print() 함수의 {end} 매개변수의 디폴트는 라인 피드(줄바꿈, '\\n')이다. 줄을 바꾸고 싶지 않다면 따로 지정해야 한다.\n",
    "    print(' ') # 한 단이 끝났을 때 공백 문자를 추가하고 라인 피드를 통해 줄을 바꿈."
   ]
  },
  {
   "cell_type": "markdown",
   "metadata": {},
   "source": [
    "## 리스트 컴프리헨션 사용하기"
   ]
  },
  {
   "cell_type": "code",
   "execution_count": 9,
   "metadata": {},
   "outputs": [
    {
     "name": "stdout",
     "output_type": "stream",
     "text": [
      "[3, 6, 9, 12]\n"
     ]
    }
   ],
   "source": [
    "# 리스트의 원소들에 반복 작업을 하는 상황\n",
    "a = [1, 2, 3, 4]\n",
    "result = []\n",
    "for num in a:\n",
    "    result.append(num*3) # {a}의 원소에 3을 곱해서 {result}에 포함\n",
    "\n",
    "print(result)"
   ]
  },
  {
   "cell_type": "code",
   "execution_count": 10,
   "metadata": {},
   "outputs": [
    {
     "name": "stdout",
     "output_type": "stream",
     "text": [
      "[3, 6, 9, 12]\n"
     ]
    }
   ],
   "source": [
    "# 리스트 컴프리헨션(list comprehension)을 통해 위 작업을 편하게 기술할 수 있다.\n",
    "a = [1, 2, 3 , 4]\n",
    "result = [num*3 for num in a]\n",
    "\n",
    "print(result)"
   ]
  },
  {
   "cell_type": "code",
   "execution_count": 11,
   "metadata": {},
   "outputs": [
    {
     "name": "stdout",
     "output_type": "stream",
     "text": [
      "[6, 12]\n"
     ]
    }
   ],
   "source": [
    "# 특정 조건을 두고 리스트 컴프리헨션을 수행할 수 있다.\n",
    "a = [1, 2, 3, 4]\n",
    "result = [num*3 for num in a if num%2 == 0]\n",
    "\n",
    "print(result)\n",
    "\n",
    "# 리스트 컴프리헨션의 기본 문법은 다음과 같다.\n",
    "# [expression for {item1} in {iterable_object1} if conditional_statement1\n",
    "#             for {item2} in {iterable_object2} if conditional_statement2\n",
    "#             ...\n",
    "#             for {item_n} in {iterable_object_n} if conditional_statement_n]"
   ]
  },
  {
   "cell_type": "code",
   "execution_count": 12,
   "metadata": {},
   "outputs": [
    {
     "name": "stdout",
     "output_type": "stream",
     "text": [
      "[2, 4, 6, 8, 10, 12, 14, 16, 18, 3, 6, 9, 12, 15, 18, 21, 24, 27, 4, 8, 12, 16, 20, 24, 28, 32, 36, 5, 10, 15, 20, 25, 30, 35, 40, 45, 6, 12, 18, 24, 30, 36, 42, 48, 54, 7, 14, 21, 28, 35, 42, 49, 56, 63, 8, 16, 24, 32, 40, 48, 56, 64, 72, 9, 18, 27, 36, 45, 54, 63, 72, 81]\n"
     ]
    }
   ],
   "source": [
    "# 구구단 결과를 리스트 컴프리헨션을 이용하여 한 리스트에 담기\n",
    "result = [x*y for x in range(2,10)\n",
    "              for y in range(1,10)]\n",
    "\n",
    "print(result)"
   ]
  }
 ],
 "metadata": {
  "kernelspec": {
   "display_name": "Python 3",
   "language": "python",
   "name": "python3"
  },
  "language_info": {
   "codemirror_mode": {
    "name": "ipython",
    "version": 3
   },
   "file_extension": ".py",
   "mimetype": "text/x-python",
   "name": "python",
   "nbconvert_exporter": "python",
   "pygments_lexer": "ipython3",
   "version": "3.12.4"
  }
 },
 "nbformat": 4,
 "nbformat_minor": 2
}
