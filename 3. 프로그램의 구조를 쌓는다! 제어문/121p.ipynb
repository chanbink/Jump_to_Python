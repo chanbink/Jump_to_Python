{
 "cells": [
  {
   "cell_type": "markdown",
   "metadata": {},
   "source": [
    "# if문"
   ]
  },
  {
   "cell_type": "markdown",
   "metadata": {},
   "source": [
    "## if문은 왜 필요할까?"
   ]
  },
  {
   "cell_type": "code",
   "execution_count": 1,
   "metadata": {},
   "outputs": [
    {
     "name": "stdout",
     "output_type": "stream",
     "text": [
      "Take a taxi.\n"
     ]
    }
   ],
   "source": [
    "money = True\n",
    "\n",
    "if money: # if 뒤의 조건이 참이면 블록의 명령이 실행된다.\n",
    "    print(\"Take a taxi.\") # 블록 내의 명령은 들여쓰기해야 한다.\n",
    "else: # if문이 거짓이면 else 블록의 명령이 실행된다.\n",
    "    print(\"Walk.\")\n",
    "# C, C++ 등은 블록 범위를 {}로 지정하지만 파이썬에서는 들여쓰기로 지정한다."
   ]
  },
  {
   "cell_type": "markdown",
   "metadata": {},
   "source": [
    "## 조건문이란 무엇인가?"
   ]
  },
  {
   "cell_type": "markdown",
   "metadata": {},
   "source": [
    "### 비교 연산자"
   ]
  },
  {
   "cell_type": "code",
   "execution_count": 3,
   "metadata": {},
   "outputs": [
    {
     "data": {
      "text/plain": [
       "True"
      ]
     },
     "execution_count": 3,
     "metadata": {},
     "output_type": "execute_result"
    }
   ],
   "source": [
    "x = 3\n",
    "y = 2\n",
    "x > y # 비교 연산자는 부울을 반환한다."
   ]
  },
  {
   "cell_type": "code",
   "execution_count": 4,
   "metadata": {},
   "outputs": [
    {
     "data": {
      "text/plain": [
       "False"
      ]
     },
     "execution_count": 4,
     "metadata": {},
     "output_type": "execute_result"
    }
   ],
   "source": [
    "x < y"
   ]
  },
  {
   "cell_type": "code",
   "execution_count": 5,
   "metadata": {},
   "outputs": [
    {
     "data": {
      "text/plain": [
       "False"
      ]
     },
     "execution_count": 5,
     "metadata": {},
     "output_type": "execute_result"
    }
   ],
   "source": [
    "x == y # '같음'을 나타낸다. =는 '대임'을 의미하므로 주의."
   ]
  },
  {
   "cell_type": "code",
   "execution_count": 6,
   "metadata": {},
   "outputs": [
    {
     "data": {
      "text/plain": [
       "True"
      ]
     },
     "execution_count": 6,
     "metadata": {},
     "output_type": "execute_result"
    }
   ],
   "source": [
    "x != y # '같지 않음'을 나타낸다."
   ]
  },
  {
   "cell_type": "code",
   "execution_count": 7,
   "metadata": {},
   "outputs": [
    {
     "name": "stdout",
     "output_type": "stream",
     "text": [
      "Walk.\n"
     ]
    }
   ],
   "source": [
    "money = 2000\n",
    "\n",
    "if money >= 3000:\n",
    "    print(\"Take a taxi.\")\n",
    "else: # 조건이 False이므로 else 블록의 명령이 실행된다.\n",
    "    print(\"Walk.\")"
   ]
  },
  {
   "cell_type": "markdown",
   "metadata": {},
   "source": [
    "### and, or, not"
   ]
  },
  {
   "cell_type": "code",
   "execution_count": 10,
   "metadata": {},
   "outputs": [
    {
     "name": "stdout",
     "output_type": "stream",
     "text": [
      "Take a taxi.\n"
     ]
    }
   ],
   "source": [
    "money = 2000\n",
    "card = True\n",
    "\n",
    "if money >= 3000 or card: # or는 둘 중 하나만 True일 경우 True를 반환한다.\n",
    "    print(\"Take a taxi.\")\n",
    "else:\n",
    "    print(\"Walk.\")\n",
    "# and는 둘 다 True인 경우 True를 반환한다.\n",
    "# not은 True인 경우 False를 반환한다."
   ]
  },
  {
   "cell_type": "markdown",
   "metadata": {},
   "source": [
    "### in, not in"
   ]
  },
  {
   "cell_type": "code",
   "execution_count": 12,
   "metadata": {},
   "outputs": [
    {
     "data": {
      "text/plain": [
       "False"
      ]
     },
     "execution_count": 12,
     "metadata": {},
     "output_type": "execute_result"
    }
   ],
   "source": [
    "1 in [1, 2, 3] # True\n",
    "1 not in [1, 2, 3] # in, not in은 리스트, 튜플, 문자열 등의 반복 가능 자료형에 해당 요소의 존재 여부를 부울로 반환한다."
   ]
  },
  {
   "cell_type": "code",
   "execution_count": 13,
   "metadata": {},
   "outputs": [
    {
     "data": {
      "text/plain": [
       "True"
      ]
     },
     "execution_count": 13,
     "metadata": {},
     "output_type": "execute_result"
    }
   ],
   "source": [
    "'a' in ('a', 'b', 'c') # True\n",
    "'j' not in 'python'"
   ]
  },
  {
   "cell_type": "code",
   "execution_count": 14,
   "metadata": {},
   "outputs": [
    {
     "name": "stdout",
     "output_type": "stream",
     "text": [
      "Take a taxi.\n"
     ]
    }
   ],
   "source": [
    "pocket = ['paper', 'cellphone', 'money']\n",
    "\n",
    "if 'money' in pocket:\n",
    "    print(\"Take a taxi.\")\n",
    "else:\n",
    "    print(\"Walk.\")"
   ]
  },
  {
   "cell_type": "code",
   "execution_count": 15,
   "metadata": {},
   "outputs": [
    {
     "name": "stdout",
     "output_type": "stream",
     "text": [
      "Walk.\n"
     ]
    }
   ],
   "source": [
    "# 1분 코딩 129p\n",
    "if 'credit card' not in pocket:\n",
    "    print(\"Walk.\")\n",
    "else:\n",
    "    print(\"Take a taxi.\")"
   ]
  },
  {
   "cell_type": "code",
   "execution_count": 17,
   "metadata": {},
   "outputs": [],
   "source": [
    "# 조건문에서 행동을 생략하는 방법\n",
    "pocket = ['paper', 'money', 'cellphone']\n",
    "\n",
    "if 'money' in pocket:\n",
    "    pass # pass: 아무것도 하지 않고 블록을 탈출한다.\n",
    "else:\n",
    "    print(\"Take out credit card.\")"
   ]
  },
  {
   "cell_type": "markdown",
   "metadata": {},
   "source": [
    "## 다양한 조건을 판단하는 elif"
   ]
  },
  {
   "cell_type": "code",
   "execution_count": 18,
   "metadata": {},
   "outputs": [
    {
     "name": "stdout",
     "output_type": "stream",
     "text": [
      "Take a taxi.\n"
     ]
    }
   ],
   "source": [
    "pocket = ['paper', 'cellphone']\n",
    "card = True\n",
    "\n",
    "if 'money' in pocket:\n",
    "    print(\"Take a taxi.\")\n",
    "else:\n",
    "    if card: # 첫 번째 조건이 False일 경우 다음 조건을 평가\n",
    "        print(\"Take a taxi.\")\n",
    "    else:\n",
    "        print(\"Walk.\")\n",
    "# 조건문이 많이 중첩되면 가독성이 떨어지고 비효율적인 코드가 된다."
   ]
  },
  {
   "cell_type": "code",
   "execution_count": 19,
   "metadata": {},
   "outputs": [
    {
     "name": "stdout",
     "output_type": "stream",
     "text": [
      "Take a taxi.\n"
     ]
    }
   ],
   "source": [
    "pocket = ['paper', 'cellphone']\n",
    "card = True\n",
    "\n",
    "if 'money' in pocket:\n",
    "    print(\"Take a taxi.\")\n",
    "elif card: # elif은 else if의 줄임말로 추가 조건을 의미한다.\n",
    "    print(\"Take a taxi.\")\n",
    "else:\n",
    "    print(\"Walk.\")"
   ]
  },
  {
   "cell_type": "code",
   "execution_count": 20,
   "metadata": {},
   "outputs": [
    {
     "name": "stdout",
     "output_type": "stream",
     "text": [
      "Take out credit card.\n"
     ]
    }
   ],
   "source": [
    "# if, else문 뒤가 단일 명령일 경우 한 줄에 같이 적을 수 있다.\n",
    "if 'money' in pocket:\n",
    "    pass\n",
    "else:\n",
    "    print(\"Take out credit card.\")"
   ]
  },
  {
   "cell_type": "code",
   "execution_count": 21,
   "metadata": {},
   "outputs": [
    {
     "name": "stdout",
     "output_type": "stream",
     "text": [
      "Take out credit card.\n"
     ]
    }
   ],
   "source": [
    "if 'money' in pocket: pass\n",
    "else: print(\"Take out credit card.\")"
   ]
  },
  {
   "cell_type": "markdown",
   "metadata": {},
   "source": [
    "## 조건부 표현식"
   ]
  },
  {
   "cell_type": "code",
   "execution_count": 22,
   "metadata": {},
   "outputs": [],
   "source": [
    "score = 80\n",
    "\n",
    "if score >= 60:\n",
    "    message = 'success'\n",
    "else:\n",
    "    message = 'failure'"
   ]
  },
  {
   "cell_type": "code",
   "execution_count": 23,
   "metadata": {},
   "outputs": [],
   "source": [
    "# 위 코드는 아래와 같이 조건부 표현식(conditional expression)으로 나타낼 수 있다.\n",
    "message = 'success' if score >= 60 else 'failure'\n",
    "# 조건부 표현식은 사람의 언어와 비슷하고 한 줄로 작성되므로 가독성이 좋아진다."
   ]
  }
 ],
 "metadata": {
  "kernelspec": {
   "display_name": "Python 3",
   "language": "python",
   "name": "python3"
  },
  "language_info": {
   "codemirror_mode": {
    "name": "ipython",
    "version": 3
   },
   "file_extension": ".py",
   "mimetype": "text/x-python",
   "name": "python",
   "nbconvert_exporter": "python",
   "pygments_lexer": "ipython3",
   "version": "3.12.4"
  }
 },
 "nbformat": 4,
 "nbformat_minor": 2
}
