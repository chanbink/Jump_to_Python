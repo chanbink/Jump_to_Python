{
 "cells": [
  {
   "cell_type": "markdown",
   "metadata": {},
   "source": [
    "# 탭 문자를 공백 문자 4개로 바꾸기"
   ]
  },
  {
   "cell_type": "code",
   "execution_count": 1,
   "metadata": {},
   "outputs": [],
   "source": [
    "# 이 단원 실습을 위해 아래의 명령어를 미리 실행하라.\n",
    "f = open('tabto4.txt', 'w')\n",
    "f.write(\"\"\"Miyeon\\tMinnie\\tSoyeon\\tYuqi\\tShuhua\\nI\\tlove\\t(G)IDLE.\"\"\") # \\t는 탭(tab)을 나타내는 제어 문자이다.\n",
    "f.close()\n",
    "# 비주얼 스튜디오 코드 설정에 따라 탭의 크기가 달라진다. (디폴트: 4)\n",
    "# 만약, 설정을 바꾸고 싶다면 좌측 하단의 톱니바퀴를 클릭한 뒤,\n",
    "# '설정' > '일반적으로 사용되는 설정' > 'Tab Size'의 숫자를 변경하면 된다.\n",
    "# 많은 프로그래머들이 탭의 크기를 공백 4개로 두므로, 이 설정은 바꾸지 않는 것을 권장한다.\n",
    "# \n",
    "\n",
    "# 탭 vs 스페이스?\n",
    "# 들여쓰기(indent)에는 탭이나 공백 문자가 쓰인다.\n",
    "# 이 때 주의해야 할 점은, 절대로 두 개를 혼용하지 말아야 한다는 것이다.\n",
    "# 이는 파이썬처럼 들여쓰기가 문법에 관여하는 언어에서는 필수 사항이다.\n",
    "# 에디터에 따라, 탭이 차지하는 공백 문자 수가 다르기 때문에,\n",
    "# 탭과 공백을 같이 사용하면 다른 에디터를 사용할 때 문제를 일으킬 수 있다.\n",
    "# 따라서, 협업을 하거나 프로그램을 수정하는 경우, 반드시 탭과 스페이스를 통일해야 한다.\n",
    "\n",
    "# 탭의 장점\n",
    "# 1. 한 번의 입력으로 들여쓰기가 되므로 편리하다.\n",
    "# 2. 탭 하나와 공백 하나의 용량이 모두 회당 1Byte로 동일하다. 따라서, 용량이 절약된다.\n",
    "\n",
    "# 스페이스의 장점\n",
    "# 1. 에디터에 상관 없이 크기가 일정하여, 들여쓰기 실수로 인한 문제가 줄어든다.\n",
    "# 2. 일반적으로, 탭 키에 비해 스페이스 바가 크고 자연스럽게 엄지에 위치하므로 오타가 적다.\n",
    "# 3. 많은 사람들이 스페이스를 쓴다. 이는 협업에서 매우 유리하다.\n",
    "\n",
    "# 깃허브에 따르면 스페이스 사용자가 탭 사용자의 두 배에 달하는 것으로 알려졌다."
   ]
  }
 ],
 "metadata": {
  "kernelspec": {
   "display_name": "Python 3",
   "language": "python",
   "name": "python3"
  },
  "language_info": {
   "codemirror_mode": {
    "name": "ipython",
    "version": 3
   },
   "file_extension": ".py",
   "mimetype": "text/x-python",
   "name": "python",
   "nbconvert_exporter": "python",
   "pygments_lexer": "ipython3",
   "version": "3.12.4"
  }
 },
 "nbformat": 4,
 "nbformat_minor": 2
}
