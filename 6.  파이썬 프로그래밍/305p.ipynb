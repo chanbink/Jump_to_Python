{
 "cells": [
  {
   "cell_type": "markdown",
   "metadata": {},
   "source": [
    "# 내가 프로그램을 만들 수 있을까?"
   ]
  },
  {
   "cell_type": "code",
   "execution_count": 1,
   "metadata": {},
   "outputs": [],
   "source": [
    "# 구구단 프로그램을 만들자.\n",
    "# 1. 함수 이름은? gugu.py\n",
    "# 2. 입력받을 값은? 2\n",
    "# 3. 출력하는 값은? 구구단 2단\n",
    "# 4. 결과를 저장할 형태는? 리스트"
   ]
  },
  {
   "cell_type": "code",
   "execution_count": 2,
   "metadata": {},
   "outputs": [
    {
     "name": "stdout",
     "output_type": "stream",
     "text": [
      "2\n"
     ]
    }
   ],
   "source": [
    "# gugu()에 2를 입력하면 값을 반환할 것.\n",
    "# result = gugu(2)\n",
    "# 입력 확인: 입력한 값을 함수가 제대로 받는가?\n",
    "def gugu(n):\n",
    "    print(n) # 전달 받은 값을 출력\n",
    "\n",
    "gugu(2) # 2를 전달하면 제대로 2를 출력하는지 확인"
   ]
  },
  {
   "cell_type": "code",
   "execution_count": 3,
   "metadata": {},
   "outputs": [],
   "source": [
    "# 입력은 제대로 받는다.\n",
    "# 리스트를 출력하고 싶으니, 함수 내에 리스트가 있어야 한다.\n",
    "def gugu(n):\n",
    "    result = [] # 결과를 담을 리스트 생성\n",
    "\n",
    "# 이 리스트에 결과를 어떻게 담아낼까?"
   ]
  },
  {
   "cell_type": "code",
   "execution_count": 4,
   "metadata": {},
   "outputs": [
    {
     "name": "stdout",
     "output_type": "stream",
     "text": [
      "1\n",
      "2\n",
      "3\n",
      "4\n",
      "5\n",
      "6\n",
      "7\n",
      "8\n",
      "9\n"
     ]
    }
   ],
   "source": [
    "# 하나씩 일일이 함수를 호출하는 것은 너무 무식하다.\n",
    "# 곱해지는 수만 다르므로 반복문을 활용할 수 있을 것이다.\n",
    "# 곱해지는 수를 반복문으로 달리 할 수 있는지 실험해보자.\n",
    "i = 1\n",
    "while i < 10:\n",
    "    print(i)\n",
    "    i = i + 1"
   ]
  },
  {
   "cell_type": "code",
   "execution_count": 5,
   "metadata": {},
   "outputs": [
    {
     "name": "stdout",
     "output_type": "stream",
     "text": [
      "[2, 4, 6, 8, 10, 12, 14, 16, 18]\n"
     ]
    }
   ],
   "source": [
    "from mod308p import gugu # 위의 과정으로 만든 함수 코드를 도입\n",
    "\n",
    "print(gugu(2))"
   ]
  }
 ],
 "metadata": {
  "kernelspec": {
   "display_name": "Python 3",
   "language": "python",
   "name": "python3"
  },
  "language_info": {
   "codemirror_mode": {
    "name": "ipython",
    "version": 3
   },
   "file_extension": ".py",
   "mimetype": "text/x-python",
   "name": "python",
   "nbconvert_exporter": "python",
   "pygments_lexer": "ipython3",
   "version": "3.12.4"
  }
 },
 "nbformat": 4,
 "nbformat_minor": 2
}
