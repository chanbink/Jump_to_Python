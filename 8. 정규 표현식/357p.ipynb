{
 "cells": [
  {
   "cell_type": "markdown",
   "metadata": {},
   "source": [
    "# 정규 표현식 시작하기"
   ]
  },
  {
   "cell_type": "markdown",
   "metadata": {},
   "source": [
    "## 정규 표현식의 기초, 메타 문자"
   ]
  },
  {
   "cell_type": "code",
   "execution_count": 1,
   "metadata": {},
   "outputs": [],
   "source": [
    "# 아래의 문자들을 메타 문자(meta character)라 한다.\n",
    "# 메타 문자는 해당 문자 자체의 의미가 아닌 특별한 의미를 가진 문자를 의미한다.\n",
    "# . ^ $ * + ? {} [] \\ | ()"
   ]
  },
  {
   "cell_type": "markdown",
   "metadata": {},
   "source": [
    "### []문자 - 문자 클래스"
   ]
  },
  {
   "cell_type": "code",
   "execution_count": 2,
   "metadata": {},
   "outputs": [],
   "source": [
    "# 대괄호는 문자 클래스(character class)를 의미한다.\n",
    "# 문자 클래스로 만든 정규식은 대괄호 사이의 문자들과 매치한다는 의미를 가진다.\n",
    "# 정규식이 [abc]일때, 예시 문자열과의 매칭 여부는 다음과 같다.\n",
    "# 'a' 매칭 O, 정규식과 일치하는 문자인 'a' 존재\n",
    "# 'before' 매칭 O, 정규식과 일치하는 문자인 'b' 존재\n",
    "# 'dude' 매칭 X, 정규식과 일치하는 무자가 존재하지 않음"
   ]
  },
  {
   "cell_type": "code",
   "execution_count": 3,
   "metadata": {},
   "outputs": [],
   "source": [
    "# 하이픈(-)은 두 문자 사이의 범위를 의미한다.\n",
    "# [a-c]는 [abc]와 동일하다.\n",
    "# [0-5]는 [012345]와 동일하다.\n",
    "# [a-zA-Z]는 모든 알파벳과 동일하다.\n",
    "# [0-9]는 모든 숫자와 동일하다.\n",
    "# 메타 문자 ^는 부정을 의미한다.\n",
    "# [^0-9]는 숫자가 아닌 문자만 매치된다."
   ]
  },
  {
   "cell_type": "code",
   "execution_count": 4,
   "metadata": {},
   "outputs": [],
   "source": [
    "# 자주 사용하는 정규식은 간단한 표기법으로 표시할 수 있다.\n",
    "# \\d는 숫자와 매치된다. [0-9]와 동일하다.\n",
    "# \\D는 숫자가 아닌 것과 매치된다. [^0-9]와 동일하다.\n",
    "# \\s는 화이트스페이스(whitespace)와 매치된다. [ \\t\\n\\r\\f\\v]와 동일하다.\n",
    "# \\S는 화이트스페이스(whitespace)가 아닌 것과 매치된다. [^ \\t\\n\\r\\f\\v]와 동일하다.\n",
    "# \\w는 문자+숫자와 매치된다. [a-zA-Z0-9]와 동일하다.\n",
    "# \\W는 문자+숫자가 아닌 것과 매치된다. [^a-zA-Z0-9]와 동일하다.\n",
    "\n",
    "# 화이트스페이스는 스페이스, 탭, 줄바꿈 등의 공백 문자를 의미한다."
   ]
  },
  {
   "cell_type": "markdown",
   "metadata": {},
   "source": [
    "### .(dot) 문자 - \\n을 제외한 모든 문자"
   ]
  },
  {
   "cell_type": "code",
   "execution_count": 5,
   "metadata": {},
   "outputs": [],
   "source": [
    "# 메타 문자 .는 개행 문자 \\n를 제외한 모든 문자와 매치된다.\n",
    "# a.b은 'a + 모든_문자 + b'와 같다.\n",
    "# 정규식이 a.b일 때, 예시 문자열과의 매칭 여부는 다음과 같다.\n",
    "# 'aab' 매칭 O, 문자열의 a와 b 사이의 a가 모든 문자를 의미하는 .와 일치\n",
    "# 'a0b' 매칭 O, 문자열의 a와 b 사이의 0이 모든 문자를 의미하는 .와 일치\n",
    "# 'abc' 매칭 X, 문자열의 a와 b 사이에 아무 문자도 존재하지 않음"
   ]
  },
  {
   "cell_type": "code",
   "execution_count": 6,
   "metadata": {},
   "outputs": [],
   "source": [
    "# [.]에서 대괄호 안의 .은 문자 '.' 자체를 의미한다.\n",
    "# a[.]b은 'a.b'를 포함한 문자열과 매칭된다."
   ]
  },
  {
   "cell_type": "markdown",
   "metadata": {},
   "source": [
    "### * 문자"
   ]
  },
  {
   "cell_type": "code",
   "execution_count": 7,
   "metadata": {},
   "outputs": [],
   "source": [
    "# 메타 문자 *은 반복을 의미한다.\n",
    "# *은 바로 앞의 문자가 0부터 무한대까지 반복될 수 있다.\n",
    "# 단, 메모리 용량의 한계로 실제로는 약 2억 개까지만 반복 가능하다.\n",
    "# 정규식이 ca*t일 때, 예시 문자열과의 매칭 여부는 다음과 같다.\n",
    "# 'ct' 매칭 O, a가 0번 반복됨\n",
    "# 'cat' 매칭 O, a가 1번 반복됨\n",
    "# 'caaat' 매칭 O, a가 3번 반복됨"
   ]
  },
  {
   "cell_type": "markdown",
   "metadata": {},
   "source": [
    "### + 문자"
   ]
  },
  {
   "cell_type": "code",
   "execution_count": 8,
   "metadata": {},
   "outputs": [],
   "source": [
    "# 메타 문자 +는 1회 이상 반복을 의미한다.\n",
    "# +는 바로 앞의 문자가 1부터 무한대까지 반복될 수 있다.\n",
    "# 정규식이 ca+t일 때, 예시 문자열과의 매칭 여부는 다음과 같다.\n",
    "# 'ct' 매칭 X, a가 0번 반복됨\n",
    "# 'cat' 매칭 O, a가 1번 반복됨\n",
    "# 'caaat' 매칭 O, a가 3번 반복됨"
   ]
  },
  {
   "cell_type": "markdown",
   "metadata": {},
   "source": [
    "### {} 문자와 ? 문자"
   ]
  },
  {
   "cell_type": "code",
   "execution_count": 9,
   "metadata": {},
   "outputs": [],
   "source": [
    "# 메타 문자 {}는 지정된 횟수만큼의 반복을 의미한다.\n",
    "# {m}은 바로 앞의 문자의 m회 반복을 의미한다.\n",
    "# 정규식이 ca{2}t일 때, 예시 문자열과의 매칭 여부는 다음과 같다.\n",
    "# 'cat' 매칭 X, a가 1번 반복됨\n",
    "# 'caat' 매칭 O, a가 2번 반복됨\n",
    "# {m, n}은 바로 앞의 문자의 m~n회 반복을 의미한다.\n",
    "# 정규식이 ca{2, 5}t일 때, 예시 문자열과의 매칭 여부는 다음과 같다.\n",
    "# 'cat' 매칭 X, a가 1번 반복됨\n",
    "# 'caat' 매칭 O, a가 2번 반복됨\n",
    "# 'caaaaat' 매칭 O, a가 5번 반복됨"
   ]
  },
  {
   "cell_type": "code",
   "execution_count": 10,
   "metadata": {},
   "outputs": [],
   "source": [
    "# 메타 문자 ?은 {1, 2}를 의미한다.\n",
    "# 정규식이 ab?c일 때, 예시 문자열과의 매칭 여부는 다음과 같다.\n",
    "# 'ac' 매칭 O, b가 0번 반복됨\n",
    "# 'abc' 매칭 O, b가 1번 반복됨"
   ]
  },
  {
   "cell_type": "markdown",
   "metadata": {},
   "source": [
    "## 파이썬에서 정규 표현식을 지원하는 re 모듈"
   ]
  },
  {
   "cell_type": "code",
   "execution_count": 11,
   "metadata": {},
   "outputs": [],
   "source": [
    "# 정규 표현식을 사용할 땐, 표준 라이브러리 re를 사용한다.\n",
    "import re\n",
    "p = re.compile('ab*') # re.compile(): 정규 표현식을 컴파일(compile)하여, 패턴 객체를 반환\n",
    "# 흔히, 컴파일은 소스 코드를 다른 언어로 바꾸는 과정을 의미한다.\n",
    "# compile()은 정규 표현식을 패턴화하여 옮기는 의미에서 컴파일이라 한다."
   ]
  },
  {
   "cell_type": "code",
   "execution_count": 12,
   "metadata": {},
   "outputs": [],
   "source": [
    "# 임의의 알파벳 소문자가 최소 한 번은 반복되는 정규식 컴파일\n",
    "import re\n",
    "p = re.compile('[a-z]+')"
   ]
  },
  {
   "cell_type": "markdown",
   "metadata": {},
   "source": [
    "### match"
   ]
  },
  {
   "cell_type": "code",
   "execution_count": 13,
   "metadata": {},
   "outputs": [
    {
     "name": "stdout",
     "output_type": "stream",
     "text": [
      "<re.Match object; span=(0, 6), match='python'>\n"
     ]
    }
   ],
   "source": [
    "m = p.match('python') # match(): 입력받은 문자열의 시작 부분이 정규식과 매치되는지 조사\n",
    "print(m) # 정규식에 부합하므로 match 객체 반환"
   ]
  },
  {
   "cell_type": "code",
   "execution_count": 14,
   "metadata": {},
   "outputs": [
    {
     "name": "stdout",
     "output_type": "stream",
     "text": [
      "None\n"
     ]
    }
   ],
   "source": [
    "m = p.match('3 python')\n",
    "print(m) # 문자열의 시작 부분이 숫자이므로, 정규식에 부합하지 않아, None 반환"
   ]
  },
  {
   "cell_type": "markdown",
   "metadata": {},
   "source": [
    "### search"
   ]
  },
  {
   "cell_type": "code",
   "execution_count": 15,
   "metadata": {},
   "outputs": [
    {
     "name": "stdout",
     "output_type": "stream",
     "text": [
      "<re.Match object; span=(0, 6), match='python'>\n"
     ]
    }
   ],
   "source": [
    "m = p.search('python') # search(): 문자열 전체를 검색하여 매칭 여부를 판단\n",
    "print(m) # 문자열 전체가 정규식에 부합하므로 match 객체 반환"
   ]
  },
  {
   "cell_type": "code",
   "execution_count": 16,
   "metadata": {},
   "outputs": [
    {
     "name": "stdout",
     "output_type": "stream",
     "text": [
      "<re.Match object; span=(2, 8), match='python'>\n"
     ]
    }
   ],
   "source": [
    "m = p.search('3 python')\n",
    "# search()는 match()와 달리, 문자열 전체에서 매칭 여부를 판단하므로,\n",
    "# 부합하는 부분이 있을 경우 무조건 match 객체를 반환한다.\n",
    "print(m) # 2번 문자부터 정규식에 부합하므로 match 객체 반환"
   ]
  },
  {
   "cell_type": "markdown",
   "metadata": {},
   "source": [
    "### findall"
   ]
  },
  {
   "cell_type": "code",
   "execution_count": 17,
   "metadata": {},
   "outputs": [
    {
     "name": "stdout",
     "output_type": "stream",
     "text": [
      "['ife', 'is', 'too', 'short']\n"
     ]
    }
   ],
   "source": [
    "result = p.findall(\"Life is too short.\") # findall(): 매치되는 값을 찾아 리스트로 반환\n",
    "print(result)"
   ]
  },
  {
   "cell_type": "markdown",
   "metadata": {},
   "source": [
    "### finditer"
   ]
  },
  {
   "cell_type": "code",
   "execution_count": 18,
   "metadata": {},
   "outputs": [
    {
     "name": "stdout",
     "output_type": "stream",
     "text": [
      "<callable_iterator object at 0x0000019E04623250>\n",
      "<re.Match object; span=(1, 4), match='ife'>\n",
      "<re.Match object; span=(5, 7), match='is'>\n",
      "<re.Match object; span=(8, 11), match='too'>\n",
      "<re.Match object; span=(12, 17), match='short'>\n"
     ]
    }
   ],
   "source": [
    "result = p.finditer(\"Life is too short.\") # finditer(): 매치되는 값을 찾아 이터레이터로 반환\n",
    "print(result)\n",
    "for r in result: print(r) # 이터레이터의 각 요소는 match 객체이다."
   ]
  },
  {
   "cell_type": "markdown",
   "metadata": {},
   "source": [
    "## match 객체의 메서드"
   ]
  },
  {
   "cell_type": "code",
   "execution_count": 19,
   "metadata": {},
   "outputs": [
    {
     "data": {
      "text/plain": [
       "(0, 6)"
      ]
     },
     "execution_count": 19,
     "metadata": {},
     "output_type": "execute_result"
    }
   ],
   "source": [
    "# match 객체에는 다음의 메서드가 존재한다.\n",
    "# group(): 매치된 문자열을 반환\n",
    "# start(): 매치된 문자열의 시작 위치를 반환\n",
    "# end(): 매치된 문자열의 끝 위치를 반환\n",
    "# span(): 매치된 문자열의 시작, 끝 위치를 튜플로 반환\n",
    "m = p.match('python')\n",
    "m.group() # 'python'\n",
    "m.start() # 0, match() 메서드로 반환한 match 객체의 start()를 호출하면, 반드시 0이 반환된다.\n",
    "m.end() # 6\n",
    "m.span()"
   ]
  },
  {
   "cell_type": "code",
   "execution_count": 20,
   "metadata": {},
   "outputs": [],
   "source": [
    "# 컴파일과 match() 메서드를 한 번에 수행할 수도 있다.\n",
    "m = re.match('[a-z]+', 'python')"
   ]
  },
  {
   "cell_type": "markdown",
   "metadata": {},
   "source": [
    "## 컴파일 옵션"
   ]
  },
  {
   "cell_type": "markdown",
   "metadata": {},
   "source": [
    "### DOTALL, S"
   ]
  },
  {
   "cell_type": "code",
   "execution_count": 21,
   "metadata": {},
   "outputs": [
    {
     "name": "stdout",
     "output_type": "stream",
     "text": [
      "None\n"
     ]
    }
   ],
   "source": [
    "# 정규식 컴파일엔 다양한 옵션을 사용할 수 있다.\n",
    "import re\n",
    "p = re.compile('a.b')\n",
    "m = p.match('a\\nb')\n",
    "print(m) # 메타 문자 .는 개행 문자(\\n)를 매칭하지 않는다."
   ]
  },
  {
   "cell_type": "code",
   "execution_count": 22,
   "metadata": {},
   "outputs": [
    {
     "name": "stdout",
     "output_type": "stream",
     "text": [
      "<re.Match object; span=(0, 3), match='a\\nb'>\n"
     ]
    }
   ],
   "source": [
    "p = re.compile('a.b', re.DOTALL)\n",
    "# 개행 문자(\\n)를 포함하여 매칭할 땐, re.DOTALL이나 re.S 옵션을 사용할 수 있다.\n",
    "m = p.match('a\\nb')\n",
    "print(m) # 개행 문자가 매칭되었다.\n",
    "# re.DOTALL이나 re.S는 주로 여러 줄 문자열을\n",
    "# 개행에 상관없이 매칭할 때 사용한다."
   ]
  },
  {
   "cell_type": "markdown",
   "metadata": {},
   "source": [
    "### IGNORECASE, I"
   ]
  },
  {
   "cell_type": "code",
   "execution_count": 23,
   "metadata": {},
   "outputs": [
    {
     "data": {
      "text/plain": [
       "<re.Match object; span=(0, 6), match='PYTHON'>"
      ]
     },
     "execution_count": 23,
     "metadata": {},
     "output_type": "execute_result"
    }
   ],
   "source": [
    "p = re.compile('[a-z]+', re.I)\n",
    "# 대소문자를 구분하지 않고 매칭할 땐, re.IGNORECASE나 re.I 옵션을 사용할 수 있다.\n",
    "p.match('python') # <re.Match object; span=(0, 6), match='python'>\n",
    "p.match('Python') # <re.Match object; span=(0, 6), match='python'>\n",
    "p.match('PYTHON')"
   ]
  },
  {
   "cell_type": "markdown",
   "metadata": {},
   "source": [
    "### VERBOSE, X"
   ]
  },
  {
   "cell_type": "code",
   "execution_count": 24,
   "metadata": {},
   "outputs": [],
   "source": [
    "# 전문가들의 정규식은 매우 보기 어렵다.\n",
    "charref = re.compile(r'&[#](0[0-7]+|[0-9]+|x[0-9a-fA-F]+);')"
   ]
  },
  {
   "cell_type": "code",
   "execution_count": 25,
   "metadata": {},
   "outputs": [],
   "source": [
    "charref = re.compile(r\"\"\"\n",
    "&[#]                 # 숫자를 나타내는 '#' 문자 참조(&)\n",
    "(\n",
    "    0[0-7]+          # 0으로 시작하고 0부터 7까지의 숫자([0-7])가 반복(+), 8진수 형태\n",
    "  | [0-9]+           # 0부터 9까지의 숫자([0-9])가 반복(+), 10진수 형태\n",
    "  | x[0-9a-fA-F]+    # x로 시작하고 0-9, a-f, A-F의 숫자와 문자([0-9a-fA-F])가 반복(+), 16진수 형태\n",
    ")\n",
    ";                    # 문자 참조의 끝(;)\n",
    "\"\"\", re.VERBOSE) # re.VERBOSE는 []안에 쓰인 것을 제외한 모든 화이트스페이스를 제거하고 컴파일함을 의미한다.\n",
    "# 따라서, 위 코드는 charref = re.compile(r'&[#](0[0-7]+|[0-9]+|x[0-9a-fA-F]+);')과 동일하다.\n",
    "# 더 보기 편하게 주석을 달아줄 때 이 옵션을 사용할 수 있다."
   ]
  },
  {
   "cell_type": "markdown",
   "metadata": {},
   "source": [
    "## 역슬래시 문제"
   ]
  },
  {
   "cell_type": "code",
   "execution_count": 26,
   "metadata": {},
   "outputs": [
    {
     "name": "stderr",
     "output_type": "stream",
     "text": [
      "<>:1: SyntaxWarning: invalid escape sequence '\\s'\n",
      "<>:1: SyntaxWarning: invalid escape sequence '\\s'\n",
      "C:\\Users\\SAMSUNG\\AppData\\Local\\Temp\\ipykernel_43528\\2794795177.py:1: SyntaxWarning: invalid escape sequence '\\s'\n",
      "  mystr = \"\"\"\\section\n"
     ]
    }
   ],
   "source": [
    "mystr = \"\"\"\\section\n",
    "Apink\n",
    "(G)IDLE\n",
    "\"\"\"\n",
    "# 경고: \\s가 지원하지 않는 이스케이프 코드\n",
    "# 사용하고 싶은 문자열에서 \\이 이스케이프의 의미를 가지지 않음\n",
    "# 이 경우, 자동으로 \\는 두 개로 처리된다.\n",
    "# 위 문자열 {mystr}에서 '\\section' 문자열을 찾고 싶음."
   ]
  },
  {
   "cell_type": "code",
   "execution_count": 27,
   "metadata": {},
   "outputs": [
    {
     "name": "stdout",
     "output_type": "stream",
     "text": [
      "[]\n"
     ]
    }
   ],
   "source": [
    "# 위 문자열을 찾기 위해 정규식을 '\\section'으로 구성하면, 의도에서 벗어난다.\n",
    "# '\\section'은 '[ \\t\\n\\r\\f\\v]ection'과 같으므로, 다르게 해석된다.\n",
    "# 의도를 달성하기 위해선, 파이썬 리터럴 규칙에 따라 다음과 같이 정규식을 써야 한다.\n",
    "p = re.compile('\\\\section') # 정규식에서 역슬래시(\\) 자체를 사용하고자 함을 의미\n",
    "print(p.findall(mystr)) # 이 경우, 실제 {mystr}에는 역슬래시가 2개 있으므로 아무것도 매칭되지 않는다."
   ]
  },
  {
   "cell_type": "code",
   "execution_count": 28,
   "metadata": {},
   "outputs": [
    {
     "name": "stdout",
     "output_type": "stream",
     "text": [
      "['\\\\section']\n"
     ]
    }
   ],
   "source": [
    "# 매칭을 원하는 문자열이 '\\\\section'일 경우, 다음과 같이 정규식을 써야 한다.\n",
    "p = re.compile('\\\\\\\\section')\n",
    "# {mystr}의 역슬래시 2개를 찾기 위해선, 컴파일 때 이스케이프를 고려하여 역슬래시를 4개 사용해야 한다.\n",
    "print(p.findall(mystr))\n",
    "# 출력 때 보이는 문자열에 비해 4배 더 많은 역슬래시를 쳐야 한다.\n",
    "# 이는 역슬래시가 늘어날수록 비효율적이고 보기도 복잡해진다."
   ]
  },
  {
   "cell_type": "code",
   "execution_count": 29,
   "metadata": {},
   "outputs": [
    {
     "name": "stdout",
     "output_type": "stream",
     "text": [
      "['\\\\section']\n"
     ]
    }
   ],
   "source": [
    "# 위 문제점을 해결하기 위해, 로 스트링(raw string) 표현법을 사용한다.\n",
    "p = re.compile(r'\\\\section') # 문자열 앞에 r 키워드를 붙이면 이스케이프를 고려하지 않고 \\를 문자 자체로 해석한다.\n",
    "print(p.findall(mystr))"
   ]
  }
 ],
 "metadata": {
  "kernelspec": {
   "display_name": "Python 3",
   "language": "python",
   "name": "python3"
  },
  "language_info": {
   "codemirror_mode": {
    "name": "ipython",
    "version": 3
   },
   "file_extension": ".py",
   "mimetype": "text/x-python",
   "name": "python",
   "nbconvert_exporter": "python",
   "pygments_lexer": "ipython3",
   "version": "3.12.4"
  }
 },
 "nbformat": 4,
 "nbformat_minor": 2
}
