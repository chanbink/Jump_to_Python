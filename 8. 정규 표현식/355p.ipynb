{
 "cells": [
  {
   "cell_type": "markdown",
   "metadata": {},
   "source": [
    "# 정규 표현식 살펴보기"
   ]
  },
  {
   "cell_type": "markdown",
   "metadata": {},
   "source": [
    "## 정규 표현식은 왜 필요한가?"
   ]
  },
  {
   "cell_type": "code",
   "execution_count": 1,
   "metadata": {},
   "outputs": [
    {
     "name": "stdout",
     "output_type": "stream",
     "text": [
      "\n",
      "Cho 970131-*******\n",
      "Jeon 980826-*******\n",
      "\n"
     ]
    }
   ],
   "source": [
    "# 주민등록번호를 포함하는 텍스트가 있다. 뒷자리를 *로 변경하라.\n",
    "data = \"\"\"\n",
    "Cho 970131-2345678\n",
    "Jeon 980826-2468024\n",
    "\"\"\"\n",
    "\n",
    "result = []\n",
    "\n",
    "for line in data.split('\\n'): # 문자열을 줄로 나누어 리스트로 반환\n",
    "    word_result = []\n",
    "    for word in line.split(' '): # 공백을 기준으로 문자열 분리(성과 주민등록번호 분리)\n",
    "        if len(word) == 14 and word[:6].isdigit() and word[7:].isdigit(): # 현재 문자열이 주민등록번호인지 확인\n",
    "            # isdigit(): 문자열이 숫자로만 구성되어 있으면 True, 아니면 False 반환\n",
    "            word = word[:6] + '-' + '*******' # 뒷 자리를 바꾸어 재구성\n",
    "        word_result.append(word) # 재구성한 문자열(성과 수정된 주민등록번호)을 리스트에 추가\n",
    "    result.append(' '.join(word_result)) # 리스트의 문자열을 공백을 추가하여 더하고 각 줄을 리스트에 대입\n",
    "\n",
    "print('\\n'.join(result)) # 각 줄을 라인 피드로 결합"
   ]
  },
  {
   "cell_type": "code",
   "execution_count": 2,
   "metadata": {},
   "outputs": [
    {
     "name": "stdout",
     "output_type": "stream",
     "text": [
      "\n",
      "Cho 970131-*******\n",
      "Jeon 980826-*******\n",
      "\n"
     ]
    },
    {
     "name": "stderr",
     "output_type": "stream",
     "text": [
      "<>:9: SyntaxWarning: invalid escape sequence '\\d'\n",
      "<>:10: SyntaxWarning: invalid escape sequence '\\g'\n",
      "<>:9: SyntaxWarning: invalid escape sequence '\\d'\n",
      "<>:10: SyntaxWarning: invalid escape sequence '\\g'\n",
      "C:\\Users\\SAMSUNG\\AppData\\Local\\Temp\\ipykernel_46872\\2703764291.py:9: SyntaxWarning: invalid escape sequence '\\d'\n",
      "  pat = re.compile(\"(\\d{6})[-]\\d{7}\")\n",
      "C:\\Users\\SAMSUNG\\AppData\\Local\\Temp\\ipykernel_46872\\2703764291.py:10: SyntaxWarning: invalid escape sequence '\\g'\n",
      "  print(pat.sub(\"\\g<1>-*******\", data))\n"
     ]
    }
   ],
   "source": [
    "# 정규 표현식을 사용하면 위의 코드를 간단하게 할 수 있다.\n",
    "import re # 정규 표현식 사용을 위한 모듈\n",
    "\n",
    "data = \"\"\"\n",
    "Cho 970131-2345678\n",
    "Jeon 980826-2468024\n",
    "\"\"\"\n",
    "\n",
    "pat = re.compile(\"(\\d{6})[-]\\d{7}\")\n",
    "print(pat.sub(\"\\g<1>-*******\", data))\n",
    "# 다루는 문자열이 복잡할수록 정규 표현식의 효용이 커진다."
   ]
  }
 ],
 "metadata": {
  "kernelspec": {
   "display_name": "Python 3",
   "language": "python",
   "name": "python3"
  },
  "language_info": {
   "codemirror_mode": {
    "name": "ipython",
    "version": 3
   },
   "file_extension": ".py",
   "mimetype": "text/x-python",
   "name": "python",
   "nbconvert_exporter": "python",
   "pygments_lexer": "ipython3",
   "version": "3.12.4"
  }
 },
 "nbformat": 4,
 "nbformat_minor": 2
}
