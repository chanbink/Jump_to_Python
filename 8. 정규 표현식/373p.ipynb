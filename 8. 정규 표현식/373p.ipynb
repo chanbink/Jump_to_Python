{
 "cells": [
  {
   "cell_type": "markdown",
   "metadata": {},
   "source": [
    "# 강력한 정규 표현식의 세계로"
   ]
  },
  {
   "cell_type": "markdown",
   "metadata": {},
   "source": [
    "## 문자열 소비가 없는 메타 문자"
   ]
  },
  {
   "cell_type": "code",
   "execution_count": 1,
   "metadata": {},
   "outputs": [],
   "source": [
    "# +, *, [], {} 등의 메타 문자는 매치가 성사되면 탐색 위치가 변한다.\n",
    "# 이들을 사용하여 매칭이 성공하면, 해당 문자열은 제외하고 다음 매칭을 시도한다.\n",
    "# 이를 문자열을 소비한다(consume)고 한다.\n",
    "# 하지만, 이들과 달리 문자열을 소비하지 않는 메타 문자도 있다.\n",
    "import re"
   ]
  },
  {
   "cell_type": "markdown",
   "metadata": {},
   "source": [
    "### |"
   ]
  },
  {
   "cell_type": "code",
   "execution_count": 2,
   "metadata": {},
   "outputs": [
    {
     "name": "stdout",
     "output_type": "stream",
     "text": [
      "<re.Match object; span=(0, 6), match='Miyeon'>\n"
     ]
    }
   ],
   "source": [
    "# |는 or과 같은 의미로 사용한다.\n",
    "p = re.compile('Miyeon|Soyeon') # 'Miyeon' 또는 'Soyeon'과 매칭을 시도\n",
    "m = p.match(\"MiyeonSoyeon\") # 첫 문자열이 Miyeon이라 매칭 성공\n",
    "print(m)"
   ]
  },
  {
   "cell_type": "markdown",
   "metadata": {},
   "source": [
    "### ^"
   ]
  },
  {
   "cell_type": "code",
   "execution_count": 3,
   "metadata": {},
   "outputs": [
    {
     "name": "stdout",
     "output_type": "stream",
     "text": [
      "<re.Match object; span=(0, 6), match='Soyeon'>\n",
      "None\n"
     ]
    }
   ],
   "source": [
    "# 메타 문자 ^는 문자열의 맨 처음과 일치함을 의미한다.\n",
    "print(re.search('^Soyeon', \"Soyeon is not short\"))\n",
    "print(re.search('^Soyeon', \"I love Soyeon.\")) # 문자열의 처음에 'Soyeon'이 위치하지 않으므로 None을 반환"
   ]
  },
  {
   "cell_type": "markdown",
   "metadata": {},
   "source": [
    "### $"
   ]
  },
  {
   "cell_type": "code",
   "execution_count": 4,
   "metadata": {},
   "outputs": [
    {
     "name": "stdout",
     "output_type": "stream",
     "text": [
      "<re.Match object; span=(17, 21), match='Yuqi'>\n",
      "None\n"
     ]
    }
   ],
   "source": [
    "# 메타 문자 $는 문자열의 맨 끝과 일치함을 의미한다.\n",
    "print(re.search('Yuqi$', \"Her name is Song Yuqi\"))\n",
    "print(re.search('Yuqi$', \"Yuqi xing Song.\")) # 문자열의 끝에 'Yuqi'가 위치하지 않으므로 None을 반환"
   ]
  },
  {
   "cell_type": "markdown",
   "metadata": {},
   "source": [
    "### \\A"
   ]
  },
  {
   "cell_type": "code",
   "execution_count": 5,
   "metadata": {},
   "outputs": [
    {
     "name": "stdout",
     "output_type": "stream",
     "text": [
      "['gidle']\n"
     ]
    }
   ],
   "source": [
    "multistr = \"\"\"gidle Miyeon\n",
    "gidle Minnie\n",
    "gidle Soyeon\n",
    "gidle Yuqi\n",
    "gidle Shuhua\"\"\"\n",
    "\n",
    "print(re.findall('^gidle', multistr)) # {multistr} 전체의 처음을 기준으로 'gidle' 매칭"
   ]
  },
  {
   "cell_type": "code",
   "execution_count": 6,
   "metadata": {},
   "outputs": [
    {
     "name": "stdout",
     "output_type": "stream",
     "text": [
      "['gidle', 'gidle', 'gidle', 'gidle', 'gidle']\n",
      "['gidle']\n"
     ]
    }
   ],
   "source": [
    "print(re.findall('^gidle', multistr, re.MULTILINE)) # re.MULTILINE 옵션에 의해 각 줄마다 'gidle' 매칭\n",
    "print(re.findall(r'\\Agidle', multistr, re.MULTILINE)) # \\A는 {multistr} 전체의 처음을 의미한다."
   ]
  },
  {
   "cell_type": "markdown",
   "metadata": {},
   "source": [
    "### \\Z"
   ]
  },
  {
   "cell_type": "code",
   "execution_count": 7,
   "metadata": {},
   "outputs": [
    {
     "name": "stdout",
     "output_type": "stream",
     "text": [
      "['gidle', 'gidle', 'gidle', 'gidle', 'gidle']\n",
      "['gidle']\n"
     ]
    }
   ],
   "source": [
    "multistr = \"\"\"Miyeon gidle\n",
    "Minnie gidle\n",
    "Soyeon gidle\n",
    "Yuqi gidle\n",
    "Shuhua gidle\"\"\"\n",
    "\n",
    "print(re.findall('gidle$', multistr, re.MULTILINE))\n",
    "print(re.findall(r'gidle\\Z', multistr, re.MULTILINE)) # \\Z는 {multistr} 전체의 처음을 의미한다."
   ]
  },
  {
   "cell_type": "markdown",
   "metadata": {},
   "source": [
    "### \\b"
   ]
  },
  {
   "cell_type": "code",
   "execution_count": 8,
   "metadata": {},
   "outputs": [
    {
     "name": "stdout",
     "output_type": "stream",
     "text": [
      "<re.Match object; span=(3, 8), match='class'>\n"
     ]
    }
   ],
   "source": [
    "# \\b는 단어 구분자(word boundary)라 한다. 단어는 화이트스페이스로 구분된다.\n",
    "p = re.compile(r'\\bclass\\b')\n",
    "print(p.search(\"No class at all\")) # 'class'라는 문자열 공백으로 구분되므로 \\b 옵션으로 매칭된다."
   ]
  },
  {
   "cell_type": "code",
   "execution_count": 9,
   "metadata": {},
   "outputs": [
    {
     "name": "stdout",
     "output_type": "stream",
     "text": [
      "None\n"
     ]
    }
   ],
   "source": [
    "print(p.search(\"the declassified algorithm\"))\n",
    "# 'class'가 포함되어 있으나, 공백으로 구분되지 않으므로 매칭되지 않는다."
   ]
  },
  {
   "cell_type": "code",
   "execution_count": 10,
   "metadata": {},
   "outputs": [
    {
     "name": "stdout",
     "output_type": "stream",
     "text": [
      "None\n"
     ]
    }
   ],
   "source": [
    "print(p.search(\"one subclass is\"))\n",
    "# 'class'가 포함되어 있으나, 앞에 'sub'가 더해져 구분되지 않으므로 매칭되지 않는다."
   ]
  },
  {
   "cell_type": "markdown",
   "metadata": {},
   "source": [
    "### \\B"
   ]
  },
  {
   "cell_type": "code",
   "execution_count": 11,
   "metadata": {},
   "outputs": [
    {
     "name": "stdout",
     "output_type": "stream",
     "text": [
      "None\n",
      "<re.Match object; span=(6, 11), match='class'>\n",
      "None\n"
     ]
    }
   ],
   "source": [
    "# \\B는 공백으로 구분되지 않는 문자열과 매칭한다.\n",
    "p = re.compile(r'\\Bclass\\B')\n",
    "print(p.search('no class at all')) # 'class' 앞뒤로 공백이 있어 구분되므로 매칭되지 않는다.\n",
    "print(p.search('the declassified algorithm'))\n",
    "print(p.search('one subclass is')) # 'class' 뒤에 공백이 있으므로 매칭되지 않는다."
   ]
  },
  {
   "cell_type": "markdown",
   "metadata": {},
   "source": [
    "## 그루핑"
   ]
  },
  {
   "cell_type": "code",
   "execution_count": 12,
   "metadata": {},
   "outputs": [
    {
     "name": "stdout",
     "output_type": "stream",
     "text": [
      "<re.Match object; span=(0, 18), match='MinnieMinnieMinnie'>\n",
      "MinnieMinnieMinnie\n"
     ]
    }
   ],
   "source": [
    "# 특정 문자열의 반복을 확인할 때, 그루핑(grouping)을 이용할 수 있다.\n",
    "# 그루핑은 괄호()를 이용한다.\n",
    "p = re.compile('(Minnie)+')\n",
    "m = p.search('MinnieMinnieMinnie OK?')\n",
    "print(m) # 그루핑으로 'Minnie'의 반복을 찾아냄\n",
    "print(m.group()) # group(): 정규식 패턴과 일치하는 문자열을 반환"
   ]
  },
  {
   "cell_type": "code",
   "execution_count": 13,
   "metadata": {},
   "outputs": [],
   "source": [
    "p = re.compile(r\"\\w+\\s+d+[-]\\d+[-]\\d+\") # 문자 + 공백 + 숫자 + '-' + 숫자 + '-' + 숫자\n",
    "m = p.search(\"Koo 010-6743-2858\")"
   ]
  },
  {
   "cell_type": "code",
   "execution_count": 14,
   "metadata": {},
   "outputs": [
    {
     "name": "stdout",
     "output_type": "stream",
     "text": [
      "Koo\n"
     ]
    }
   ],
   "source": [
    "# 위 문자열에서 이름만 뽑아내고자 함\n",
    "p = re.compile(r\"(\\w+)\\s+\\d+[-]\\d+[-]\\d+\") # 앞의 문자 부분을 그루핑\n",
    "m = p.search(\"Koo 010-6743-2858\")\n",
    "print(m.group(1)) # 첫 번째 그룹에 해당되는 문자열 반환"
   ]
  },
  {
   "cell_type": "code",
   "execution_count": 15,
   "metadata": {},
   "outputs": [
    {
     "name": "stdout",
     "output_type": "stream",
     "text": [
      "010-6743-2858\n"
     ]
    }
   ],
   "source": [
    "# 위 문자열에서 전화번호만 뽑아내고자 함\n",
    "p = re.compile(r\"(\\w+)\\s+(\\d+[-]\\d+[-]\\d+)\") # 앞의 문자 부분과 뒤의 전화번호 부분을 그루핑\n",
    "m = p.search(\"Koo 010-6743-2858\")\n",
    "print(m.group(2)) # 두 번째 그룹에 해당되는 문자열 반환"
   ]
  },
  {
   "cell_type": "code",
   "execution_count": 16,
   "metadata": {},
   "outputs": [
    {
     "name": "stdout",
     "output_type": "stream",
     "text": [
      "010\n"
     ]
    }
   ],
   "source": [
    "# 문자열에서 국번만 뽑아내고자 함\n",
    "p = re.compile(r\"(\\w+)\\s+((\\d+)[-]\\d+[-]\\d+)\") # 전화번호 부분의 맨 앞 숫자를 중첩하여 그루핑\n",
    "m = p.search(\"Koo 010-6743-2858\")\n",
    "print(m.group(3)) # 중첩된 그룹은 바깥쪽부터 안쪽으로 인덱스 증가"
   ]
  },
  {
   "cell_type": "markdown",
   "metadata": {},
   "source": [
    "### 그루핑된 문자열 재참조하기"
   ]
  },
  {
   "cell_type": "code",
   "execution_count": 17,
   "metadata": {},
   "outputs": [
    {
     "data": {
      "text/plain": [
       "'the the'"
      ]
     },
     "execution_count": 17,
     "metadata": {},
     "output_type": "execute_result"
    }
   ],
   "source": [
    "p = re.compile(r'(\\b\\w+)\\s+\\1') # \\1는 첫 번째 그룹을 재참조(backreference)함을 의미\n",
    "p.search(\"Paris in the the spring\").group()\n",
    "# (\\b\\w+)인 그룹을 재참조하므로 공백+문자를 공백을 두고 재참조 가능한 'the'를 재참조"
   ]
  },
  {
   "cell_type": "markdown",
   "metadata": {},
   "source": [
    "### 그루핑된 문자열에 이름 붙이기"
   ]
  },
  {
   "cell_type": "code",
   "execution_count": 18,
   "metadata": {},
   "outputs": [
    {
     "name": "stdout",
     "output_type": "stream",
     "text": [
      "Koo\n"
     ]
    }
   ],
   "source": [
    "# 특정 그룹을 이름으로 그루핑할 수 있다.\n",
    "# 이름을 붙일 땐 ?를 이용한다. 이렇게 하면 가독성은 떨어지지만, 강력한 기능을 사용할 수 있다.\n",
    "p = re.compile(r\"(?P<name>\\w+)\\s+((\\d+)[-])\") # (\\w+) 그룹에 'name'이라는 이름을 붙임\n",
    "m = p.search(\"Koo 010-6743-2858\")\n",
    "print(m.group('name')) # 'name'으로 명명한 (\\w+) 그룹을 이름으로 참조"
   ]
  },
  {
   "cell_type": "code",
   "execution_count": 19,
   "metadata": {},
   "outputs": [
    {
     "data": {
      "text/plain": [
       "'the the'"
      ]
     },
     "execution_count": 19,
     "metadata": {},
     "output_type": "execute_result"
    }
   ],
   "source": [
    "p = re.compile(r'(?P<word>\\b\\w+)\\s+(?P=word)')\n",
    "p.search(\"Paris in the the spring\").group() # 같은 이름을 사용하고 ?P=를 사용하여 재참조 가능"
   ]
  },
  {
   "cell_type": "markdown",
   "metadata": {},
   "source": [
    "## 전방 탐색"
   ]
  },
  {
   "cell_type": "code",
   "execution_count": 20,
   "metadata": {},
   "outputs": [
    {
     "name": "stdout",
     "output_type": "stream",
     "text": [
      "https:\n"
     ]
    }
   ],
   "source": [
    "p = re.compile(\".+:\") # 아무 문자 반복 + ':'\n",
    "m = p.search(\"https://www.naver.com\")\n",
    "print(m.group())\n",
    "# 만약, :를 빼고 탐색하고 싶다면?"
   ]
  },
  {
   "cell_type": "markdown",
   "metadata": {},
   "source": [
    "### 긍정형 전방 탐색"
   ]
  },
  {
   "cell_type": "code",
   "execution_count": 21,
   "metadata": {},
   "outputs": [
    {
     "name": "stdout",
     "output_type": "stream",
     "text": [
      "https\n"
     ]
    }
   ],
   "source": [
    "# 특정 패턴이 뒤따르는지 확인하지만, 해당 패턴 자체는 소비되지 않는 것을\n",
    "# 전방 탐색(lookahead assertion)이라 한다.\n",
    "# 해당 정규식과 매칭되는 부분을 탐색한다면 긍정형(positive)이라 한다.\n",
    "p = re.compile(\".+(?=:)\")\n",
    "m = p.search(\"https://www.naver.com\")\n",
    "print(m.group()) # :가 탐색에 사용되었으나, 소비되지는 않아 앞부분만 반환된다."
   ]
  },
  {
   "cell_type": "markdown",
   "metadata": {},
   "source": [
    "### 부정형 전방 탐색"
   ]
  },
  {
   "cell_type": "code",
   "execution_count": 22,
   "metadata": {},
   "outputs": [],
   "source": [
    "gidle = \"\"\"Miyeon\n",
    "Minnie.bar\n",
    "Soyeon.exe\n",
    "Yuqi.bat\n",
    "Shuhua.cf\"\"\"\n",
    "\n",
    "# 확장자가 붙은 문자열만 골라내고 싶음."
   ]
  },
  {
   "cell_type": "code",
   "execution_count": 23,
   "metadata": {},
   "outputs": [
    {
     "name": "stdout",
     "output_type": "stream",
     "text": [
      "['Minnie.bar', 'Soyeon.exe', 'Yuqi.bat', 'Shuhua.cf']\n"
     ]
    }
   ],
   "source": [
    "p = re.compile('.*[.].*$', re.MULTILINE)\n",
    "# (아무 문자나 횟수 상관 없이 반복 + '.' + 아무 문자나 상관 없이 반복)으로 마무리\n",
    "m = p.findall(gidle)\n",
    "print(m) # 확장자가 붙은 멤버들만 골라냄\n",
    "\n",
    "# .bat 확장자는 제거하고 싶음"
   ]
  },
  {
   "cell_type": "code",
   "execution_count": 24,
   "metadata": {},
   "outputs": [
    {
     "name": "stdout",
     "output_type": "stream",
     "text": [
      "['Soyeon.exe', 'Shuhua.cf']\n"
     ]
    }
   ],
   "source": [
    "p = re.compile('.*[.][^b].*$', re.MULTILINE)\n",
    "# '.' 뒤에 'b'가 아닌 문자와 매치\n",
    "m = p.findall(gidle) # 'Minnie.bar'도 정규식에 매칭되어 같이 제거된다.\n",
    "print(m)\n",
    "\n",
    "# .bat만 저격하여 제거할 방법이 없을까?"
   ]
  },
  {
   "cell_type": "code",
   "execution_count": 25,
   "metadata": {},
   "outputs": [
    {
     "name": "stdout",
     "output_type": "stream",
     "text": [
      "[('Minnie.bar', 'bar'), ('Soyeon.exe', 'exe')]\n"
     ]
    }
   ],
   "source": [
    "p = re.compile('(.*[.]([^b]..|.[^a].|..[^t])$)', re.MULTILINE)\n",
    "# 각 자리에 'bat'가 안 오도록 매치\n",
    "m = p.findall(gidle) # 확장자가 그루핑되어 있으므로 튜플로 확장자가 같이 출력\n",
    "print(m) # 확장자가 두 글자인 'Shuhua.cf'가 오동작에 의해 같이 제거됨\n",
    "\n",
    "# 확장자 글자 수에 구애받지 않고 제거할 방법이 없을까?"
   ]
  },
  {
   "cell_type": "code",
   "execution_count": 26,
   "metadata": {},
   "outputs": [
    {
     "name": "stdout",
     "output_type": "stream",
     "text": [
      "[('Minnie.bar', 'bar'), ('Soyeon.exe', 'exe'), ('Shuhua.cf', 'cf')]\n"
     ]
    }
   ],
   "source": [
    "p = re.compile('(.*[.]([^b].?.?|.[^a]?.?|..?[^t]?)$)', re.MULTILINE)\n",
    "# ?는 해당 문자가 있어도 없어도 됨을 의미\n",
    "m = p.findall(gidle)\n",
    "print(m) # 확장자 글자 수에 구애받지 않고 캡처 가능\n",
    "\n",
    "# 목적은 달성했지만 정규식이 너무 복잡해진다. 간단하게 표현할 방법이 없을까?"
   ]
  },
  {
   "cell_type": "code",
   "execution_count": 27,
   "metadata": {},
   "outputs": [
    {
     "name": "stdout",
     "output_type": "stream",
     "text": [
      "['Minnie.bar', 'Soyeon.exe', 'Shuhua.cf']\n"
     ]
    }
   ],
   "source": [
    "p = re.compile('.*[.](?!bat$).*$', re.MULTILINE)\n",
    "# 부정형 전방 탐색: 'bat'이 없어 해당 문자와 매칭되지 않는 경우만 탐색\n",
    "m = p.findall(gidle)\n",
    "print(m)\n",
    "\n",
    "# .bat만 정확하게 저격하여 제거 가능"
   ]
  },
  {
   "cell_type": "code",
   "execution_count": 28,
   "metadata": {},
   "outputs": [
    {
     "name": "stdout",
     "output_type": "stream",
     "text": [
      "['Minnie.bar', 'Shuhua.cf']\n"
     ]
    }
   ],
   "source": [
    "# 만약, .exe도 같이 제거하고 싶다면?\n",
    "p = re.compile('.*[.](?!bat$|exe$).*$', re.MULTILINE)\n",
    "m = p.findall(gidle)\n",
    "print(m)\n",
    "\n",
    "# .exe도 같이 저격하여 제거"
   ]
  },
  {
   "cell_type": "markdown",
   "metadata": {},
   "source": [
    "## 문자열 바꾸기"
   ]
  },
  {
   "cell_type": "code",
   "execution_count": 29,
   "metadata": {},
   "outputs": [
    {
     "data": {
      "text/plain": [
       "'color socks and color shoes'"
      ]
     },
     "execution_count": 29,
     "metadata": {},
     "output_type": "execute_result"
    }
   ],
   "source": [
    "p = re.compile('(blue|white|red)')\n",
    "p.sub('color', 'blue socks and red shoes') # sub(): 뒤의 인수 중 매치되는 부분을 앞의 인수로 변경"
   ]
  },
  {
   "cell_type": "code",
   "execution_count": 30,
   "metadata": {},
   "outputs": [
    {
     "data": {
      "text/plain": [
       "'color socks and red shoes'"
      ]
     },
     "execution_count": 30,
     "metadata": {},
     "output_type": "execute_result"
    }
   ],
   "source": [
    "p.sub('color', 'blue socks and red shoes', count=1)\n",
    "# 바꿀 횟수를 지정할 수 있다. 단, 바꾸기는 처음부터 시작된다."
   ]
  },
  {
   "cell_type": "code",
   "execution_count": 31,
   "metadata": {},
   "outputs": [
    {
     "data": {
      "text/plain": [
       "('color socks and color shoes', 2)"
      ]
     },
     "execution_count": 31,
     "metadata": {},
     "output_type": "execute_result"
    }
   ],
   "source": [
    "# subn()도 비슷한 기능을 한다.\n",
    "p = re.compile('(blue|white|red)')\n",
    "p.subn('color', 'blue socks and red shoes')\n",
    "# subn(): 문자열 중 매치되는 부분을 고쳐 고친 문자열과 수정 횟수를 튜플로 반환"
   ]
  },
  {
   "cell_type": "markdown",
   "metadata": {},
   "source": [
    "### sub 메서드 사용 시 참조 구문 사용하기"
   ]
  },
  {
   "cell_type": "code",
   "execution_count": 32,
   "metadata": {},
   "outputs": [
    {
     "name": "stdout",
     "output_type": "stream",
     "text": [
      "010-6743-2858 Koo\n"
     ]
    }
   ],
   "source": [
    "p = re.compile(r\"(?P<name>\\w+)\\s+(?P<phone>(\\d+)[-]\\d+[-]\\d+)\") # 그룹에 이름 붙임\n",
    "print(p.sub(r\"\\g<phone> \\g<name>\", \"Koo 010-6743-2858\")) # \\g를 통해 그룹 이름을 참조 가능"
   ]
  },
  {
   "cell_type": "code",
   "execution_count": 33,
   "metadata": {},
   "outputs": [
    {
     "name": "stdout",
     "output_type": "stream",
     "text": [
      "010-6743-2858 Koo\n"
     ]
    }
   ],
   "source": [
    "p = re.compile(r\"(?P<name>\\w+)\\s+(?P<phone>(\\d+[-]\\d+[-]\\d+))\")\n",
    "print(p.sub(r\"\\g<2> \\g<1>\", \"Koo 010-6743-2858\")) # 참조 번호를 사용하여 참조 가능"
   ]
  },
  {
   "cell_type": "markdown",
   "metadata": {},
   "source": [
    "### sub 메서드의 매개변수로 함수 넣기"
   ]
  },
  {
   "cell_type": "code",
   "execution_count": 34,
   "metadata": {},
   "outputs": [
    {
     "data": {
      "text/plain": [
       "'Call 0xffd2 for printing, 0xc000 for user code.'"
      ]
     },
     "execution_count": 34,
     "metadata": {},
     "output_type": "execute_result"
    }
   ],
   "source": [
    "# sub() 메서드의 첫 번째 인수로 함수를 전달할 수 있다.\n",
    "def hexrepl(match):\n",
    "    value = int(match.group()) # 받은 match 객체의 그루핑된 곳을 group() 메서드로 추출하여 int형으로 바꾸어 저장\n",
    "    return hex(value) # {value}를 16진수 형태로 전환\n",
    "\n",
    "p = re.compile(r'\\d+')\n",
    "p.sub(hexrepl, 'Call 65490 for printing, 49152 for user code.') # 숫자 부분이 16진수 형태로 바뀌었다."
   ]
  },
  {
   "cell_type": "markdown",
   "metadata": {},
   "source": [
    "## greedy와 non-greedy"
   ]
  },
  {
   "cell_type": "code",
   "execution_count": 35,
   "metadata": {},
   "outputs": [
    {
     "name": "stdout",
     "output_type": "stream",
     "text": [
      "(0, 32)\n",
      "<html><head><title>Title</title>\n"
     ]
    }
   ],
   "source": [
    "# 반복 메타 문자 *, +, {}, ?는 최대한 많은 문자열을 매칭하려 한다.\n",
    "# 이를 탐욕스러운(greedy) 매칭이라 한다.\n",
    "s = '<html><head><title>Title</title>'\n",
    "len(s) # 32\n",
    "print(re.match('<.*>', s).span())\n",
    "print(re.match('<.*>', s).group())\n",
    "# 매치 가능한 모든 문자열(양 끝의 <와 >를 경계로 한 문자열)을 전부 반환한다."
   ]
  },
  {
   "cell_type": "code",
   "execution_count": 36,
   "metadata": {},
   "outputs": [
    {
     "name": "stdout",
     "output_type": "stream",
     "text": [
      "<html>\n"
     ]
    }
   ],
   "source": [
    "# ?를 반복 메타 문자 뒤에 사용하여, (*?, +?, ??, {}?)\n",
    "# 반복 문자의 탐욕을 제어할 수 있다.\n",
    "# 이를 탐욕적이지 않은(non-greedy) 매칭이라 한다.\n",
    "print(re.match('<.*?>', s).group())\n",
    "# 매치 가능한 가장 작은 단위의 문자열을 반환한다."
   ]
  }
 ],
 "metadata": {
  "kernelspec": {
   "display_name": "Python 3",
   "language": "python",
   "name": "python3"
  },
  "language_info": {
   "codemirror_mode": {
    "name": "ipython",
    "version": 3
   },
   "file_extension": ".py",
   "mimetype": "text/x-python",
   "name": "python",
   "nbconvert_exporter": "python",
   "pygments_lexer": "ipython3",
   "version": "3.12.4"
  }
 },
 "nbformat": 4,
 "nbformat_minor": 2
}
