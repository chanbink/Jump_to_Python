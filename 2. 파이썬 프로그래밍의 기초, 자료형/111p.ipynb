{
 "cells": [
  {
   "cell_type": "markdown",
   "metadata": {},
   "source": [
    "# 자료형의 값을 저장하는 공간, 변수"
   ]
  },
  {
   "cell_type": "markdown",
   "metadata": {},
   "source": [
    "## 변수는 어떻게 만들까?"
   ]
  },
  {
   "cell_type": "code",
   "execution_count": 1,
   "metadata": {},
   "outputs": [],
   "source": [
    "a = 1 # 대입 연산자 =를 사용하여 변수에 값을 저장\n",
    "b = 'Minnie' # C, C++ 등과 달리 파이썬은 대입할 때 알아서 자료형을 지정한다.\n",
    "c = [1, 2, 3]"
   ]
  },
  {
   "cell_type": "code",
   "execution_count": 2,
   "metadata": {},
   "outputs": [
    {
     "data": {
      "text/plain": [
       "1929981010368"
      ]
     },
     "execution_count": 2,
     "metadata": {},
     "output_type": "execute_result"
    }
   ],
   "source": [
    "a = [1, 2, 3] # {a}는 리스트 [1, 2, 3]이 저장된 메모리 주소를 가리킨다.\n",
    "id(a) # 변수가 가리키는 주소는 id() 함수로 확인할 수 있다."
   ]
  },
  {
   "cell_type": "markdown",
   "metadata": {},
   "source": [
    "## 리스트를 복사하고자 할 때"
   ]
  },
  {
   "cell_type": "code",
   "execution_count": 3,
   "metadata": {},
   "outputs": [],
   "source": [
    "a = [1, 2, 3] # [1, 2, 3]이라는 값을 가지는 리스트 객체를 메모리에 생성하고 변수 {a}는 이 메모리의 주소를 가리킴\n",
    "b = a # 변수 {b}에 {a}를 대입"
   ]
  },
  {
   "cell_type": "code",
   "execution_count": 4,
   "metadata": {},
   "outputs": [
    {
     "data": {
      "text/plain": [
       "1929981016512"
      ]
     },
     "execution_count": 4,
     "metadata": {},
     "output_type": "execute_result"
    }
   ],
   "source": [
    "id(a) # id{b}와 같은 값 출력\n",
    "id(b) # 위의 b = a는 [1, 2, 3]이라는 리스트 객체를 참조하는 변수에 {b}를 추가한다는 의미이다."
   ]
  },
  {
   "cell_type": "code",
   "execution_count": 5,
   "metadata": {},
   "outputs": [
    {
     "data": {
      "text/plain": [
       "True"
      ]
     },
     "execution_count": 5,
     "metadata": {},
     "output_type": "execute_result"
    }
   ],
   "source": [
    "a is b"
   ]
  },
  {
   "cell_type": "code",
   "execution_count": 6,
   "metadata": {},
   "outputs": [
    {
     "data": {
      "text/plain": [
       "[1, 4, 3]"
      ]
     },
     "execution_count": 6,
     "metadata": {},
     "output_type": "execute_result"
    }
   ],
   "source": [
    "a[1] = 4 # 리스트 {a}의 두 번째 요소를 4로 변경\n",
    "a # [1, 4, 3]\n",
    "b # {a}와 동일한 객체를 가리키므로 a를 변경하면 같이 변경된다."
   ]
  },
  {
   "cell_type": "markdown",
   "metadata": {},
   "source": [
    "### 1. [:] 이용하기"
   ]
  },
  {
   "cell_type": "code",
   "execution_count": 7,
   "metadata": {},
   "outputs": [
    {
     "data": {
      "text/plain": [
       "[1, 2, 3]"
      ]
     },
     "execution_count": 7,
     "metadata": {},
     "output_type": "execute_result"
    }
   ],
   "source": [
    "a = [1, 2, 3]\n",
    "b = a[:] # 리스트 {a} 전체를 슬라이싱\n",
    "a[1] = 4\n",
    "a # [1, 4, 3]\n",
    "b # 슬라이싱을 통해 리스트를 복사하면, 다른 메모리에 복사된 값이 저장된다."
   ]
  },
  {
   "cell_type": "markdown",
   "metadata": {},
   "source": [
    "### 2. copy 모듈 이용하기"
   ]
  },
  {
   "cell_type": "code",
   "execution_count": 8,
   "metadata": {},
   "outputs": [],
   "source": [
    "from copy import copy # copy 모듈의 함수 copy() 불러오기\n",
    "a = [1, 2, 3]\n",
    "b = copy(a) # b = a[:]와 동일"
   ]
  },
  {
   "cell_type": "code",
   "execution_count": 9,
   "metadata": {},
   "outputs": [
    {
     "data": {
      "text/plain": [
       "False"
      ]
     },
     "execution_count": 9,
     "metadata": {},
     "output_type": "execute_result"
    }
   ],
   "source": [
    "b is a"
   ]
  },
  {
   "cell_type": "code",
   "execution_count": 10,
   "metadata": {},
   "outputs": [
    {
     "data": {
      "text/plain": [
       "False"
      ]
     },
     "execution_count": 10,
     "metadata": {},
     "output_type": "execute_result"
    }
   ],
   "source": [
    "# 리스트 관련 함수 copy()를 사용해도 같은 결과를 얻을 수 있다.\n",
    "a = [1, 2, 3]\n",
    "b = a.copy()\n",
    "b is a"
   ]
  },
  {
   "cell_type": "markdown",
   "metadata": {},
   "source": [
    "## 변수를 만드는 여러 가지 방법"
   ]
  },
  {
   "cell_type": "code",
   "execution_count": 11,
   "metadata": {},
   "outputs": [],
   "source": [
    "a, b = ('Yuqi', 'Shuhua') # 변수는 튜플을 이용하여 한번에 대입할 수 있다. 튜플은 괄호를 생략할 수 있다."
   ]
  },
  {
   "cell_type": "code",
   "execution_count": 12,
   "metadata": {},
   "outputs": [],
   "source": [
    "(a, b) = ('Yuqi', 'Shuhua') # 위의 셀과 완전히 동일하다."
   ]
  },
  {
   "cell_type": "code",
   "execution_count": 13,
   "metadata": {},
   "outputs": [],
   "source": [
    "[a, b] = ['Yuqi', 'Shuhua'] # 리스트로도 똑같이 생성할 수 있다."
   ]
  },
  {
   "cell_type": "code",
   "execution_count": 14,
   "metadata": {},
   "outputs": [],
   "source": [
    "a = b = 'Yuqi'"
   ]
  },
  {
   "cell_type": "code",
   "execution_count": 15,
   "metadata": {},
   "outputs": [
    {
     "data": {
      "text/plain": [
       "3"
      ]
     },
     "execution_count": 15,
     "metadata": {},
     "output_type": "execute_result"
    }
   ],
   "source": [
    "a = 3\n",
    "b = 5\n",
    "a, b = b, a # {a}, {b}의 값을 바꿈\n",
    "a # 5\n",
    "b"
   ]
  },
  {
   "cell_type": "code",
   "execution_count": 16,
   "metadata": {},
   "outputs": [
    {
     "data": {
      "text/plain": [
       "False"
      ]
     },
     "execution_count": 16,
     "metadata": {},
     "output_type": "execute_result"
    }
   ],
   "source": [
    "# 1분 코딩 115p\n",
    "a = [1, 2, 3]\n",
    "b = [1, 2, 3] # 새로운 메모리에 [1, 2, 3]을 저장하고 {b}로 가리킨다.\n",
    "a is b # 같은 값을 가지지만, 두 값이 다른 메모리에 저장되므로 False가 반환된다."
   ]
  }
 ],
 "metadata": {
  "kernelspec": {
   "display_name": "Python 3",
   "language": "python",
   "name": "python3"
  },
  "language_info": {
   "codemirror_mode": {
    "name": "ipython",
    "version": 3
   },
   "file_extension": ".py",
   "mimetype": "text/x-python",
   "name": "python",
   "nbconvert_exporter": "python",
   "pygments_lexer": "ipython3",
   "version": "3.12.1"
  }
 },
 "nbformat": 4,
 "nbformat_minor": 2
}
