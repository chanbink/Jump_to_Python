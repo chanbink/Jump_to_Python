{
 "cells": [
  {
   "cell_type": "markdown",
   "metadata": {},
   "source": [
    "# 딕셔너리 자료형"
   ]
  },
  {
   "cell_type": "markdown",
   "metadata": {},
   "source": [
    "## 딕셔너리는 어떻게 만들까?"
   ]
  },
  {
   "cell_type": "code",
   "execution_count": 1,
   "metadata": {},
   "outputs": [],
   "source": [
    "minnie = {'name': \"Nicha Yontararak\", 'age': 28, 'birth': 1023} # 각 요소들의 왼쪽은 키(key), 오른쪽은 값(value)이라 한다."
   ]
  },
  {
   "cell_type": "code",
   "execution_count": 2,
   "metadata": {},
   "outputs": [],
   "source": [
    "minnieBirth = {23: 'October'} # 키에도 숫자가 올 수 있다."
   ]
  },
  {
   "cell_type": "code",
   "execution_count": 3,
   "metadata": {},
   "outputs": [],
   "source": [
    "idle = {'member': ['Miyeon', 'Minnie', 'Soyeon', 'Yuqi', 'Shuhua']} # 값에 리스트가 올 수 있다."
   ]
  },
  {
   "cell_type": "markdown",
   "metadata": {},
   "source": [
    "## 딕셔너리 쌍 추가, 삭제"
   ]
  },
  {
   "cell_type": "markdown",
   "metadata": {},
   "source": [
    "### 딕셔너리 쌍 추가"
   ]
  },
  {
   "cell_type": "code",
   "execution_count": 4,
   "metadata": {},
   "outputs": [
    {
     "data": {
      "text/plain": [
       "{1: 'a', 2: 'b'}"
      ]
     },
     "execution_count": 4,
     "metadata": {},
     "output_type": "execute_result"
    }
   ],
   "source": [
    "a = {1: 'a'}\n",
    "a[2] = 'b' # 딕셔너리의 마지막에 {2: 'b'} 쌍 추가\n",
    "a"
   ]
  },
  {
   "cell_type": "code",
   "execution_count": 5,
   "metadata": {},
   "outputs": [
    {
     "data": {
      "text/plain": [
       "{1: 'a', 2: 'b', 'name': 'Minnie'}"
      ]
     },
     "execution_count": 5,
     "metadata": {},
     "output_type": "execute_result"
    }
   ],
   "source": [
    "a['name'] = 'Minnie'\n",
    "a"
   ]
  },
  {
   "cell_type": "code",
   "execution_count": 6,
   "metadata": {},
   "outputs": [
    {
     "data": {
      "text/plain": [
       "{1: 'a', 2: 'b', 'name': 'Minnie', 'Young': ['Yuqi', 'Shuhua']}"
      ]
     },
     "execution_count": 6,
     "metadata": {},
     "output_type": "execute_result"
    }
   ],
   "source": [
    "a['Young'] = ['Yuqi', 'Shuhua']\n",
    "a"
   ]
  },
  {
   "cell_type": "markdown",
   "metadata": {},
   "source": [
    "### 딕셔너리 쌍 삭제"
   ]
  },
  {
   "cell_type": "code",
   "execution_count": 7,
   "metadata": {},
   "outputs": [
    {
     "data": {
      "text/plain": [
       "{2: 'b', 'name': 'Minnie', 'Young': ['Yuqi', 'Shuhua']}"
      ]
     },
     "execution_count": 7,
     "metadata": {},
     "output_type": "execute_result"
    }
   ],
   "source": [
    "del a[1] # 키가 1인 딕셔너리 쌍 삭제\n",
    "a"
   ]
  },
  {
   "cell_type": "markdown",
   "metadata": {},
   "source": [
    "## 딕셔너리의 활용"
   ]
  },
  {
   "cell_type": "markdown",
   "metadata": {},
   "source": [
    "### 키를 사용해 값 얻기"
   ]
  },
  {
   "cell_type": "code",
   "execution_count": 8,
   "metadata": {},
   "outputs": [
    {
     "data": {
      "text/plain": [
       "'China'"
      ]
     },
     "execution_count": 8,
     "metadata": {},
     "output_type": "execute_result"
    }
   ],
   "source": [
    "ssawadeehao = {'Minnie': 'Thai', 'Yuqi': 'China', 'Shuhua': 'Taiwan'}\n",
    "ssawadeehao['Minnie'] # 'Thai', 키가 'Minnie'인 값을 반환\n",
    "ssawadeehao['Yuqi']"
   ]
  },
  {
   "cell_type": "code",
   "execution_count": 9,
   "metadata": {},
   "outputs": [
    {
     "data": {
      "text/plain": [
       "'Shuhua'"
      ]
     },
     "execution_count": 9,
     "metadata": {},
     "output_type": "execute_result"
    }
   ],
   "source": [
    "Nihao = {1: 'Yuqi', 2: 'Shuhua'}\n",
    "Nihao[1] # 'Yuqi'\n",
    "Nihao[2] # 여기서 1, 2는 인덱스가 아니라 키에 해당한다. 딕셔너리는 인덱싱, 슬라이싱이란 개념이 없다."
   ]
  },
  {
   "cell_type": "code",
   "execution_count": 10,
   "metadata": {},
   "outputs": [
    {
     "data": {
      "text/plain": [
       "1"
      ]
     },
     "execution_count": 10,
     "metadata": {},
     "output_type": "execute_result"
    }
   ],
   "source": [
    "Nihao = {'Yuqi': 1, 'Shuhua': 2}\n",
    "Nihao['Yuqi'] # 딕셔너리에 인덱싱이 없음을 보여준다.\n",
    "# 'Yuqi'는 인덱스가 아닌 키 값에 해당하는 문자열이다.\n"
   ]
  },
  {
   "cell_type": "code",
   "execution_count": 11,
   "metadata": {},
   "outputs": [
    {
     "data": {
      "text/plain": [
       "{'name': 'Nicha Yontararak',\n",
       " 'Chueren': 'Minnie',\n",
       " 'birth': 19971023,\n",
       " 'height': 167.1}"
      ]
     },
     "execution_count": 11,
     "metadata": {},
     "output_type": "execute_result"
    }
   ],
   "source": [
    "minnie = {'name': 'Nicha Yontararak', 'Chueren': 'Minnie', 'birth': 19971023, 'height': 167.1}\n",
    "minnie['name'] # 'Nicha Yontararak'\n",
    "minnie['Chueren'] # 'Minnie'\n",
    "minnie"
   ]
  },
  {
   "cell_type": "markdown",
   "metadata": {},
   "source": [
    "### 딕셔너리를 만들 때 주의할 사항"
   ]
  },
  {
   "cell_type": "code",
   "execution_count": 12,
   "metadata": {},
   "outputs": [
    {
     "data": {
      "text/plain": [
       "{1: 'Minnie', 2: 'Soyeon'}"
      ]
     },
     "execution_count": 12,
     "metadata": {},
     "output_type": "execute_result"
    }
   ],
   "source": [
    "a = {1: 'Miyeon', 1: 'Minnie', 2: 'Soyeon'} # 딕셔너리에서 키는 고유한 값이다.\n",
    "a # 동일한 키가 있을 경우 가장 뒤의 키를 제외하고는 무시한다."
   ]
  },
  {
   "cell_type": "code",
   "execution_count": 13,
   "metadata": {},
   "outputs": [
    {
     "ename": "TypeError",
     "evalue": "unhashable type: 'list'",
     "output_type": "error",
     "traceback": [
      "\u001b[1;31m---------------------------------------------------------------------------\u001b[0m",
      "\u001b[1;31mTypeError\u001b[0m                                 Traceback (most recent call last)",
      "Cell \u001b[1;32mIn[13], line 1\u001b[0m\n\u001b[1;32m----> 1\u001b[0m a \u001b[38;5;241m=\u001b[39m {[\u001b[38;5;241m1\u001b[39m, \u001b[38;5;241m2\u001b[39m]: [\u001b[38;5;124m'\u001b[39m\u001b[38;5;124mMiyeon\u001b[39m\u001b[38;5;124m'\u001b[39m, \u001b[38;5;124m'\u001b[39m\u001b[38;5;124mMinnie\u001b[39m\u001b[38;5;124m'\u001b[39m]} \u001b[38;5;66;03m# 키에 리스트가 올 수 없다.\u001b[39;00m\n\u001b[0;32m      2\u001b[0m \u001b[38;5;66;03m# 정확히는, 키에는 변할 수 있는 값이 올 수 없다. 따라서 키로 튜플을 사용할 수 있다.\u001b[39;00m\n",
      "\u001b[1;31mTypeError\u001b[0m: unhashable type: 'list'"
     ]
    }
   ],
   "source": [
    "a = {[1, 2]: ['Miyeon', 'Minnie']} # 키에 리스트가 올 수 없다.\n",
    "# 정확히는, 키에는 변할 수 있는 값이 올 수 없다. 따라서 키로 튜플을 사용할 수 있다."
   ]
  },
  {
   "cell_type": "markdown",
   "metadata": {},
   "source": [
    "## 딕셔너리 관련 함수"
   ]
  },
  {
   "cell_type": "markdown",
   "metadata": {},
   "source": [
    "### 키 리스트 만들기 - keys()"
   ]
  },
  {
   "cell_type": "code",
   "execution_count": 14,
   "metadata": {},
   "outputs": [
    {
     "data": {
      "text/plain": [
       "dict_keys(['name', 'Chueren', 'birth', 'height'])"
      ]
     },
     "execution_count": 14,
     "metadata": {},
     "output_type": "execute_result"
    }
   ],
   "source": [
    "minnie = {'name': 'Nicha Yontararak', 'Chueren': 'Minnie', 'birth': 19971023, 'height': 167.1}\n",
    "minnie.keys() # 반환한 값은 리스트가 아닌 dict_keys라는 객체이다."
   ]
  },
  {
   "cell_type": "code",
   "execution_count": 15,
   "metadata": {},
   "outputs": [
    {
     "name": "stdout",
     "output_type": "stream",
     "text": [
      "name\n",
      "Chueren\n",
      "birth\n",
      "height\n"
     ]
    }
   ],
   "source": [
    "for key in minnie.keys():\n",
    "    print(key)\n",
    "# dict_keys는 리스트처럼 사용할 수 있으나,\n",
    "# 리스트 관련 함수인 append(), insert(), pop(), remove(), sort() 등은 사용할 수 없다."
   ]
  },
  {
   "cell_type": "code",
   "execution_count": 16,
   "metadata": {},
   "outputs": [
    {
     "data": {
      "text/plain": [
       "['name', 'Chueren', 'birth', 'height']"
      ]
     },
     "execution_count": 16,
     "metadata": {},
     "output_type": "execute_result"
    }
   ],
   "source": [
    "list(minnie.keys())\n",
    "# dict_keys 객체는 리스트로 바꿀 수 있다."
   ]
  },
  {
   "cell_type": "markdown",
   "metadata": {},
   "source": [
    "### 값들의 리스트 만들기 - values()"
   ]
  },
  {
   "cell_type": "code",
   "execution_count": 17,
   "metadata": {},
   "outputs": [
    {
     "data": {
      "text/plain": [
       "dict_values(['Nicha Yontararak', 'Minnie', 19971023, 167.1])"
      ]
     },
     "execution_count": 17,
     "metadata": {},
     "output_type": "execute_result"
    }
   ],
   "source": [
    "minnie.values() # keys()와 마찬가지로 dict_values 객체를 반환한다."
   ]
  },
  {
   "cell_type": "markdown",
   "metadata": {},
   "source": [
    "### 키, 값 쌍 얻기 - items()"
   ]
  },
  {
   "cell_type": "code",
   "execution_count": 18,
   "metadata": {},
   "outputs": [
    {
     "data": {
      "text/plain": [
       "dict_items([('name', 'Nicha Yontararak'), ('Chueren', 'Minnie'), ('birth', 19971023), ('height', 167.1)])"
      ]
     },
     "execution_count": 18,
     "metadata": {},
     "output_type": "execute_result"
    }
   ],
   "source": [
    "minnie.items()\n",
    "# 키와 값으로 구성된 튜플을 묶어서 dict_items 객체로 반환한다."
   ]
  },
  {
   "cell_type": "markdown",
   "metadata": {},
   "source": [
    "### 딕셔너리 비우기 - clear()"
   ]
  },
  {
   "cell_type": "code",
   "execution_count": 19,
   "metadata": {},
   "outputs": [
    {
     "data": {
      "text/plain": [
       "{}"
      ]
     },
     "execution_count": 19,
     "metadata": {},
     "output_type": "execute_result"
    }
   ],
   "source": [
    "minnie.clear()\n",
    "minnie # 빈 딕셔너리가 출력"
   ]
  },
  {
   "cell_type": "markdown",
   "metadata": {},
   "source": [
    "### key로 값 얻기 - get()"
   ]
  },
  {
   "cell_type": "code",
   "execution_count": 20,
   "metadata": {},
   "outputs": [
    {
     "data": {
      "text/plain": [
       "'Minnie'"
      ]
     },
     "execution_count": 20,
     "metadata": {},
     "output_type": "execute_result"
    }
   ],
   "source": [
    "minnie = {'name': 'Nicha Yontararak', 'Chueren': 'Minnie', 'birth': 19971023, 'height': 167.1}\n",
    "minnie.get('name') # 'Nicha Yontararak'\n",
    "minnie.get('Chueren') # minnie['Chueren']과 같은 기능을 한다."
   ]
  },
  {
   "cell_type": "code",
   "execution_count": 21,
   "metadata": {},
   "outputs": [
    {
     "name": "stdout",
     "output_type": "stream",
     "text": [
      "None\n"
     ]
    },
    {
     "ename": "KeyError",
     "evalue": "'nokey'",
     "output_type": "error",
     "traceback": [
      "\u001b[1;31m---------------------------------------------------------------------------\u001b[0m",
      "\u001b[1;31mKeyError\u001b[0m                                  Traceback (most recent call last)",
      "Cell \u001b[1;32mIn[21], line 2\u001b[0m\n\u001b[0;32m      1\u001b[0m \u001b[38;5;28mprint\u001b[39m(minnie\u001b[38;5;241m.\u001b[39mget(\u001b[38;5;124m'\u001b[39m\u001b[38;5;124mnokey\u001b[39m\u001b[38;5;124m'\u001b[39m)) \u001b[38;5;66;03m# get() 함수로 없는 키를 입력받으면 None을 반환한다.\u001b[39;00m\n\u001b[1;32m----> 2\u001b[0m \u001b[38;5;28mprint\u001b[39m(\u001b[43mminnie\u001b[49m\u001b[43m[\u001b[49m\u001b[38;5;124;43m'\u001b[39;49m\u001b[38;5;124;43mnokey\u001b[39;49m\u001b[38;5;124;43m'\u001b[39;49m\u001b[43m]\u001b[49m) \u001b[38;5;66;03m# 딕셔너리에서 직접 없는 키를 입력하면 오류가 발생한다.\u001b[39;00m\n",
      "\u001b[1;31mKeyError\u001b[0m: 'nokey'"
     ]
    }
   ],
   "source": [
    "print(minnie.get('nokey')) # get() 함수로 없는 키를 입력받으면 None을 반환한다.\n",
    "print(minnie['nokey']) # 딕셔너리에서 직접 없는 키를 입력하면 오류가 발생한다."
   ]
  },
  {
   "cell_type": "code",
   "execution_count": 22,
   "metadata": {},
   "outputs": [
    {
     "data": {
      "text/plain": [
       "'cute'"
      ]
     },
     "execution_count": 22,
     "metadata": {},
     "output_type": "execute_result"
    }
   ],
   "source": [
    "minnie.get('nokey', 'cute') # get()으로 없는 키에 대한 디폴트 값도 설정할 수 있다.\n",
    "# 딕셔너리 내부에 키 'nokey'는 없지만 지정한 디폴트인 'cute'를 반환하였다."
   ]
  },
  {
   "cell_type": "markdown",
   "metadata": {},
   "source": [
    "### 딕셔너리 내 키의 존재 확인 - in"
   ]
  },
  {
   "cell_type": "code",
   "execution_count": 23,
   "metadata": {},
   "outputs": [
    {
     "data": {
      "text/plain": [
       "False"
      ]
     },
     "execution_count": 23,
     "metadata": {},
     "output_type": "execute_result"
    }
   ],
   "source": [
    "minnie = {'name': 'Nicha Yontararak', 'Chueren': 'Minnie', 'birth': 19971023, 'height': 167.1}\n",
    "'name' in minnie # True\n",
    "'phone' in minnie"
   ]
  },
  {
   "cell_type": "code",
   "execution_count": 24,
   "metadata": {},
   "outputs": [],
   "source": [
    "# 1분 코딩 101p\n",
    "gildong = {'name': 'Hong Gildong', 'birth': 1128, 'age': 30}"
   ]
  }
 ],
 "metadata": {
  "kernelspec": {
   "display_name": "Python 3",
   "language": "python",
   "name": "python3"
  },
  "language_info": {
   "codemirror_mode": {
    "name": "ipython",
    "version": 3
   },
   "file_extension": ".py",
   "mimetype": "text/x-python",
   "name": "python",
   "nbconvert_exporter": "python",
   "pygments_lexer": "ipython3",
   "version": "3.12.1"
  }
 },
 "nbformat": 4,
 "nbformat_minor": 2
}
