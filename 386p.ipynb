{
 "cells": [
  {
   "cell_type": "markdown",
   "metadata": {},
   "source": [
    "### Q1. 문자열 바꾸기"
   ]
  },
  {
   "cell_type": "code",
   "execution_count": 1,
   "metadata": {},
   "outputs": [],
   "source": [
    "# 문자열 'a:b:c:d'를 split()과 join()을 이용하여 'a#b#c#d'로 고쳐라."
   ]
  },
  {
   "cell_type": "code",
   "execution_count": 2,
   "metadata": {},
   "outputs": [
    {
     "name": "stdout",
     "output_type": "stream",
     "text": [
      "a#b#c#d\n"
     ]
    }
   ],
   "source": [
    "myStr = 'a:b:c:d'\n",
    "myStr = myStr.split(':')\n",
    "myStr = '#'.join(myStr)\n",
    "print(myStr)"
   ]
  },
  {
   "cell_type": "markdown",
   "metadata": {},
   "source": [
    "### Q2. 딕셔너리 값 출력하기"
   ]
  },
  {
   "cell_type": "code",
   "execution_count": 3,
   "metadata": {},
   "outputs": [
    {
     "ename": "KeyError",
     "evalue": "'C'",
     "output_type": "error",
     "traceback": [
      "\u001b[1;31m---------------------------------------------------------------------------\u001b[0m",
      "\u001b[1;31mKeyError\u001b[0m                                  Traceback (most recent call last)",
      "Cell \u001b[1;32mIn[3], line 4\u001b[0m\n\u001b[0;32m      1\u001b[0m \u001b[38;5;66;03m# 'C'에 해당하는 키가 없어 오류가 발생한다.\u001b[39;00m\n\u001b[0;32m      2\u001b[0m \u001b[38;5;66;03m# 'C' 키가 없을 경우, 70을 반환하도록 수정하라.\u001b[39;00m\n\u001b[0;32m      3\u001b[0m a \u001b[38;5;241m=\u001b[39m {\u001b[38;5;124m'\u001b[39m\u001b[38;5;124mA\u001b[39m\u001b[38;5;124m'\u001b[39m:\u001b[38;5;241m90\u001b[39m, \u001b[38;5;124m'\u001b[39m\u001b[38;5;124mB\u001b[39m\u001b[38;5;124m'\u001b[39m:\u001b[38;5;241m80\u001b[39m}\n\u001b[1;32m----> 4\u001b[0m \u001b[43ma\u001b[49m\u001b[43m[\u001b[49m\u001b[38;5;124;43m'\u001b[39;49m\u001b[38;5;124;43mC\u001b[39;49m\u001b[38;5;124;43m'\u001b[39;49m\u001b[43m]\u001b[49m\n",
      "\u001b[1;31mKeyError\u001b[0m: 'C'"
     ]
    }
   ],
   "source": [
    "# 'C'에 해당하는 키가 없어 오류가 발생한다.\n",
    "# 'C' 키가 없을 경우, 70을 반환하도록 수정하라.\n",
    "a = {'A':90, 'B':80}\n",
    "a['C']"
   ]
  },
  {
   "cell_type": "code",
   "execution_count": 4,
   "metadata": {},
   "outputs": [
    {
     "data": {
      "text/plain": [
       "70"
      ]
     },
     "execution_count": 4,
     "metadata": {},
     "output_type": "execute_result"
    }
   ],
   "source": [
    "a.get('C', 70)"
   ]
  },
  {
   "cell_type": "markdown",
   "metadata": {},
   "source": [
    "### Q3. 리스트의 더하기와 extend 함수"
   ]
  },
  {
   "cell_type": "code",
   "execution_count": 5,
   "metadata": {},
   "outputs": [
    {
     "data": {
      "text/plain": [
       "[1, 2, 3, 4, 5]"
      ]
     },
     "execution_count": 5,
     "metadata": {},
     "output_type": "execute_result"
    }
   ],
   "source": [
    "# 리스트의 덧셈은 다음과 같다.\n",
    "a = [1, 2, 3]\n",
    "a = a + [4, 5]\n",
    "a"
   ]
  },
  {
   "cell_type": "code",
   "execution_count": 6,
   "metadata": {},
   "outputs": [
    {
     "data": {
      "text/plain": [
       "[1, 2, 3, 4, 5]"
      ]
     },
     "execution_count": 6,
     "metadata": {},
     "output_type": "execute_result"
    }
   ],
   "source": [
    "# extend() 함수를 사용하면 다음과 같다. 둘의 차이를 설명하라.\n",
    "a = [1, 2, 3]\n",
    "a.extend([4, 5])\n",
    "a"
   ]
  },
  {
   "cell_type": "code",
   "execution_count": 7,
   "metadata": {},
   "outputs": [
    {
     "name": "stdout",
     "output_type": "stream",
     "text": [
      "[1, 2, 3]\n",
      "[1, 2, 3, 4, 5]\n"
     ]
    }
   ],
   "source": [
    "# 위 경우, 최종적으로 변수 {a}에 저장되는 값이 같으므로 출력 상의 차이는 없다.\n",
    "# 단, 리스트의 덧셈은 기존의 리스트를 변화시키지 않으므로, 결과를 담을 변수가 필요하다.\n",
    "# 하지만, extend() 함수를 사용할 경우, 기존의 리스트에 새로운 요소가 추가된다.\n",
    "a = [1, 2, 3]\n",
    "a + [4, 5]\n",
    "print(a) # 기존의 리스트는 유지됨, 덧셈 결과 새로운 리스트 생성\n",
    "a.extend([4, 5])\n",
    "print(a) # 기존의 리스트가 변경됨, 생성되는 리스트 없음"
   ]
  },
  {
   "cell_type": "markdown",
   "metadata": {},
   "source": [
    "### Q4. 리스트 총합 구하기"
   ]
  },
  {
   "cell_type": "code",
   "execution_count": 8,
   "metadata": {},
   "outputs": [],
   "source": [
    "# 아래 리스트에서, 50 이상 요소들의 총합을 구하라.\n",
    "A = [20, 55, 67, 82, 45, 33, 90, 87, 100, 25]"
   ]
  },
  {
   "cell_type": "code",
   "execution_count": 9,
   "metadata": {},
   "outputs": [
    {
     "name": "stdout",
     "output_type": "stream",
     "text": [
      "481\n"
     ]
    }
   ],
   "source": [
    "sum_A = 0\n",
    "for i in A:\n",
    "    if i >= 50:\n",
    "        sum_A += i\n",
    "print(sum_A)"
   ]
  },
  {
   "cell_type": "code",
   "execution_count": 10,
   "metadata": {},
   "outputs": [
    {
     "name": "stdout",
     "output_type": "stream",
     "text": [
      "481\n"
     ]
    }
   ],
   "source": [
    "# 모범 답안\n",
    "result = 0\n",
    "while A:\n",
    "    mark = A.pop()\n",
    "    if mark >= 50:\n",
    "        result += mark\n",
    "\n",
    "print(result)"
   ]
  },
  {
   "cell_type": "markdown",
   "metadata": {},
   "source": [
    "### Q5. 피보나치 함수"
   ]
  },
  {
   "cell_type": "code",
   "execution_count": 11,
   "metadata": {},
   "outputs": [],
   "source": [
    "# 정수 n을 입력받아 n항 이하까지의 피보나치 수열을 출력하는 함수를 작성하라."
   ]
  },
  {
   "cell_type": "code",
   "execution_count": 12,
   "metadata": {},
   "outputs": [
    {
     "name": "stdout",
     "output_type": "stream",
     "text": [
      "0, 1, 1, 2, 3, 5, 8\n"
     ]
    },
    {
     "data": {
      "text/plain": [
       "8"
      ]
     },
     "execution_count": 12,
     "metadata": {},
     "output_type": "execute_result"
    }
   ],
   "source": [
    "# 답안1 - 리스트를 이용하여 반복 출력 - 틀리지는 않지만, 메모리 사용이 많음\n",
    "def fibonacci(n):\n",
    "    fibo_list = [0, 1]\n",
    "    if n <= 0:\n",
    "        return None\n",
    "    elif n == 1:\n",
    "        print(0)\n",
    "        return 0\n",
    "    elif n == 2:\n",
    "        print('0, 1')\n",
    "        return 1\n",
    "    else:\n",
    "        print('0, 1,', end=' ')\n",
    "        for i in range(n-2):\n",
    "            fibo_list.append(fibo_list[i]+fibo_list[i+1])\n",
    "            if i == n-3:\n",
    "                print(f'{fibo_list[i+2]}')\n",
    "            else:\n",
    "                print(f'{fibo_list[i+2]},', end=' ')\n",
    "        return fibo_list[i+2]\n",
    "\n",
    "fibonacci(7)"
   ]
  },
  {
   "cell_type": "code",
   "execution_count": 13,
   "metadata": {},
   "outputs": [
    {
     "name": "stdout",
     "output_type": "stream",
     "text": [
      "0, 1, 1, 2, 3, 5, 8\n"
     ]
    },
    {
     "data": {
      "text/plain": [
       "8"
      ]
     },
     "execution_count": 13,
     "metadata": {},
     "output_type": "execute_result"
    }
   ],
   "source": [
    "# 답안2 - 변수만 이용하여 출력\n",
    "def fibonacci(n):\n",
    "    a, b = 0, 1\n",
    "    if n <= 0:\n",
    "        return None\n",
    "    if n == 1:\n",
    "        print(0)\n",
    "        return 0\n",
    "    elif n == 2:\n",
    "        print(\"0, 1\")\n",
    "        return 1\n",
    "    else:\n",
    "        print(\"0, 1,\", end=\" \")\n",
    "        for i in range(n - 2):\n",
    "            a, b = b, a + b\n",
    "            if i == n - 3:\n",
    "                print(f\"{b}\")\n",
    "            else:\n",
    "                print(f\"{b},\", end=\" \")\n",
    "        return b\n",
    "\n",
    "fibonacci(7)"
   ]
  },
  {
   "cell_type": "code",
   "execution_count": 14,
   "metadata": {},
   "outputs": [
    {
     "name": "stdout",
     "output_type": "stream",
     "text": [
      "0, 1, 1, 2, 3, 5, 8"
     ]
    }
   ],
   "source": [
    "# 모범 답안 - 재귀 호출 후 차례로 출력\n",
    "def fibonacci(n):\n",
    "    if n <= 0: return None\n",
    "    elif n == 1: return 0\n",
    "    elif n == 2: return 1\n",
    "    else: return fibonacci(n-2) + fibonacci(n-1)\n",
    "\n",
    "for i in range(1, 8):\n",
    "    if i != 7:\n",
    "        print(fibonacci(i), end=', ')\n",
    "    else:\n",
    "        print(fibonacci(i), end='')"
   ]
  },
  {
   "cell_type": "markdown",
   "metadata": {},
   "source": [
    "### Q6. 숫자의 총합 구하기"
   ]
  },
  {
   "cell_type": "code",
   "execution_count": 15,
   "metadata": {},
   "outputs": [
    {
     "data": {
      "text/plain": [
       "(65, 45, 2, 3, 45, 8)"
      ]
     },
     "execution_count": 15,
     "metadata": {},
     "output_type": "execute_result"
    }
   ],
   "source": [
    "# 사용자에게 다음과 같이 쉼표로 구분된 여러 숫자를 입력받아,\n",
    "# 그 합을 구하는 프로그램을 만들라.\n",
    "65,45,2,3,45,8"
   ]
  },
  {
   "cell_type": "code",
   "execution_count": 16,
   "metadata": {},
   "outputs": [
    {
     "name": "stdout",
     "output_type": "stream",
     "text": [
      "168\n"
     ]
    }
   ],
   "source": [
    "CSN = input(\"Enter number(s): \")\n",
    "list_str = CSN.split(',')\n",
    "list_num = []\n",
    "for i in list_str:\n",
    "    list_num.append(int(i))\n",
    "print(sum(list_num))"
   ]
  },
  {
   "cell_type": "code",
   "execution_count": 17,
   "metadata": {},
   "outputs": [
    {
     "name": "stdout",
     "output_type": "stream",
     "text": [
      "168\n"
     ]
    }
   ],
   "source": [
    "# 모범 답안\n",
    "CSN = input('Enter number(s): ')\n",
    "list_str = CSN.split(',')\n",
    "total = 0\n",
    "for n in list_str:\n",
    "    total += int(n)\n",
    "print(total)"
   ]
  },
  {
   "cell_type": "markdown",
   "metadata": {},
   "source": [
    "### Q7. 한 줄 구구단"
   ]
  },
  {
   "cell_type": "code",
   "execution_count": 18,
   "metadata": {},
   "outputs": [],
   "source": [
    "# 사용자에게 2~9의 숫자 중 하나를 입력받아,\n",
    "# 해당 숫자의 구구단을 한 줄로 출력하는 프로그램을 작성하라."
   ]
  },
  {
   "cell_type": "code",
   "execution_count": 19,
   "metadata": {},
   "outputs": [
    {
     "name": "stdout",
     "output_type": "stream",
     "text": [
      "2 4 6 8 10 12 14 16 18 "
     ]
    }
   ],
   "source": [
    "num = int(input(\"Enter number(2-9): \"))\n",
    "for i in range(1, 10):\n",
    "    print(num*i, end=' ')"
   ]
  },
  {
   "cell_type": "markdown",
   "metadata": {},
   "source": [
    "### Q8. 파일을 읽어 역순으로 저장하기"
   ]
  },
  {
   "cell_type": "code",
   "execution_count": 20,
   "metadata": {},
   "outputs": [
    {
     "data": {
      "text/plain": [
       "'\\nEEE\\nDDD\\nCCC\\nBBB\\nAAA\\n'"
      ]
     },
     "execution_count": 20,
     "metadata": {},
     "output_type": "execute_result"
    }
   ],
   "source": [
    "# 아래와 같은 내용의 파일 abc.txt가 존재한다.\n",
    "\"\"\"\n",
    "AAA\n",
    "BBB\n",
    "CCC\n",
    "DDD\n",
    "EEE\n",
    "\"\"\"\n",
    "# 이 파일의 내용을 역순으로 읽어 저장하라.\n",
    "\"\"\"\n",
    "EEE\n",
    "DDD\n",
    "CCC\n",
    "BBB\n",
    "AAA\n",
    "\"\"\""
   ]
  },
  {
   "cell_type": "code",
   "execution_count": 21,
   "metadata": {},
   "outputs": [],
   "source": [
    "# 파일 준비\n",
    "with open(\"abc.txt\", 'w') as f:\n",
    "    f.write('AAA\\nBBB\\nCCC\\nDDD\\nEEE')"
   ]
  },
  {
   "cell_type": "code",
   "execution_count": 22,
   "metadata": {},
   "outputs": [],
   "source": [
    "with open(\"abc.txt\", 'r') as f:\n",
    "    myLines = f.readlines()\n",
    "\n",
    "myLines[len(myLines)-1] = myLines[len(myLines)-1] + '\\n'\n",
    "myLines[0] = myLines[0].replace('\\n', '')\n",
    "myLines.reverse()\n",
    "\n",
    "with open('edc.txt', 'w') as f:\n",
    "    for line in myLines:\n",
    "        f.write(line)"
   ]
  },
  {
   "cell_type": "code",
   "execution_count": 23,
   "metadata": {},
   "outputs": [],
   "source": [
    "# 모범 답안\n",
    "with open(\"abc.txt\", 'r') as f:\n",
    "    myLines = f.readlines()\n",
    "\n",
    "myLines.reverse()\n",
    "\n",
    "with open(\"edc.txt\", 'w') as f:\n",
    "    for line in myLines:\n",
    "        line = line.strip()\n",
    "        f.write(line)\n",
    "        f.write('\\n')"
   ]
  },
  {
   "cell_type": "markdown",
   "metadata": {},
   "source": [
    "### Q9. 평균값 구하기"
   ]
  },
  {
   "cell_type": "code",
   "execution_count": 24,
   "metadata": {},
   "outputs": [
    {
     "data": {
      "text/plain": [
       "100"
      ]
     },
     "execution_count": 24,
     "metadata": {},
     "output_type": "execute_result"
    }
   ],
   "source": [
    "# 다음과 같이, 10줄의 수로 이루어진 sample.txt가 있다.\n",
    "# 이 파일의 모든 숫자 값을 읽어 총합과 평균을 구한 후,\n",
    "# 평균을 result.txt에 쓰는 프로그램을 작성하라.\n",
    "70\n",
    "60\n",
    "55\n",
    "75\n",
    "95\n",
    "90\n",
    "80\n",
    "85\n",
    "100"
   ]
  },
  {
   "cell_type": "code",
   "execution_count": 25,
   "metadata": {},
   "outputs": [],
   "source": [
    "# 파일 준비\n",
    "with open(\"sample.txt\", 'w') as f:\n",
    "    f.write('70\\n60\\n55\\n75\\n95\\n90\\n80\\n80\\n85\\n100')"
   ]
  },
  {
   "cell_type": "code",
   "execution_count": 26,
   "metadata": {},
   "outputs": [],
   "source": [
    "with open(\"sample.txt\", 'r') as f:\n",
    "    strNums = f.readlines()\n",
    "    realNums = []\n",
    "    for num in strNums:\n",
    "        num = int(num.replace('\\n', ''))\n",
    "        realNums.append(num)\n",
    "\n",
    "sum_nums = sum(realNums)\n",
    "avg = sum_nums / len(realNums)\n",
    "\n",
    "with open(\"result.txt\", 'w') as f:\n",
    "    f.write(f\"Avg: {avg}\")"
   ]
  },
  {
   "cell_type": "code",
   "execution_count": 27,
   "metadata": {},
   "outputs": [],
   "source": [
    "# 모범 답안\n",
    "with open(\"sample.txt\", 'r') as f:\n",
    "    lines = f.readlines()\n",
    "\n",
    "total = 0\n",
    "for line in lines:\n",
    "    score = int(line)\n",
    "    total += score\n",
    "average = total / len(lines)\n",
    "\n",
    "with open(\"result.txt\", 'w') as f:\n",
    "    f.write(f\"Avg: {average}\")"
   ]
  },
  {
   "cell_type": "markdown",
   "metadata": {},
   "source": [
    "### Q10. 계산기 만들기"
   ]
  },
  {
   "cell_type": "code",
   "execution_count": 28,
   "metadata": {},
   "outputs": [],
   "source": [
    "# 합이나 평균을 계산하는 클래스 Calculator를 작성하라.\n",
    "# 이 때, 다음과 같은 동작이 가능해야 한다.\n",
    "# >>> cal1 = Calculator([1, 2, 3, 4, 5])\n",
    "# >>> cal1.sum()\n",
    "# 15\n",
    "# >>> cal1.avg()\n",
    "# 3.0\n",
    "# >>> cal2 = Calculator([6, 7, 8, 9, 10])\n",
    "# >>> cal2.sum()\n",
    "# 40\n",
    "# >>> cal2.avg()\n",
    "# 8.0"
   ]
  },
  {
   "cell_type": "code",
   "execution_count": 29,
   "metadata": {},
   "outputs": [
    {
     "name": "stdout",
     "output_type": "stream",
     "text": [
      "15\n",
      "3.0\n",
      "40\n",
      "8.0\n"
     ]
    }
   ],
   "source": [
    "class Calculator():\n",
    "    def __init__(self, nums:list):\n",
    "        self.nums = nums\n",
    "    def sum(self):\n",
    "        result = 0\n",
    "        for num in self.nums:\n",
    "            result += num\n",
    "        return result\n",
    "    def avg(self):\n",
    "        total = self.sum()\n",
    "        return total / len(self.nums)\n",
    "\n",
    "cal1 = Calculator([1, 2, 3, 4, 5])\n",
    "print(cal1.sum())\n",
    "print(cal1.avg())\n",
    "\n",
    "cal2 = Calculator([6, 7, 8, 9, 10])\n",
    "print(cal2.sum())\n",
    "print(cal2.avg())"
   ]
  },
  {
   "cell_type": "markdown",
   "metadata": {},
   "source": [
    "### Q11. 모듈을 사용하는 방법"
   ]
  },
  {
   "cell_type": "code",
   "execution_count": 30,
   "metadata": {},
   "outputs": [],
   "source": [
    "# C:\\doit 디렉토리에 mymodule.py 모듈이 있을 때, 터미널에서 파이썬 셸을 열어\n",
    "# 이 모듈을 import하여 사용할 수 있는 방법을 모두 기술하시오.\n",
    "# import mymodule"
   ]
  },
  {
   "cell_type": "code",
   "execution_count": 31,
   "metadata": {},
   "outputs": [
    {
     "name": "stdout",
     "output_type": "stream",
     "text": [
      "Hello, World!\n"
     ]
    }
   ],
   "source": [
    "# 같은 디렉토리로 옮겨와서 사용할 수 있다.\n",
    "\n",
    "# PYTHONPATH 환경 변수에 C:\\doit 디렉토리를 지정하여 사용할 수 있다.\n",
    "# Anywhere> set PYTHONPATH=C:\\doit\n",
    "# 이 때, 터미널이 파워셸(PowerShell)이 아니라 명령 프롬프트(CMD)여야 한다.\n",
    "# 파워셸에선 다음과 같이 실행한다.\n",
    "# Anywhere> $env:PYTHONPATH=\"C:\\doit\"\n",
    "\n",
    "# sys 모듈을 다음과 같이 사용할 수 있다.\n",
    "import sys\n",
    "sys.path.append(\"C:/doit\")\n",
    "import mymodule"
   ]
  },
  {
   "cell_type": "markdown",
   "metadata": {},
   "source": [
    "### Q12. 오류와 예외 처리"
   ]
  },
  {
   "cell_type": "code",
   "execution_count": 32,
   "metadata": {},
   "outputs": [
    {
     "name": "stdout",
     "output_type": "stream",
     "text": [
      "7\n"
     ]
    }
   ],
   "source": [
    "# 다음 코드의 실행 결과를 예측하라.\n",
    "result = 0\n",
    "\n",
    "try:\n",
    "    [1, 2, 3][3]\n",
    "    'a' + 1\n",
    "    4 / 0\n",
    "except TypeError:\n",
    "    result += 1\n",
    "except ZeroDivisionError:\n",
    "    result += 2\n",
    "except IndexError:\n",
    "    result += 3\n",
    "finally:\n",
    "    result += 4\n",
    "\n",
    "print(result)"
   ]
  },
  {
   "cell_type": "code",
   "execution_count": 33,
   "metadata": {},
   "outputs": [
    {
     "ename": "IndexError",
     "evalue": "list index out of range",
     "output_type": "error",
     "traceback": [
      "\u001b[1;31m---------------------------------------------------------------------------\u001b[0m",
      "\u001b[1;31mIndexError\u001b[0m                                Traceback (most recent call last)",
      "Cell \u001b[1;32mIn[33], line 2\u001b[0m\n\u001b[0;32m      1\u001b[0m \u001b[38;5;66;03m# 첫 번째 오류는 IndexError이므로 바로 세 번째 except 블록으로 넘어간다.\u001b[39;00m\n\u001b[1;32m----> 2\u001b[0m \u001b[43m[\u001b[49m\u001b[38;5;241;43m1\u001b[39;49m\u001b[43m,\u001b[49m\u001b[43m \u001b[49m\u001b[38;5;241;43m2\u001b[39;49m\u001b[43m,\u001b[49m\u001b[43m \u001b[49m\u001b[38;5;241;43m3\u001b[39;49m\u001b[43m]\u001b[49m\u001b[43m[\u001b[49m\u001b[38;5;241;43m3\u001b[39;49m\u001b[43m]\u001b[49m \u001b[38;5;66;03m# IndexError: list out of range\u001b[39;00m\n",
      "\u001b[1;31mIndexError\u001b[0m: list index out of range"
     ]
    }
   ],
   "source": [
    "# 첫 번째 오류는 IndexError이므로 바로 세 번째 except 블록으로 넘어간다.\n",
    "[1, 2, 3][3] # IndexError: list out of range"
   ]
  },
  {
   "cell_type": "markdown",
   "metadata": {},
   "source": [
    "### Q13. DashInsert 함수"
   ]
  },
  {
   "cell_type": "code",
   "execution_count": 34,
   "metadata": {},
   "outputs": [],
   "source": [
    "# DashInsert() 함수는 숫자로 구성된 문자열을 입력받아,\n",
    "# 문자열 안에 홀수가 연속되면 두 수 사이에 '-'를 추가하고,\n",
    "# 짝수가 연속되면 두 수 사이에 '*'를 추가한다.\n",
    "# DashInsert()를 완성하라."
   ]
  },
  {
   "cell_type": "code",
   "execution_count": 35,
   "metadata": {},
   "outputs": [
    {
     "data": {
      "text/plain": [
       "'454*67-9-3'"
      ]
     },
     "execution_count": 35,
     "metadata": {},
     "output_type": "execute_result"
    }
   ],
   "source": [
    "def DashInsert(numstr:str):\n",
    "    nstr_s = list(numstr)\n",
    "    nstr_i = []\n",
    "    myStr = ''\n",
    "    for s in nstr_s:\n",
    "        nstr_i.append(int(s))\n",
    "    for i in range(len(nstr_i)):\n",
    "        if i == 0:\n",
    "            myStr += nstr_s[i]\n",
    "        elif nstr_i[i-1]%2 == nstr_i[i]%2 == 1:\n",
    "            myStr += ('-' + nstr_s[i])\n",
    "        elif nstr_i[i-1]%2 == nstr_i[i]%2 == 0:\n",
    "            myStr += ('*' + nstr_s[i])\n",
    "        else:\n",
    "            myStr += nstr_s[i]\n",
    "    return myStr\n",
    "\n",
    "DashInsert('4546793')"
   ]
  },
  {
   "cell_type": "code",
   "execution_count": 36,
   "metadata": {},
   "outputs": [
    {
     "data": {
      "text/plain": [
       "'454*67-9-3'"
      ]
     },
     "execution_count": 36,
     "metadata": {},
     "output_type": "execute_result"
    }
   ],
   "source": [
    "# 모범 답안\n",
    "def DashInsert(numstr:str):\n",
    "    numlist = list(map(int, numstr))\n",
    "    result = []\n",
    "    for i, num in enumerate(numlist):\n",
    "        result.append(str(num))\n",
    "        if i < len(numlist)-1:\n",
    "            is_odd = (num%2 == 1)\n",
    "            is_next_odd = (numlist[i+1]%2 == 1)\n",
    "            if is_odd and is_next_odd:\n",
    "                result.append('-')\n",
    "            elif not is_odd and not is_next_odd:\n",
    "                result.append('*')\n",
    "    return ''.join(result)\n",
    "\n",
    "DashInsert('4546793')"
   ]
  },
  {
   "cell_type": "markdown",
   "metadata": {},
   "source": [
    "### Q14. 문자열 압축하기"
   ]
  },
  {
   "cell_type": "code",
   "execution_count": 37,
   "metadata": {},
   "outputs": [],
   "source": [
    "# 문자열을 입력받아, 같은 문자가 연속될 경우\n",
    "# 그 반복 횟수를 표시해 문자열을 합축하여 표시하도록 코드를 작성하라."
   ]
  },
  {
   "cell_type": "code",
   "execution_count": 38,
   "metadata": {},
   "outputs": [
    {
     "data": {
      "text/plain": [
       "'a3b2c6a1'"
      ]
     },
     "execution_count": 38,
     "metadata": {},
     "output_type": "execute_result"
    }
   ],
   "source": [
    "def press(string:str):\n",
    "    temp = string[0]\n",
    "    count = 1\n",
    "    result = ''\n",
    "    for i, char in enumerate(string):\n",
    "        if i == 0:\n",
    "            result += char\n",
    "        elif char == temp:\n",
    "            count += 1\n",
    "        elif char != temp:\n",
    "            result += str(count)\n",
    "            count = 1\n",
    "            result += char\n",
    "            temp = char\n",
    "    \n",
    "    return result + str(count)\n",
    "\n",
    "press('aaabbcccccca')"
   ]
  },
  {
   "cell_type": "code",
   "execution_count": 39,
   "metadata": {},
   "outputs": [
    {
     "name": "stdout",
     "output_type": "stream",
     "text": [
      "a3b2c6a1\n"
     ]
    }
   ],
   "source": [
    "# 모범 답안\n",
    "def press(string:str):\n",
    "    temp = ''\n",
    "    count = 0\n",
    "    result = ''\n",
    "    for char in string:\n",
    "        if char != temp:\n",
    "            temp = char\n",
    "            if count: result += str(count)\n",
    "\n",
    "            result += char\n",
    "            count = 1\n",
    "        else:\n",
    "            count += 1\n",
    "    if count: result += str(count)\n",
    "\n",
    "    return result\n",
    "\n",
    "print(press('aaabbcccccca'))"
   ]
  },
  {
   "cell_type": "markdown",
   "metadata": {},
   "source": [
    "### Q15. Duplicate Numbers 함수"
   ]
  },
  {
   "cell_type": "code",
   "execution_count": 40,
   "metadata": {},
   "outputs": [],
   "source": [
    "# 0-9의 문자로 된 숫자를 입력받았을 때,\n",
    "# 이 입력값이 0-9의 모든 숫자를 각각 한 번씩만 사용한 것인지\n",
    "# 확인하는 함수를 작성하라."
   ]
  },
  {
   "cell_type": "code",
   "execution_count": 41,
   "metadata": {},
   "outputs": [
    {
     "name": "stdout",
     "output_type": "stream",
     "text": [
      "True\n",
      "False\n",
      "False\n",
      "True\n",
      "False\n"
     ]
    }
   ],
   "source": [
    "def Duplicate_Numbers(numbers:str):\n",
    "    deci = [0, 1, 2, 3, 4, 5, 6, 7, 8, 9]\n",
    "    if len(numbers) != 10:\n",
    "        return False\n",
    "    for num in deci:\n",
    "        if str(num) in numbers:\n",
    "            pass\n",
    "        else:\n",
    "            return False\n",
    "    return True\n",
    "\n",
    "print(Duplicate_Numbers('0123456789'))\n",
    "print(Duplicate_Numbers('01234'))\n",
    "print(Duplicate_Numbers('01234567890'))\n",
    "print(Duplicate_Numbers('6789012345'))\n",
    "print(Duplicate_Numbers('012322456789'))"
   ]
  },
  {
   "cell_type": "code",
   "execution_count": 42,
   "metadata": {},
   "outputs": [
    {
     "name": "stdout",
     "output_type": "stream",
     "text": [
      "True\n",
      "False\n",
      "False\n",
      "True\n",
      "False\n"
     ]
    }
   ],
   "source": [
    "# 모범 답안\n",
    "def Duplicate_Numbers(numbers:str):\n",
    "    result = []\n",
    "    for num in numbers:\n",
    "        if num not in result:\n",
    "            result.append(num)\n",
    "        else:\n",
    "            return False\n",
    "    return len(result) == 10\n",
    "\n",
    "print(Duplicate_Numbers('0123456789'))\n",
    "print(Duplicate_Numbers('01234'))\n",
    "print(Duplicate_Numbers('01234567890'))\n",
    "print(Duplicate_Numbers('6789012345'))\n",
    "print(Duplicate_Numbers('012322456789'))"
   ]
  },
  {
   "cell_type": "markdown",
   "metadata": {},
   "source": [
    "### Q16. 모스 부호 해독"
   ]
  },
  {
   "cell_type": "code",
   "execution_count": 43,
   "metadata": {},
   "outputs": [],
   "source": [
    "# 문자열 형식으로 입력받은 모스 부호 .(dot)와 -(dash)를 해독하여\n",
    "# 영어 문장으로 출력하는 프로그램을 작성하시오.\n",
    "# 단, 글자와 글자 사이는 공백 1개, 단어와 단어 사이는 공백 2개로 구분한다."
   ]
  },
  {
   "cell_type": "code",
   "execution_count": 44,
   "metadata": {},
   "outputs": [
    {
     "name": "stdout",
     "output_type": "stream",
     "text": [
      "HE SLEEPS EARLY"
     ]
    }
   ],
   "source": [
    "def Morse_code(code:str):\n",
    "    code_rule = {'.-':'A', '-...':'B', '-.-.':'C', '-..':'D', '.':'E', '..-.':'F',\n",
    "                 '--.':'G', '....':'H', '--':'I', '.---':'J', '-.-':'K', '.-..':'L',\n",
    "                 '--':'M', '-.':'N', '---':'O', '.--.':'P', '--.-':'Q', '.-.':'R',\n",
    "                 '...':'S', '-':'T', '..-':'U', '...-':'V', '.--':'W', '-..-':'X',\n",
    "                 '-.--':'Y', '--..':'Z'}\n",
    "\n",
    "    code = code.replace('  ', '/')\n",
    "    code = code.replace(' ', '|')\n",
    "    spaced_list = code.split('/')\n",
    "\n",
    "    for i, word in enumerate(spaced_list):\n",
    "        spaced_list[i] = word.split('|')\n",
    "        if i != 0:\n",
    "            print(' ', end='')\n",
    "        for j, char in enumerate(spaced_list[i]):\n",
    "            spaced_list[i][j] = code_rule[char]\n",
    "            print(spaced_list[i][j], end='')\n",
    "\n",
    "myStr = \".... .  ... .-.. . . .--. ...  . .- .-. .-.. -.--\"\n",
    "\n",
    "Morse_code(myStr)"
   ]
  },
  {
   "cell_type": "code",
   "execution_count": 45,
   "metadata": {},
   "outputs": [
    {
     "name": "stdout",
     "output_type": "stream",
     "text": [
      "HE SLEEPS EARLY \n"
     ]
    }
   ],
   "source": [
    "# 모범 답안\n",
    "code_rule = {'.-':'A', '-...':'B', '-.-.':'C', '-..':'D', '.':'E', '..-.':'F',\n",
    "             '--.':'G', '....':'H', '--':'I', '.---':'J', '-.-':'K', '.-..':'L',\n",
    "             '--':'M', '-.':'N', '---':'O', '.--.':'P', '--.-':'Q', '.-.':'R',\n",
    "             '...':'S', '-':'T', '..-':'U', '...-':'V', '.--':'W', '-..-':'X',\n",
    "             '-.--':'Y', '--..':'Z'}\n",
    "\n",
    "def Morse_code(code:str):\n",
    "    result = []\n",
    "    for word in code.split('  '):\n",
    "        for char in word.split(' '):\n",
    "            result.append(code_rule[char])\n",
    "        result.append(' ')\n",
    "    return ''.join(result)\n",
    "\n",
    "myStr = \".... .  ... .-.. . . .--. ...  . .- .-. .-.. -.--\"\n",
    "\n",
    "print(Morse_code(myStr))"
   ]
  },
  {
   "cell_type": "markdown",
   "metadata": {},
   "source": [
    "### Q17. 정규식 - 기초 메타 문자"
   ]
  },
  {
   "cell_type": "code",
   "execution_count": 46,
   "metadata": {},
   "outputs": [],
   "source": [
    "# 정규식 'a[.]{3,}b'와 매치되는 문자열은 무엇인가?\n",
    "# 'acccb'\n",
    "# 'a....b'\n",
    "# 'aaab'\n",
    "# 'a.cccb'"
   ]
  },
  {
   "cell_type": "code",
   "execution_count": 47,
   "metadata": {},
   "outputs": [
    {
     "name": "stdout",
     "output_type": "stream",
     "text": [
      "None\n",
      "<re.Match object; span=(0, 6), match='a....b'>\n",
      "None\n",
      "None\n"
     ]
    }
   ],
   "source": [
    "# 'a' 이후 '.'을 3회 이상 반복하고 'b'\n",
    "import re\n",
    "\n",
    "p = re.compile(r'a[.]{3,}b')\n",
    "print(p.match('acccb'))\n",
    "print(p.match('a....b'))\n",
    "print(p.match('aaab'))\n",
    "print(p.match('a.cccb'))"
   ]
  },
  {
   "cell_type": "markdown",
   "metadata": {},
   "source": [
    "### Q18. 정규식 - 문자열 검색"
   ]
  },
  {
   "cell_type": "code",
   "execution_count": 48,
   "metadata": {},
   "outputs": [
    {
     "data": {
      "text/plain": [
       "10"
      ]
     },
     "execution_count": 48,
     "metadata": {},
     "output_type": "execute_result"
    }
   ],
   "source": [
    "# 다음 코드의 결괏값을 예상하라.\n",
    "import re\n",
    "p = re.compile(\"[a-z]+\")\n",
    "m = p.search(\"5 python\")\n",
    "m.start() + m.end()"
   ]
  },
  {
   "cell_type": "markdown",
   "metadata": {},
   "source": [
    "### Q19. 정규식 - 그루핑"
   ]
  },
  {
   "cell_type": "code",
   "execution_count": 49,
   "metadata": {},
   "outputs": [],
   "source": [
    "# 아래 문자열에서 전화번호 뒷자리 4개를 '####'로 바꾸는 프로그램을 작성하라.\n",
    "# 단, 정규식을 사용하여 작성하라.\n",
    "info = \"\"\"\n",
    "Minnie 010-1997-1023\n",
    "Soyeon 010-1998-0826\n",
    "Yuqi 010-1999-0923\n",
    "\"\"\""
   ]
  },
  {
   "cell_type": "code",
   "execution_count": 50,
   "metadata": {},
   "outputs": [
    {
     "name": "stdout",
     "output_type": "stream",
     "text": [
      "\n",
      "Minnie 010-1997-####\n",
      "Soyeon 010-1998-####\n",
      "Yuqi 010-1999-####\n",
      "\n"
     ]
    },
    {
     "data": {
      "text/plain": [
       "'\\nMinnie 010-1997-####\\nSoyeon 010-1998-####\\nYuqi 010-1999-####\\n'"
      ]
     },
     "execution_count": 50,
     "metadata": {},
     "output_type": "execute_result"
    }
   ],
   "source": [
    "import re\n",
    "\n",
    "def chageBack(info):\n",
    "    p = re.compile(r'(?P<fore>\\w+\\s\\d{3}[-]\\d{4})[-]\\d{4}')\n",
    "    info = p.sub(r'\\g<fore>-####', info)\n",
    "    print(info)\n",
    "    return info\n",
    "\n",
    "chageBack(info)"
   ]
  },
  {
   "cell_type": "markdown",
   "metadata": {},
   "source": [
    "### Q20. 정규식 - 전방 탐색"
   ]
  },
  {
   "cell_type": "code",
   "execution_count": 51,
   "metadata": {},
   "outputs": [],
   "source": [
    "# 다음 정규식은 이메일 주소를 나타내는 정규식이다.\n",
    "r'.*[@].*[.].*$'\n",
    "# 긍정형 전방 탐색을 이용하여 .com, .net이 아닌 주소는 제거하도록 정규식을 작성하라.\n",
    "emails = \"\"\"\n",
    "cho@cube.com\n",
    "nicha@idle.net\n",
    "song@923.cn\n",
    "\"\"\""
   ]
  },
  {
   "cell_type": "code",
   "execution_count": 52,
   "metadata": {},
   "outputs": [
    {
     "name": "stdout",
     "output_type": "stream",
     "text": [
      "['cho@cube.com', 'nicha@idle.net']\n"
     ]
    }
   ],
   "source": [
    "import re\n",
    "\n",
    "p = re.compile(r\".*[@].*[.](?=com$|net$).*$\", re.MULTILINE)\n",
    "m = p.findall(emails)\n",
    "print(m)"
   ]
  }
 ],
 "metadata": {
  "kernelspec": {
   "display_name": "Python 3",
   "language": "python",
   "name": "python3"
  },
  "language_info": {
   "codemirror_mode": {
    "name": "ipython",
    "version": 3
   },
   "file_extension": ".py",
   "mimetype": "text/x-python",
   "name": "python",
   "nbconvert_exporter": "python",
   "pygments_lexer": "ipython3",
   "version": "3.12.4"
  }
 },
 "nbformat": 4,
 "nbformat_minor": 2
}
