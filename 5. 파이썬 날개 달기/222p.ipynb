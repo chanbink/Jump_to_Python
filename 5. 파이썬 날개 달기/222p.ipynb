{
 "cells": [
  {
   "cell_type": "markdown",
   "metadata": {},
   "source": [
    "# 패키지"
   ]
  },
  {
   "cell_type": "markdown",
   "metadata": {},
   "source": [
    "## 패키지 만들기"
   ]
  },
  {
   "cell_type": "code",
   "execution_count": 1,
   "metadata": {},
   "outputs": [],
   "source": [
    "# 관련된 여러 모듈을 모아놓은 집합을 패키지(package)라 한다.\n",
    "# 다음과 같이 파이썬 파일을 만들어라.\n",
    "# C:\\doit\\game\\__init__.py\n",
    "# C:\\doit\\game\\sound\\__init__.py\n",
    "# C:\\doit\\game\\sound\\echo.py\n",
    "# C:\\doit\\game\\graphic\\__init__.py\n",
    "# C:\\doit\\game\\graphic\\render.py"
   ]
  },
  {
   "cell_type": "code",
   "execution_count": 2,
   "metadata": {},
   "outputs": [],
   "source": [
    "# 다음의 명령어를 터미널에서 실행하면, 간단하게 파일들을 만들 수 있다.\n",
    "# Anywhere> cd C:\\doit\n",
    "# C:\\doit> mkdir game\n",
    "# C:\\doit> cd game\n",
    "# C:\\doit\\game> mkdir sound, graphic\n",
    "# C:\\doit\\game> python\n",
    "# >>> f = open(\"./sound/__init__.py\", 'w')\n",
    "# >>> f.close()\n",
    "# >>> f = open(\"./sound/echo.py\", 'w')\n",
    "# >>> f.close()\n",
    "# >>> f = open(\"./graphic/__init__.py\", 'w')\n",
    "# >>> f.close()\n",
    "# >>> f = open(\"./graphic/render.py\", 'w')\n",
    "# >>> f.close()\n",
    "# >>> exit()"
   ]
  },
  {
   "cell_type": "code",
   "execution_count": 3,
   "metadata": {},
   "outputs": [],
   "source": [
    "# 다음을 실행하여 파이썬 파일의 내용을 완성하라.\n",
    "\n",
    "f = open(\"C:/doit/game/sound/echo.py\", 'w') # 추가 모드로 열어도 상관은 없으나, 반복 실행 시 파일이 변형된다.\n",
    "echo = \"def echo_test():\\n    print('echo')\"\n",
    "f.write(echo)\n",
    "f.close()\n",
    "\n",
    "# 파일을 편집 모드로 열어 다음과 같이 코드를 직접 적어도 된다.\n",
    "# def echo_test():\n",
    "#     print(\"echo\")"
   ]
  },
  {
   "cell_type": "code",
   "execution_count": 4,
   "metadata": {},
   "outputs": [],
   "source": [
    "f = open(\"C:/doit/game/graphic/render.py\", 'w')\n",
    "render = \"def render_test():\\n    print('render')\"\n",
    "f.write(render)\n",
    "f.close()\n",
    "\n",
    "# 파일을 편집 모드로 열어 다음과 같이 코드를 직접 적어도 된다.\n",
    "# def render_test():\n",
    "#     print(\"render\")"
   ]
  },
  {
   "cell_type": "code",
   "execution_count": 5,
   "metadata": {},
   "outputs": [],
   "source": [
    "# 다음을 터미널에서 실행하여 PYTHONPATH 환경 변수에 C:/doit 디렉토리를 추가한다.\n",
    "# Anywhere> cd C:\\\n",
    "# C:\\> set PYTHONPATH=C:/doit"
   ]
  },
  {
   "cell_type": "markdown",
   "metadata": {},
   "source": [
    "## 패키지 안의 함수 실행하기"
   ]
  },
  {
   "cell_type": "code",
   "execution_count": 6,
   "metadata": {},
   "outputs": [],
   "source": [
    "# 다음을 터미널에서 실행하여 패키지 안의 모듈을 불러온다.\n",
    "# 반드시 터미널에서 실행하라. IDLE 셸이나 비주얼 스튜디오의 파이썬 셸에서는 오류가 발생한다.\n",
    "# C:\\> python\n",
    "# >>> import game.sound.echo # 모듈을 직접 불러옴\n",
    "# >>> game.sound.echo.echo_test() # 모듈 내의 함수 echo_test() 호출\n",
    "# echo # 패키지 내 파일의 함수가 실행된다.\n",
    "# >>> exit() # 오류를 막기 위해 인터프리터를 종료한다."
   ]
  },
  {
   "cell_type": "code",
   "execution_count": 7,
   "metadata": {},
   "outputs": [],
   "source": [
    "# 다음을 터미널에서 실행하여 모듈을 불러올 수도 있다.\n",
    "# C:\\> python\n",
    "# >>> from game.sound import echo # 패키지 내의 모듈을 불러옴\n",
    "# >>> echo.echo_test()\n",
    "# echo\n",
    "# >>> exit()"
   ]
  },
  {
   "cell_type": "code",
   "execution_count": 8,
   "metadata": {},
   "outputs": [],
   "source": [
    "# 모듈 내의 함수를 직접 불러와도 된다.\n",
    "# C:\\> python\n",
    "# >>> from game.sound.echo import echo_test # 함수를 직접 불러옴\n",
    "# >>> echo_test()\n",
    "# echo\n",
    "# exit()"
   ]
  },
  {
   "cell_type": "code",
   "execution_count": 9,
   "metadata": {},
   "outputs": [],
   "source": [
    "# C:\\> python\n",
    "# >>> import game\n",
    "# game.sound.echo.echo_test() # 오류: game 디렉토리의 __init__.py에 정의된 것만 참조 가능\n",
    "# Traceback (most recent call last)\n",
    "#     File \"<stdin>\", line 1, in <module>\n",
    "# AttributeError: 'module' object has no attribute 'sound'\n",
    "# >>> exit()"
   ]
  },
  {
   "cell_type": "code",
   "execution_count": 10,
   "metadata": {},
   "outputs": [],
   "source": [
    "# C:\\> python\n",
    "# >>> import game.sound.echo.echo_test # 오류: 도트 연산자를 이용하여 불러올 때, 마지막 항목은 반드시 모듈이나 패키지여야 함.\n",
    "# Traceback (most recent call last):\n",
    "#     File \"<stdin>\", line 1, in <module>\n",
    "# ModuleNotFoundError: No module named 'game.sound.echo.echo_test'; 'game.sound.echo' is not a package\n",
    "# >>> exit()"
   ]
  },
  {
   "cell_type": "markdown",
   "metadata": {},
   "source": [
    "## \\_\\_init\\_\\_.py의 용도"
   ]
  },
  {
   "cell_type": "code",
   "execution_count": 11,
   "metadata": {},
   "outputs": [],
   "source": [
    "# __init__.py는 디렉토리가 패키지의 일부임을 알려 주는 역할을 한다.\n",
    "# game, sound, graphic 디렉토리에 __init__.py가 없을 경우 패키지로 인식되지 못한다.\n",
    "# 사실, python 3.3 버전 이후로는 __init__.py 없이도 패키지로 인식하지만,\n",
    "# 그 이전 버전과의 호환을 위해 만들어두는 것이 안전하다."
   ]
  },
  {
   "cell_type": "markdown",
   "metadata": {},
   "source": [
    "### 패키지 변수 및 함수 정의"
   ]
  },
  {
   "cell_type": "code",
   "execution_count": 12,
   "metadata": {},
   "outputs": [],
   "source": [
    "f = open(\"C:/doit/game/__init__.py\", 'w')\n",
    "game_init = \"VERSION = 3.5\\n\\n\\ndef print_version_info():\\n    print(f'The version of this game is {VERSION}')\"\n",
    "f.write(game_init)\n",
    "f.close()\n",
    "\n",
    "# 파일을 편집 모드로 열어 다음과 같이 코드를 직접 적어도 된다.\n",
    "# VERSION = 3.5\n",
    "#\n",
    "#\n",
    "# def print_version_info():\n",
    "#     print(f'The version of this game is {VERSION}.')"
   ]
  },
  {
   "cell_type": "code",
   "execution_count": 13,
   "metadata": {},
   "outputs": [],
   "source": [
    "# 다음을 실행하면 game 디렉토리 내의 __init__.py의 역할을 볼 수 있다.\n",
    "# C:\\> python\n",
    "# >>> import game\n",
    "# >>> print(game.VERSION)\n",
    "# 3.5\n",
    "# >>> game.print_version_info()\n",
    "# The version of this game is 3.5.\n",
    "# >>> exit()"
   ]
  },
  {
   "cell_type": "markdown",
   "metadata": {},
   "source": [
    "### 패키지 내 모듈을 미리 import"
   ]
  },
  {
   "cell_type": "code",
   "execution_count": 14,
   "metadata": {},
   "outputs": [],
   "source": [
    "# 다음을 실행하여 game 디렉토리 내의 __init__.py를 수정하라.\n",
    "\n",
    "with open(\"C:/doit/game/__init__.py\", 'r+') as f:\n",
    "    original_content = f.read()\n",
    "    f.seek(0) # seek(): 입력받은 바이트로 캐럿 이동\n",
    "    new_content = \"from .graphic.render import render_test\\n\\n\\n\"\n",
    "    f.write(new_content + original_content)\n",
    "\n",
    "# 파일을 편집 모드로 열어 다음의 코드를 첫 줄에 포함해도 된다.\n",
    "# from .graphic.render import render_test # 패키지 내의 다른 모듈을 미리 불러옴"
   ]
  },
  {
   "cell_type": "code",
   "execution_count": 15,
   "metadata": {},
   "outputs": [],
   "source": [
    "# C:\\> python\n",
    "# >>> import game # 패키지를 불러옴과 동시에 __init__.py에서 render_test() 함수를 불러온다.\n",
    "# >>> game.render_test()\n",
    "# render\n",
    "# exit()"
   ]
  },
  {
   "cell_type": "markdown",
   "metadata": {},
   "source": [
    "### 패키지 초기화"
   ]
  },
  {
   "cell_type": "code",
   "execution_count": 16,
   "metadata": {},
   "outputs": [],
   "source": [
    "# 다음을 실행하여 game 디렉토리 내의 __init__.py를 수정하라.\n",
    "\n",
    "with open(\"C:/doit/game/__init__.py\", 'a') as f:\n",
    "    new_content = \"\\n\\n\\n# 여기에 패키지 초기화 코드를 작성한다.\\nprint('Initializing game...')\"\n",
    "    f.write(new_content)\n",
    "\n",
    "# 파일을 편집 모드로 열어 다음의 코드를 마지막 줄에 포함해도 된다.\n",
    "# # 여기에 패키지 초기화 코드를 작성한다.\n",
    "# print('Initializing game...')\""
   ]
  },
  {
   "cell_type": "code",
   "execution_count": 17,
   "metadata": {},
   "outputs": [],
   "source": [
    "# 패키지를 불러올 때 자동으로 실행되어야 하는 코드를 작성하는 것을\n",
    "# 패키지 초기화(package initialization)라 한다.\n",
    "# 이 코드는 __init__.py에 있으며, 패키지를 불러올 때 실행된다.\n",
    "# C:\\> python\n",
    "# >>> import game\n",
    "# Initializing game... # game을 불러올 때, __init__.py의 print() 함수가 자동으로 실행된다.\n",
    "# >>> exit()"
   ]
  },
  {
   "cell_type": "code",
   "execution_count": 18,
   "metadata": {},
   "outputs": [],
   "source": [
    "# game 패키지의 초기화 코드는 그 하위 모듈의 함수를 불러올 때에도 자동 실행된다.\n",
    "# C:\\> python\n",
    "# >>> from game.graphic.render import render_test\n",
    "# Initializing game... # game의 하위 함수를 불러올 때에도 초기화 코드가 실행된다.\n",
    "# >>> exit()"
   ]
  },
  {
   "cell_type": "code",
   "execution_count": 19,
   "metadata": {},
   "outputs": [],
   "source": [
    "# 초기화 코드는 한 번 실행된 후에는 다시 import를 해도 실행되지 않는다.\n",
    "# C:\\> python\n",
    "# >>> import game\n",
    "# Initializing game...\n",
    "# >>> from game.graphic.render import render_test\n",
    "# >>> exit() # 초기화 코드가 다시 실행되지 않는다."
   ]
  },
  {
   "cell_type": "markdown",
   "metadata": {},
   "source": [
    "### \\_\\_all\\_\\_"
   ]
  },
  {
   "cell_type": "code",
   "execution_count": 20,
   "metadata": {},
   "outputs": [],
   "source": [
    "# 터미널에서 다음을 실행하라.\n",
    "# C:\\> python\n",
    "# >>> from game.sound import *\n",
    "# Initializing game...\n",
    "# >>> echo.echo_test()\n",
    "# # 오류: 특정 디렉토리의 모듈을 *를 사용하여 불러올 땐, __init__.py 파일에\n",
    "#         {__all__} 변수를 설정하여 불러올 수 있는 모듈을 정의해야 한다.\n",
    "# Traceback (most recent call last):\n",
    "#     File \"<stdin>\", line 1, in <module>\n",
    "# NameError: name 'echo' is not defined\n",
    "# >>> exit()"
   ]
  },
  {
   "cell_type": "code",
   "execution_count": 21,
   "metadata": {},
   "outputs": [],
   "source": [
    "# 다음을 실행하여 game\\sound 디렉토리의 __init__.py를 수정하라.\n",
    "\n",
    "with open(\"C:/doit/game/sound/__init__.py\", 'w') as f:\n",
    "    content = \"__all__ = ['echo']\"\n",
    "    f.write(content)\n",
    "\n",
    "# # 파일을 편집 모드로 열어 다음의 코드를 마지막 줄에 포함해도 된다.\n",
    "# __all__ = ['echo']\n",
    "# {__all__}은 sound 디렉토리에서 *를 사용하여 모듈을 불러올 때,\n",
    "# 이곳에 정의된 모듈만 불러옴을 의미한다.\n",
    "# 따라서, from game.sound import *를 실행할 경우, echo 모듈을 불러오게 된다.\n",
    "# from game.sound.echo import *는 {__all__}에 관계없이 성공한다.\n",
    "# 이는 from 부분의 마지막 항목이 모듈일 경우에 모듈 내의 모든 함수를 불러옴을 의미한다."
   ]
  },
  {
   "cell_type": "code",
   "execution_count": 22,
   "metadata": {},
   "outputs": [],
   "source": [
    "# 위와 같은 조작을 거치면, 다음을 실행하면 echo를 불러와 정상적으로 실행된다.\n",
    "# C:\\> python\n",
    "# >>> from game.sound import *\n",
    "# Initializing game...\n",
    "# >>> echo.echo_test()\n",
    "# echo\n",
    "# >>> exit()"
   ]
  },
  {
   "cell_type": "markdown",
   "metadata": {},
   "source": [
    "## relative 패키지"
   ]
  },
  {
   "cell_type": "code",
   "execution_count": 23,
   "metadata": {},
   "outputs": [],
   "source": [
    "# graphic 디렉토리의 render.py 모듈에서\n",
    "# sound 디렉토리의 echo.py를 사용하고 싶을 경우,\n",
    "# 다음을 실행하여 render.py를 수정하면 된다.\n",
    "\n",
    "with open(\"C:/doit/game/graphic/render.py\", 'r+') as f:\n",
    "    original_content = f.read()\n",
    "    f.seek(0)\n",
    "    new_content = \"from game.sound.echo import echo_test\\n\\n\"\n",
    "    f.write(new_content + original_content)\n",
    "\n",
    "# 파일을 편집 모드로 열어 다음의 코드를 첫 줄에 포함해도 된다.\n",
    "# from game.sound.echo import echo_test"
   ]
  },
  {
   "cell_type": "code",
   "execution_count": 24,
   "metadata": {},
   "outputs": [],
   "source": [
    "# 위와 같은 조작을 가하면, render.py 모듈에서 sound의 echo.py를 사용할 수 있다.\n",
    "# C:\\> python\n",
    "# >>> from game.graphic.render import render_test\n",
    "# Initializing game...\n",
    "# >>> render_test()\n",
    "# render\n",
    "# echo # echo_test()가 호출되어 실행된다."
   ]
  },
  {
   "cell_type": "code",
   "execution_count": 25,
   "metadata": {},
   "outputs": [],
   "source": [
    "# 경로를 직접 지정하지 않고 상대 경로(relative path)를 이용하여 쓸 수 있다.\n",
    "\n",
    "with open(\"C:/doit/game/graphic/render.py\", 'r+') as f:\n",
    "    original_content = f.read()\n",
    "    f.seek(0)\n",
    "    new_content = \"from ..sound.echo import echo_test\\n\\n\"\n",
    "    f.write(new_content + original_content)\n",
    "\n",
    "# 파일을 편집 모드로 열어 다음의 코드를 첫 줄에 포함해도 된다.\n",
    "# from ..sound.echo import echo_test\n",
    "# ..는 부모 디렉토리(상위 디렉토리)를 의미한다.\n",
    "# .는 현재 디렉토리를 의미한다."
   ]
  }
 ],
 "metadata": {
  "kernelspec": {
   "display_name": "Python 3",
   "language": "python",
   "name": "python3"
  },
  "language_info": {
   "codemirror_mode": {
    "name": "ipython",
    "version": 3
   },
   "file_extension": ".py",
   "mimetype": "text/x-python",
   "name": "python",
   "nbconvert_exporter": "python",
   "pygments_lexer": "ipython3",
   "version": "3.12.4"
  }
 },
 "nbformat": 4,
 "nbformat_minor": 2
}
