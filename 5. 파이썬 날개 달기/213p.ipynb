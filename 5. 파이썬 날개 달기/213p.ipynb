{
 "cells": [
  {
   "cell_type": "markdown",
   "metadata": {},
   "source": [
    "# 모듈"
   ]
  },
  {
   "cell_type": "markdown",
   "metadata": {},
   "source": [
    "## 모듈 불러오기"
   ]
  },
  {
   "cell_type": "code",
   "execution_count": 1,
   "metadata": {},
   "outputs": [
    {
     "name": "stdout",
     "output_type": "stream",
     "text": [
      "7\n",
      "2\n"
     ]
    }
   ],
   "source": [
    "# 도움이 되는 함수나 변수, 클래스를 모아놓은 파이썬 파일(.py)을 모듈(module)이라 한다.\n",
    "# 모든 파이썬 파일은 모듈이 될 수 있다.\n",
    "import mod213p # 모듈 mod213p.py를 불러옴, 확장자는 생략하고 입력한다.\n",
    "\n",
    "print(mod213p.add(3,4)) # 모듈의 함수를 사용할 땐, 모듈명 뒤에 도트 연산자를 입력하고 함수를 쓰면 된다.\n",
    "print(mod213p.sub(4,2))"
   ]
  },
  {
   "cell_type": "code",
   "execution_count": 2,
   "metadata": {},
   "outputs": [
    {
     "data": {
      "text/plain": [
       "7"
      ]
     },
     "execution_count": 2,
     "metadata": {},
     "output_type": "execute_result"
    }
   ],
   "source": [
    "from mod213p import add # 모듈에서 함수만 따로 불러올 수 있다.\n",
    "\n",
    "add(3, 4) # 모듈 내의 함수를 직접 사용할 수 있다."
   ]
  },
  {
   "cell_type": "code",
   "execution_count": 3,
   "metadata": {},
   "outputs": [],
   "source": [
    "from mod213p import add, sub # 두 함수를 같이 불러올 수 있다."
   ]
  },
  {
   "cell_type": "code",
   "execution_count": 4,
   "metadata": {},
   "outputs": [],
   "source": [
    "from mod213p import * # *는 '모든 것'을 의미하는 문자이다. 모듈 내의 모든 함수를 불러온다."
   ]
  },
  {
   "cell_type": "markdown",
   "metadata": {},
   "source": [
    "## if \\_\\_name\\_\\_ == \"\\_\\_main\\_\\_\":의 의미"
   ]
  },
  {
   "cell_type": "code",
   "execution_count": 5,
   "metadata": {},
   "outputs": [
    {
     "name": "stdout",
     "output_type": "stream",
     "text": [
      "5\n",
      "2\n"
     ]
    }
   ],
   "source": [
    "import mod216p\n",
    "# 함수 정의부 아래의 모든 문장들이 실행되어 값들이 출력된다.\n",
    "# 함수만 불러오고 싶다면 명백하게 쓸모 없는 기능이 수행되어 방해된다."
   ]
  },
  {
   "cell_type": "code",
   "execution_count": 6,
   "metadata": {},
   "outputs": [],
   "source": [
    "import mod217p\n",
    "# if문이 실행되지 않아 아무것도 출력되지 않는다."
   ]
  },
  {
   "cell_type": "code",
   "execution_count": 7,
   "metadata": {},
   "outputs": [
    {
     "data": {
      "text/plain": [
       "'mod217p'"
      ]
     },
     "execution_count": 7,
     "metadata": {},
     "output_type": "execute_result"
    }
   ],
   "source": [
    "import mod217p\n",
    "mod217p.__name__ # import로 불러온 모듈의 {__name__} 변수가 모듈명임을 확인할 수 있다."
   ]
  },
  {
   "cell_type": "markdown",
   "metadata": {},
   "source": [
    "## 클래스나 변수 등을 포함한 모듈"
   ]
  },
  {
   "cell_type": "code",
   "execution_count": 8,
   "metadata": {},
   "outputs": [
    {
     "name": "stdout",
     "output_type": "stream",
     "text": [
      "3.141592\n"
     ]
    }
   ],
   "source": [
    "import mod218p\n",
    "\n",
    "print(mod218p.PI) # mod218p.py 내의 변수 {PI} 사용"
   ]
  },
  {
   "cell_type": "code",
   "execution_count": 9,
   "metadata": {},
   "outputs": [
    {
     "name": "stdout",
     "output_type": "stream",
     "text": [
      "12.566368\n",
      "7.5415920000000005\n"
     ]
    }
   ],
   "source": [
    "a = mod218p.Math() # mod218p.py 내의 클래스 Math로 객체 생성\n",
    "print(a.solv(2)) # 클래스 내의 메서드 사용\n",
    "print(mod218p.add(mod218p.PI, 4.4)) # mod218p.py 내의 함수 add() 사용"
   ]
  },
  {
   "cell_type": "code",
   "execution_count": 10,
   "metadata": {},
   "outputs": [
    {
     "data": {
      "text/plain": [
       "78.5398"
      ]
     },
     "execution_count": 10,
     "metadata": {},
     "output_type": "execute_result"
    }
   ],
   "source": [
    "# 1분 코딩 219p\n",
    "import mod218p\n",
    "a = mod218p.Math()\n",
    "a.solv(5)"
   ]
  },
  {
   "cell_type": "markdown",
   "metadata": {},
   "source": [
    "## 다른 디렉토리에 있는 모듈을 불러오는 방법"
   ]
  },
  {
   "cell_type": "code",
   "execution_count": 11,
   "metadata": {},
   "outputs": [],
   "source": [
    "# 다음의 명령어를 터미널에서 실행하라. 자신의 컴퓨터의 경로에 맞게 수정하라.\n",
    "# C:\\Users\\...\\5. 파이썬 날개 달기> cd C:\\doit # cd는 change directory의 약자로, 해당 디렉토리로 이동함을 의미한다.\n",
    "# C:\\doit> mkdir mymod # mkdir은 make directory의 약자로, 디렉토리를 만듦을 의미한다.\n",
    "# C:\\doit> cd 'C:\\Users\\...\\5. 파이썬 날개 달기'\n",
    "# C:\\Users\\...\\5. 파이썬 날개 달기> move mod218p.py C:\\doit\\mymod # move는 파일을 특정 경로로 이동시킴을 의미한다."
   ]
  },
  {
   "cell_type": "code",
   "execution_count": 12,
   "metadata": {},
   "outputs": [
    {
     "data": {
      "text/plain": [
       "['c:\\\\Users\\\\SAMSUNG\\\\AppData\\\\Local\\\\Programs\\\\Python\\\\Python312\\\\python312.zip',\n",
       " 'c:\\\\Users\\\\SAMSUNG\\\\AppData\\\\Local\\\\Programs\\\\Python\\\\Python312\\\\DLLs',\n",
       " 'c:\\\\Users\\\\SAMSUNG\\\\AppData\\\\Local\\\\Programs\\\\Python\\\\Python312\\\\Lib',\n",
       " 'c:\\\\Users\\\\SAMSUNG\\\\AppData\\\\Local\\\\Programs\\\\Python\\\\Python312',\n",
       " '',\n",
       " 'C:\\\\Users\\\\SAMSUNG\\\\AppData\\\\Roaming\\\\Python\\\\Python312\\\\site-packages',\n",
       " 'C:\\\\Users\\\\SAMSUNG\\\\AppData\\\\Roaming\\\\Python\\\\Python312\\\\site-packages\\\\win32',\n",
       " 'C:\\\\Users\\\\SAMSUNG\\\\AppData\\\\Roaming\\\\Python\\\\Python312\\\\site-packages\\\\win32\\\\lib',\n",
       " 'C:\\\\Users\\\\SAMSUNG\\\\AppData\\\\Roaming\\\\Python\\\\Python312\\\\site-packages\\\\Pythonwin',\n",
       " 'c:\\\\Users\\\\SAMSUNG\\\\AppData\\\\Local\\\\Programs\\\\Python\\\\Python312\\\\Lib\\\\site-packages']"
      ]
     },
     "execution_count": 12,
     "metadata": {},
     "output_type": "execute_result"
    }
   ],
   "source": [
    "import sys # sys 모듈 불러오기\n",
    "sys.path # 파이썬 라이브러리가 설치된 디렉토리 목록을 리스트로 반환\n",
    "# 이 리스트 안에 있는 디렉토리의 모듈은 직접 이동할 필요 없이 바로 불러서 사용할 수 있다."
   ]
  },
  {
   "cell_type": "code",
   "execution_count": 13,
   "metadata": {},
   "outputs": [
    {
     "data": {
      "text/plain": [
       "['c:\\\\Users\\\\SAMSUNG\\\\AppData\\\\Local\\\\Programs\\\\Python\\\\Python312\\\\python312.zip',\n",
       " 'c:\\\\Users\\\\SAMSUNG\\\\AppData\\\\Local\\\\Programs\\\\Python\\\\Python312\\\\DLLs',\n",
       " 'c:\\\\Users\\\\SAMSUNG\\\\AppData\\\\Local\\\\Programs\\\\Python\\\\Python312\\\\Lib',\n",
       " 'c:\\\\Users\\\\SAMSUNG\\\\AppData\\\\Local\\\\Programs\\\\Python\\\\Python312',\n",
       " '',\n",
       " 'C:\\\\Users\\\\SAMSUNG\\\\AppData\\\\Roaming\\\\Python\\\\Python312\\\\site-packages',\n",
       " 'C:\\\\Users\\\\SAMSUNG\\\\AppData\\\\Roaming\\\\Python\\\\Python312\\\\site-packages\\\\win32',\n",
       " 'C:\\\\Users\\\\SAMSUNG\\\\AppData\\\\Roaming\\\\Python\\\\Python312\\\\site-packages\\\\win32\\\\lib',\n",
       " 'C:\\\\Users\\\\SAMSUNG\\\\AppData\\\\Roaming\\\\Python\\\\Python312\\\\site-packages\\\\Pythonwin',\n",
       " 'c:\\\\Users\\\\SAMSUNG\\\\AppData\\\\Local\\\\Programs\\\\Python\\\\Python312\\\\Lib\\\\site-packages',\n",
       " 'C:/doit/mymod']"
      ]
     },
     "execution_count": 13,
     "metadata": {},
     "output_type": "execute_result"
    }
   ],
   "source": [
    "sys.path.append(\"C:/doit/mymod\") # 모듈이 저장된 디렉토리를 sys.path에 추가\n",
    "sys.path"
   ]
  },
  {
   "cell_type": "code",
   "execution_count": 14,
   "metadata": {},
   "outputs": [
    {
     "name": "stdout",
     "output_type": "stream",
     "text": [
      "7\n"
     ]
    }
   ],
   "source": [
    "import mod218p # 같은 디렉토리에 모듈이 없음에도 바로 불러올 수 있다.\n",
    "print(mod218p.add(3, 4))"
   ]
  },
  {
   "cell_type": "markdown",
   "metadata": {},
   "source": [
    "### PYTHONPATH 환경 변수 사용하기"
   ]
  },
  {
   "cell_type": "code",
   "execution_count": 15,
   "metadata": {},
   "outputs": [],
   "source": [
    "# 다음의 명령어를 터미널에서 실행하라.\n",
    "# C:\\doit>set PYTHONPATH=C:\\doit\\mymod # set은 환경 변수 PYTHONPATH에 C:\\doit\\mymod 디렉토리를 추가함을 의미한다.\n",
    "# 맥OS나 리눅스에서는 set 대신 export를 사용한다."
   ]
  },
  {
   "cell_type": "code",
   "execution_count": 16,
   "metadata": {},
   "outputs": [
    {
     "name": "stdout",
     "output_type": "stream",
     "text": [
      "7\n"
     ]
    }
   ],
   "source": [
    "import mod218p # sys.path에 디렉토리를 추가하는 것과 마찬가지로 모듈을 불러올 수 있다.\n",
    "print(mod218p.add(3,4))"
   ]
  }
 ],
 "metadata": {
  "kernelspec": {
   "display_name": "Python 3",
   "language": "python",
   "name": "python3"
  },
  "language_info": {
   "codemirror_mode": {
    "name": "ipython",
    "version": 3
   },
   "file_extension": ".py",
   "mimetype": "text/x-python",
   "name": "python",
   "nbconvert_exporter": "python",
   "pygments_lexer": "ipython3",
   "version": "3.12.4"
  }
 },
 "nbformat": 4,
 "nbformat_minor": 2
}
