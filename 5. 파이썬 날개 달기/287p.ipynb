{
 "cells": [
  {
   "cell_type": "markdown",
   "metadata": {},
   "source": [
    "# 외부 라이브러리"
   ]
  },
  {
   "cell_type": "markdown",
   "metadata": {},
   "source": [
    "## pip"
   ]
  },
  {
   "cell_type": "markdown",
   "metadata": {},
   "source": [
    "### pip install"
   ]
  },
  {
   "cell_type": "code",
   "execution_count": 1,
   "metadata": {},
   "outputs": [],
   "source": [
    "# PyPI(python package index)는, 파이썬 소프트웨어가 모인 저장 공간이다.\n",
    "# PyPI에는 각종 파이썬 패키지가 등록되어 있으며, 누구나 내려받아 사용 가능하다.\n",
    "# pip는 PyPI의 소프트웨어를 관리하는 명령어로, 터미널에서 실행한다."
   ]
  },
  {
   "cell_type": "code",
   "execution_count": 2,
   "metadata": {},
   "outputs": [],
   "source": [
    "# Anywhere> pip install SomePackage # 패키지 SomePackage를 다운로드\n",
    "# SomePackage는 임의의 패키지를 나타내기 위한 표현이지만, 실제로 존재하는 학습용 패키지이기도 하다.\n",
    "# 따로 특별한 기능을 제공하지는 않으므로, 아래 명령어들을 수행하며 pip 사용법을 익히면 된다."
   ]
  },
  {
   "cell_type": "markdown",
   "metadata": {},
   "source": [
    "### pip uninstall"
   ]
  },
  {
   "cell_type": "code",
   "execution_count": 3,
   "metadata": {},
   "outputs": [],
   "source": [
    "# Anywhere> pip uninstall SomePackage # 설치된 패키지 SomePackage를 삭제\n",
    "# 삭제 시 중간에 실제로 삭제할 것인지 물어본다. Y를 눌러 진행하면 된다."
   ]
  },
  {
   "cell_type": "markdown",
   "metadata": {},
   "source": [
    "### 특정 버전으로 설치하기"
   ]
  },
  {
   "cell_type": "code",
   "execution_count": 4,
   "metadata": {},
   "outputs": [],
   "source": [
    "# Anywhere> pip install SomePackage==1.2.3 # SomePackage를 1.2.3 버전으로 설치\n",
    "# 설치하는 버전이 아마 최신 버전일 것이다. 없거나 접근이 제한된 버전은 설치를 거부한다.\n",
    "# 이 경우, 설치 가능한 버전을 알려준다."
   ]
  },
  {
   "cell_type": "markdown",
   "metadata": {},
   "source": [
    "### 최신 버전으로 업그레이드하기"
   ]
  },
  {
   "cell_type": "code",
   "execution_count": 5,
   "metadata": {},
   "outputs": [],
   "source": [
    "# Anywhere> pip install --upgrade SomePackage # SomePackage를 최신 버전으로 업그레이드\n",
    "# 이미 최신 버전일 경우, 직접 알려주고 업그레이드를 하지 않는다."
   ]
  },
  {
   "cell_type": "markdown",
   "metadata": {},
   "source": [
    "### 설치된 패키지 확인하기"
   ]
  },
  {
   "cell_type": "code",
   "execution_count": 6,
   "metadata": {},
   "outputs": [],
   "source": [
    "# Anywhere> pip list # pip로 설치한 패키지 목록을 출력"
   ]
  },
  {
   "cell_type": "markdown",
   "metadata": {},
   "source": [
    "## Faker"
   ]
  },
  {
   "cell_type": "code",
   "execution_count": 7,
   "metadata": {},
   "outputs": [],
   "source": [
    "# 다음 명령어를 미리 실행하여 라이브러리를 다운받자.\n",
    "# Anywhere> pip install Faker"
   ]
  },
  {
   "cell_type": "markdown",
   "metadata": {},
   "source": [
    "### Faker 사용해 보기"
   ]
  },
  {
   "cell_type": "code",
   "execution_count": 8,
   "metadata": {},
   "outputs": [
    {
     "data": {
      "text/plain": [
       "'Christine Matthews'"
      ]
     },
     "execution_count": 8,
     "metadata": {},
     "output_type": "execute_result"
    }
   ],
   "source": [
    "# Faker는 테스트를 위한 가짜 데이터를 만들 때 쓰는 라이브러리이다.\n",
    "from faker import Faker\n",
    "fake = Faker() # Faker 클래스로 객체 생성. Faker 클래스는 임의의 내용들로 구성된 가짜 데이터와 함수를 담고 있다.\n",
    "fake.name() # name(): 무작위로 생성된 이름을 반환한다."
   ]
  },
  {
   "cell_type": "code",
   "execution_count": 9,
   "metadata": {},
   "outputs": [
    {
     "data": {
      "text/plain": [
       "'김영희'"
      ]
     },
     "execution_count": 9,
     "metadata": {},
     "output_type": "execute_result"
    }
   ],
   "source": [
    "# 한국형 데이터는 다음과 같이 만들 수 있다.\n",
    "fake = Faker('ko-KR')\n",
    "fake.name()"
   ]
  },
  {
   "cell_type": "code",
   "execution_count": 10,
   "metadata": {},
   "outputs": [
    {
     "data": {
      "text/plain": [
       "'울산광역시 관악구 서초대거리 585 (서준김김읍)'"
      ]
     },
     "execution_count": 10,
     "metadata": {},
     "output_type": "execute_result"
    }
   ],
   "source": [
    "fake.address() # address(): 무작위로 생성된 주소를 반환한다.\n",
    "# 실제 있는 주소는 아니고, 저장된 행정구역들을 임의로 조합하여 반환한다."
   ]
  },
  {
   "cell_type": "code",
   "execution_count": 11,
   "metadata": {},
   "outputs": [
    {
     "data": {
      "text/plain": [
       "[('배예준', '서울특별시 강서구 논현28거리 860'),\n",
       " ('박현정', '서울특별시 성동구 봉은사87가 522'),\n",
       " ('김정웅', '전라남도 홍성군 학동로 549'),\n",
       " ('최지원', '대구광역시 노원구 백제고분길 228'),\n",
       " ('김지은', '강원도 정선군 반포대길 722-35'),\n",
       " ('김옥자', '전라북도 춘천시 강남대026로 99 (서영김김동)'),\n",
       " ('심재현', '광주광역시 서구 오금0길 지하54'),\n",
       " ('김준영', '경상북도 천안시 서북구 선릉로 517 (승현박서읍)'),\n",
       " ('하서준', '경기도 안양시 석촌호수길 217 (윤서이장리)'),\n",
       " ('김지후', '전라남도 김포시 양재천285거리 390 (지연이남면)'),\n",
       " ('이지혜', '인천광역시 서구 석촌호수길 328-92 (서윤황마을)'),\n",
       " ('안하은', '서울특별시 강서구 잠실05거리 14-17 (지은이장마을)'),\n",
       " ('김현우', '서울특별시 은평구 백제고분가 616 (영철김성리)'),\n",
       " ('이영일', '세종특별자치시 북구 가락9거리 515 (성수류동)'),\n",
       " ('권영수', '경상북도 양평군 선릉020길 40 (은경김박마을)'),\n",
       " ('장서연', '서울특별시 동구 영동대0가 226-12'),\n",
       " ('이재현', '경상북도 시흥시 역삼56로 362 (미정이마을)'),\n",
       " ('이지후', '서울특별시 성북구 개포거리 611 (명자김이리)'),\n",
       " ('안현우', '대전광역시 은평구 가락가 817 (성민이윤리)'),\n",
       " ('윤종수', '대구광역시 남구 서초대가 896'),\n",
       " ('안승민', '충청북도 수원시 팔달구 석촌호수80가 610-73 (경희장마을)'),\n",
       " ('배중수', '부산광역시 마포구 학동길 984'),\n",
       " ('장미숙', '세종특별자치시 강동구 영동대482가 59-81'),\n",
       " ('이정웅', '서울특별시 도봉구 서초대759로 지하243 (은지박유읍)'),\n",
       " ('배지후', '부산광역시 구로구 봉은사3거리 732'),\n",
       " ('권지훈', '전라남도 양주시 가락가 998 (수빈이이동)'),\n",
       " ('이민준', '대구광역시 서대문구 양재천로 495-37'),\n",
       " ('양민수', '경상남도 음성군 압구정거리 998 (지아손김면)'),\n",
       " ('김보람', '서울특별시 중구 백제고분로 555-58 (시우박마을)'),\n",
       " ('김영식', '광주광역시 북구 선릉243로 796')]"
      ]
     },
     "execution_count": 11,
     "metadata": {},
     "output_type": "execute_result"
    }
   ],
   "source": [
    "# 이름과 주소를 쌍으로 하는 30개의 무작위 데이터를 다음과 같이 생성할 수 있다.\n",
    "test_data = [(fake.name(), fake.address()) for i in range(30)]\n",
    "test_data"
   ]
  },
  {
   "cell_type": "markdown",
   "metadata": {},
   "source": [
    "### Faker 활용하기"
   ]
  },
  {
   "cell_type": "code",
   "execution_count": 12,
   "metadata": {},
   "outputs": [],
   "source": [
    "# Faker 모듈에는 여러 항목들을 제공된다.\n",
    "# fake.name(): 이름\n",
    "# fake.address(): 주소\n",
    "# fake.postcode(): 우편 번호\n",
    "# fake.country(): 국가명\n",
    "# fake.company(): 회사명\n",
    "# fake.job(): 직업\n",
    "# fake.phone_number(): 휴대전화 번호\n",
    "# fake.email(): 이메일 주소\n",
    "# fake.user_name(): 사용자명\n",
    "# fake.pyint(min_value=0, max_value=100): 0 이상 100 미만의 임의의 숫자\n",
    "# fake.ipv4_private(): IP 주소\n",
    "# fake.text(): 임의의 문장(한글 문장은 fake.catch_phrase() 사용)\n",
    "# fake.color_name(): 색상 이름"
   ]
  },
  {
   "cell_type": "markdown",
   "metadata": {},
   "source": [
    "## sympy"
   ]
  },
  {
   "cell_type": "code",
   "execution_count": 13,
   "metadata": {},
   "outputs": [],
   "source": [
    "# 다음 명령어를 미리 실행하여 라이브러리를 다운받자.\n",
    "# Anywhere> pip install sympy"
   ]
  },
  {
   "cell_type": "markdown",
   "metadata": {},
   "source": [
    "### sympy 사용해 보기"
   ]
  },
  {
   "cell_type": "code",
   "execution_count": 14,
   "metadata": {},
   "outputs": [],
   "source": [
    "# sympy는 방정식 기호를 사용하게 해주는 외부 라이브러리이다.\n",
    "# fractions는 유리수(분수)를 다루기 위헌 표준 라이브러리이다.\n",
    "# 보통 sympy를 사용할 땐, fractions 모듈을 같이 사용한다.\n",
    "from fractions import Fraction\n",
    "import sympy"
   ]
  },
  {
   "cell_type": "code",
   "execution_count": 15,
   "metadata": {},
   "outputs": [],
   "source": [
    "x = sympy.symbols(\"x\") # sympy.symbols(): 방정식에 쓰일 미지수를 나타내는 기호를 생성"
   ]
  },
  {
   "cell_type": "code",
   "execution_count": 16,
   "metadata": {},
   "outputs": [],
   "source": [
    "# 두 개의 미지수를 사용한다면 다음과 같이 쓸 수 있다.\n",
    "x, y = sympy.symbols('x y') # 문자열을 쉼표로 구분하여 나열해도 된다."
   ]
  },
  {
   "cell_type": "code",
   "execution_count": 17,
   "metadata": {},
   "outputs": [],
   "source": [
    "f = sympy.Eq(x*Fraction('2/5'), 1760)\n",
    "# sympy.Eq(): 입력받은 두 값이 같음을 의미하는 방정식 반환\n",
    "# Fraction(): 유리수를 분수 형태로 정확하게 표현하는 함수"
   ]
  },
  {
   "cell_type": "code",
   "execution_count": 18,
   "metadata": {},
   "outputs": [
    {
     "data": {
      "text/plain": [
       "Fraction(1, 5)"
      ]
     },
     "execution_count": 18,
     "metadata": {},
     "output_type": "execute_result"
    }
   ],
   "source": [
    "# 파이썬에서 float는 부동 소수점 오차를 유발하므로,\n",
    "# 유리수를 정확하게 표현할 땐, Fraction 클래스를 사용한다.\n",
    "a = Fraction(1, 5) # 앞의 매개변수를 분자, 뒤의 매개변수를 분모로 하는 유리수 객체 생성\n",
    "a"
   ]
  },
  {
   "cell_type": "code",
   "execution_count": 19,
   "metadata": {},
   "outputs": [
    {
     "data": {
      "text/plain": [
       "Fraction(1, 5)"
      ]
     },
     "execution_count": 19,
     "metadata": {},
     "output_type": "execute_result"
    }
   ],
   "source": [
    "a = Fraction('1 / 5') # 문자열로 나눗셈을 전달하여 같은 결과를 얻어낼 수 있다.\n",
    "a"
   ]
  },
  {
   "cell_type": "code",
   "execution_count": 20,
   "metadata": {},
   "outputs": [
    {
     "data": {
      "text/plain": [
       "[4400]"
      ]
     },
     "execution_count": 20,
     "metadata": {},
     "output_type": "execute_result"
    }
   ],
   "source": [
    "result = sympy.solve(f) # 방정식 객체의 해를 리스트로 포함하여 반환\n",
    "result"
   ]
  },
  {
   "cell_type": "code",
   "execution_count": 21,
   "metadata": {},
   "outputs": [
    {
     "data": {
      "text/latex": [
       "$\\displaystyle 2640$"
      ],
      "text/plain": [
       "2640"
      ]
     },
     "execution_count": 21,
     "metadata": {},
     "output_type": "execute_result"
    }
   ],
   "source": [
    "# 리스트의 요소를 이용하여 추가 계산을 수행할 수 있다.\n",
    "remains = result[0] - 1760\n",
    "remains"
   ]
  },
  {
   "cell_type": "markdown",
   "metadata": {},
   "source": [
    "### sympy 활용하기"
   ]
  },
  {
   "cell_type": "code",
   "execution_count": 22,
   "metadata": {},
   "outputs": [
    {
     "data": {
      "text/plain": [
       "[-1, 1]"
      ]
     },
     "execution_count": 22,
     "metadata": {},
     "output_type": "execute_result"
    }
   ],
   "source": [
    "# 이차방정식의 해를 구해보자.\n",
    "x = sympy.symbols('x')\n",
    "f = sympy.Eq(x**2, 1)\n",
    "sympy.solve(f)"
   ]
  },
  {
   "cell_type": "code",
   "execution_count": 23,
   "metadata": {},
   "outputs": [
    {
     "data": {
      "text/plain": [
       "{x: 7, y: 3}"
      ]
     },
     "execution_count": 23,
     "metadata": {},
     "output_type": "execute_result"
    }
   ],
   "source": [
    "# 연립 방정식의 해를 구해보자.\n",
    "x, y = sympy.symbols('x y')\n",
    "f1 = sympy.Eq(x+y, 10)\n",
    "f2 = sympy.Eq(x-y, 4)\n",
    "sympy.solve([f1, f2]) # 두 방정식을 리스트로 묶어서 전달\n",
    "# 미지수가 여러 개일 경우, 해가 딕셔너리로 주어진다."
   ]
  }
 ],
 "metadata": {
  "kernelspec": {
   "display_name": "Python 3",
   "language": "python",
   "name": "python3"
  },
  "language_info": {
   "codemirror_mode": {
    "name": "ipython",
    "version": 3
   },
   "file_extension": ".py",
   "mimetype": "text/x-python",
   "name": "python",
   "nbconvert_exporter": "python",
   "pygments_lexer": "ipython3",
   "version": "3.12.4"
  }
 },
 "nbformat": 4,
 "nbformat_minor": 2
}
