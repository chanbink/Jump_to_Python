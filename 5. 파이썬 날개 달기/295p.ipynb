{
 "cells": [
  {
   "cell_type": "code",
   "execution_count": 1,
   "metadata": {},
   "outputs": [],
   "source": [
    "# Q1. 클래스 상속받고 메서드 추가하기 1\n",
    "class Calculator:\n",
    "    def __init__(self): # 생성자\n",
    "        self.value = 0 # 객체 변수 {value}가 자동으로 0으로 초기화\n",
    "\n",
    "    def add(self, val):\n",
    "        self.value += val # add()를 호출하면 입력받은 값을 객체 변수에 더함"
   ]
  },
  {
   "cell_type": "code",
   "execution_count": 2,
   "metadata": {},
   "outputs": [],
   "source": [
    "class UpgradeCalculator(Calculator): # 자식 클래스 생성, 문제의 답\n",
    "    def minus(self, val): # minus() 메서드 추가\n",
    "        self.value -= val\n",
    "# 생성자를 별도로 정의하지 않아도, 객체 생성과 동시에 {self}는 자식 클래스의 인스턴스를 참조한다.\n",
    "# 생성자는 자식 클래스의 인스턴스 생성과 동시에 작동한다."
   ]
  },
  {
   "cell_type": "code",
   "execution_count": 3,
   "metadata": {},
   "outputs": [
    {
     "name": "stdout",
     "output_type": "stream",
     "text": [
      "3\n"
     ]
    }
   ],
   "source": [
    "cal = UpgradeCalculator()\n",
    "cal.add(10)\n",
    "cal.minus(7)\n",
    "\n",
    "print(cal.value)"
   ]
  },
  {
   "cell_type": "code",
   "execution_count": 4,
   "metadata": {},
   "outputs": [],
   "source": [
    "# Q2. 클래스 상속받고 메서드 추가하기 2\n",
    "class Calculator:\n",
    "    def __init__(self):\n",
    "        self.value = 0\n",
    "\n",
    "    def add(self, val):\n",
    "        self.value += val"
   ]
  },
  {
   "cell_type": "code",
   "execution_count": 5,
   "metadata": {},
   "outputs": [],
   "source": [
    "class MaxLimitCalculator(Calculator):\n",
    "    def add(self, val): # add() 메서드 오버라이딩\n",
    "        self.value += val\n",
    "        if self.value >= 100: # 객체 변수 {value}가 100 이상일 경우, 자동으로 100으로 초기화\n",
    "            self.value = 100"
   ]
  },
  {
   "cell_type": "code",
   "execution_count": 6,
   "metadata": {},
   "outputs": [
    {
     "name": "stdout",
     "output_type": "stream",
     "text": [
      "100\n"
     ]
    }
   ],
   "source": [
    "cal = MaxLimitCalculator()\n",
    "cal.add(50)\n",
    "cal.add(60)\n",
    "\n",
    "print(cal.value)"
   ]
  },
  {
   "cell_type": "code",
   "execution_count": 7,
   "metadata": {},
   "outputs": [
    {
     "data": {
      "text/plain": [
       "True"
      ]
     },
     "execution_count": 7,
     "metadata": {},
     "output_type": "execute_result"
    }
   ],
   "source": [
    "# Q3. 참과 거짓 예측하기\n",
    "all([1, 2, abs(-3)-3]) # False\n",
    "chr(ord('a')) == 'a'\n",
    "# all(): 입력받은 반복 가능 데이터의 요소가 모두 참이면 True 반환\n",
    "# abs(): 입력받은 값의 절댓값 반환\n",
    "# ord(): 입력받은 값의 유니코드 반환\n",
    "# chr(): 입력받은 유니코드에 해당하는 문자를 문자열로 반환"
   ]
  },
  {
   "cell_type": "code",
   "execution_count": 8,
   "metadata": {},
   "outputs": [
    {
     "data": {
      "text/plain": [
       "[1, 3, 8]"
      ]
     },
     "execution_count": 8,
     "metadata": {},
     "output_type": "execute_result"
    }
   ],
   "source": [
    "# Q4. 음수 제거하기\n",
    "l = [1, -2, 3, -5, 8, -3]\n",
    "fl = filter(lambda x : x>=0, l) # 람다 함수는 음수가 아닌 {x}에 대해 True 반환\n",
    "new_list = list(fl)\n",
    "new_list"
   ]
  },
  {
   "cell_type": "code",
   "execution_count": 9,
   "metadata": {},
   "outputs": [
    {
     "data": {
      "text/plain": [
       "'0xea'"
      ]
     },
     "execution_count": 9,
     "metadata": {},
     "output_type": "execute_result"
    }
   ],
   "source": [
    "# Q5. 16진수를 10진수로 변경하기\n",
    "hex(234)"
   ]
  },
  {
   "cell_type": "code",
   "execution_count": 10,
   "metadata": {},
   "outputs": [
    {
     "data": {
      "text/plain": [
       "234"
      ]
     },
     "execution_count": 10,
     "metadata": {},
     "output_type": "execute_result"
    }
   ],
   "source": [
    "int('0xea', 16) # 16진수로 나타난 문자열은 진수를 표기해야 한다."
   ]
  },
  {
   "cell_type": "code",
   "execution_count": 11,
   "metadata": {},
   "outputs": [
    {
     "data": {
      "text/plain": [
       "[3, 6, 9, 12]"
      ]
     },
     "execution_count": 11,
     "metadata": {},
     "output_type": "execute_result"
    }
   ],
   "source": [
    "# Q6. 리스트 항목마다 3을 곱하여 리턴하기\n",
    "l = [1, 2, 3, 4]\n",
    "ml = map(lambda x : 3*x, l)\n",
    "new_list = list(ml)\n",
    "new_list"
   ]
  },
  {
   "cell_type": "code",
   "execution_count": 12,
   "metadata": {},
   "outputs": [
    {
     "data": {
      "text/plain": [
       "-1"
      ]
     },
     "execution_count": 12,
     "metadata": {},
     "output_type": "execute_result"
    }
   ],
   "source": [
    "# Q7. 최댓값과 최솟값의 합\n",
    "l = [-8, 2, 7, 5, -4, 5, 0, 1]\n",
    "sum_val = max(l) + min(l)\n",
    "sum_val"
   ]
  },
  {
   "cell_type": "code",
   "execution_count": 13,
   "metadata": {},
   "outputs": [
    {
     "data": {
      "text/plain": [
       "5.6667"
      ]
     },
     "execution_count": 13,
     "metadata": {},
     "output_type": "execute_result"
    }
   ],
   "source": [
    "# Q8. 소수점 반올림하기\n",
    "round(17/3, 4)"
   ]
  },
  {
   "cell_type": "code",
   "execution_count": 14,
   "metadata": {},
   "outputs": [
    {
     "name": "stdout",
     "output_type": "stream",
     "text": [
      " C 드라이브의 볼륨에는 이름이 없습니다.\n",
      " 볼륨 일련 번호: 2626-C43D\n",
      "\n",
      " C:\\doit 디렉터리\n",
      "\n",
      "2025-01-07  오후 07:53    <DIR>          .\n",
      "2025-01-06  오후 10:41    <DIR>          game\n",
      "2025-01-06  오후 09:05    <DIR>          mymod\n",
      "2025-01-05  오후 06:26               333 new_file.txt\n",
      "2025-01-08  오전 12:03    <DIR>          temp\n",
      "2025-01-05  오후 04:49                 0 복습.txt\n",
      "               2개 파일                 333 바이트\n",
      "               4개 디렉터리  847,402,680,320 바이트 남음\n",
      "\n"
     ]
    }
   ],
   "source": [
    "# Q9. 디렉토리 이동하고 파일 목록 출력하기\n",
    "import os\n",
    "os.chdir(\"C:/doit\")\n",
    "os.system('dir') # 시스템 명령어 실행\n",
    "result = os.popen('dir') # 시스템 명령어 실행 결과를 저장\n",
    "print(result.read())"
   ]
  },
  {
   "cell_type": "code",
   "execution_count": 15,
   "metadata": {},
   "outputs": [
    {
     "name": "stdout",
     "output_type": "stream",
     "text": [
      "[]\n"
     ]
    }
   ],
   "source": [
    "# Q10. 파일 확장자가 .py인 파일만 찾기\n",
    "import glob\n",
    "files = glob.glob(\"C:/doit/*.py\")\n",
    "print(list(files)) # 여태 따라왔다면 아마 아무것도 없을 것이다. 파이썬 파일을 만들고 실행해보자."
   ]
  },
  {
   "cell_type": "code",
   "execution_count": 16,
   "metadata": {},
   "outputs": [
    {
     "name": "stdout",
     "output_type": "stream",
     "text": [
      "2025/01/08 02:54:08\n"
     ]
    }
   ],
   "source": [
    "# Q11. 날짜 표시하기\n",
    "import time\n",
    "print(time.strftime('%Y/%m/%d %X', time.localtime(time.time())))"
   ]
  },
  {
   "cell_type": "code",
   "execution_count": 17,
   "metadata": {},
   "outputs": [
    {
     "name": "stdout",
     "output_type": "stream",
     "text": [
      "17\n",
      "10\n",
      "43\n",
      "18\n",
      "5\n",
      "41\n",
      "[17, 10, 43, 18, 5, 41]\n"
     ]
    }
   ],
   "source": [
    "# Q12. 로또 번호 생성하기\n",
    "import random\n",
    "\n",
    "i = 6\n",
    "lotto_list = []\n",
    "while i:\n",
    "    l = random.randint(1, 45)\n",
    "    if l in lotto_list:\n",
    "        pass\n",
    "    else:\n",
    "        lotto_list.append(l)\n",
    "        print(l)\n",
    "        i -= 1\n",
    "print(lotto_list)"
   ]
  },
  {
   "cell_type": "code",
   "execution_count": 18,
   "metadata": {},
   "outputs": [
    {
     "data": {
      "text/plain": [
       "805"
      ]
     },
     "execution_count": 18,
     "metadata": {},
     "output_type": "execute_result"
    }
   ],
   "source": [
    "# Q13. 민니는 슈화보다 며칠 더 먼저 태어났을까?\n",
    "import datetime\n",
    "minnie_birth = datetime.date(1997, 10, 23)\n",
    "shuhua_birth = datetime.date(2000, 1, 6)\n",
    "diff = shuhua_birth - minnie_birth\n",
    "diff.days"
   ]
  },
  {
   "cell_type": "code",
   "execution_count": 19,
   "metadata": {},
   "outputs": [],
   "source": [
    "# Q14. 기록순으로 정렬하기\n",
    "data = [('윤서현', 15.25), ('김예지', 13.31),\n",
    "        ('박예원', 15.34), ('송순자', 15.57),\n",
    "        ('김시우', 15.48), ('배숙자', 17.9),\n",
    "        ('전정웅', 13.39), ('김혜진', 16.63),\n",
    "        ('최보람', 17.14), ('한지영', 14.83),\n",
    "        ('이성호', 17.7), ('김옥순', 16.71),\n",
    "        ('황민지', 17.65), ('김영철', 16.7),\n",
    "        ('주병철', 15.67), ('박상현 ', 14.16),\n",
    "        ('김영순', 14.81), ('오지아', 15.13),\n",
    "        ('윤지은', 16.93),('문재호', 16.39)]"
   ]
  },
  {
   "cell_type": "code",
   "execution_count": 20,
   "metadata": {},
   "outputs": [
    {
     "data": {
      "text/plain": [
       "[('김예지', 13.31),\n",
       " ('전정웅', 13.39),\n",
       " ('박상현 ', 14.16),\n",
       " ('김영순', 14.81),\n",
       " ('한지영', 14.83),\n",
       " ('오지아', 15.13),\n",
       " ('윤서현', 15.25),\n",
       " ('박예원', 15.34),\n",
       " ('김시우', 15.48),\n",
       " ('송순자', 15.57),\n",
       " ('주병철', 15.67),\n",
       " ('문재호', 16.39),\n",
       " ('김혜진', 16.63),\n",
       " ('김영철', 16.7),\n",
       " ('김옥순', 16.71),\n",
       " ('윤지은', 16.93),\n",
       " ('최보람', 17.14),\n",
       " ('황민지', 17.65),\n",
       " ('이성호', 17.7),\n",
       " ('배숙자', 17.9)]"
      ]
     },
     "execution_count": 20,
     "metadata": {},
     "output_type": "execute_result"
    }
   ],
   "source": [
    "from operator import itemgetter\n",
    "new_data = sorted(data, key=itemgetter(1))\n",
    "new_data"
   ]
  },
  {
   "cell_type": "code",
   "execution_count": 21,
   "metadata": {},
   "outputs": [
    {
     "data": {
      "text/plain": [
       "[('Miyoen', 'Minnie'),\n",
       " ('Miyoen', 'Soyeon'),\n",
       " ('Miyoen', 'Yuqi'),\n",
       " ('Miyoen', 'Shuhua'),\n",
       " ('Minnie', 'Soyeon'),\n",
       " ('Minnie', 'Yuqi'),\n",
       " ('Minnie', 'Shuhua'),\n",
       " ('Soyeon', 'Yuqi'),\n",
       " ('Soyeon', 'Shuhua'),\n",
       " ('Yuqi', 'Shuhua')]"
      ]
     },
     "execution_count": 21,
     "metadata": {},
     "output_type": "execute_result"
    }
   ],
   "source": [
    "# Q15. 청소 당번 2명 뽑기\n",
    "import itertools\n",
    "gidle = ['Miyoen', 'Minnie', 'Soyeon', 'Yuqi', 'Shuhua']\n",
    "unit = itertools.combinations(gidle, 2)\n",
    "list(unit)"
   ]
  },
  {
   "cell_type": "code",
   "execution_count": 22,
   "metadata": {},
   "outputs": [
    {
     "name": "stdout",
     "output_type": "stream",
     "text": [
      "abcd, abdc, acbd, acdb, adbc, adcb, bacd, badc, bcad, bcda, bdac, bdca, cabd, cadb, cbad, cbda, cdab, cdba, dabc, dacb, dbac, dbca, dcab, dcba\n"
     ]
    }
   ],
   "source": [
    "# Q16. 문자열 나열하기\n",
    "import itertools\n",
    "abcd = 'abcd'\n",
    "perm = itertools.permutations(abcd, 4)\n",
    "tuple_list = list(perm)\n",
    "for i, j in enumerate(tuple_list):\n",
    "    if i != (len(tuple_list)-1):\n",
    "        print('%s%s%s%s,' %(j[0], j[1], j[2], j[3]), end=' ')\n",
    "    else:\n",
    "        print('%s%s%s%s' %(j[0], j[1], j[2], j[3]))"
   ]
  },
  {
   "cell_type": "code",
   "execution_count": 23,
   "metadata": {},
   "outputs": [
    {
     "name": "stdout",
     "output_type": "stream",
     "text": [
      "[('Miyeon', 'cleaning'), ('Minnie', 'laundry'), ('Soyeon', 'dish wash'), ('Yuqi', 'rest'), ('Shuhua', 'rest')]\n"
     ]
    }
   ],
   "source": [
    "# Q17. 5명에게 할 일 부여하기\n",
    "import itertools\n",
    "gidle = ['Miyeon', 'Minnie', 'Soyeon', 'Yuqi', 'Shuhua']\n",
    "tasks = ['cleaning', 'laundry', 'dish wash']\n",
    "\n",
    "result = itertools.zip_longest(gidle, tasks, fillvalue='rest')\n",
    "print(list(result))"
   ]
  },
  {
   "cell_type": "code",
   "execution_count": 24,
   "metadata": {},
   "outputs": [
    {
     "name": "stdout",
     "output_type": "stream",
     "text": [
      "40 10.0\n"
     ]
    }
   ],
   "source": [
    "# Q18. 벽에 타일 붙이기\n",
    "import math\n",
    "gcd = math.gcd(200, 80)\n",
    "width = 200 / gcd\n",
    "length = 80 / gcd\n",
    "num = width * length\n",
    "print(gcd, num)"
   ]
  }
 ],
 "metadata": {
  "kernelspec": {
   "display_name": "Python 3",
   "language": "python",
   "name": "python3"
  },
  "language_info": {
   "codemirror_mode": {
    "name": "ipython",
    "version": 3
   },
   "file_extension": ".py",
   "mimetype": "text/x-python",
   "name": "python",
   "nbconvert_exporter": "python",
   "pygments_lexer": "ipython3",
   "version": "3.12.4"
  }
 },
 "nbformat": 4,
 "nbformat_minor": 2
}
