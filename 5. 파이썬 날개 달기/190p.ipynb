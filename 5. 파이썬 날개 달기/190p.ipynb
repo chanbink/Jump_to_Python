{
 "cells": [
  {
   "cell_type": "markdown",
   "metadata": {},
   "source": [
    "# 클래스"
   ]
  },
  {
   "cell_type": "markdown",
   "metadata": {},
   "source": [
    "## 클래스는 왜 필요한가?"
   ]
  },
  {
   "cell_type": "markdown",
   "metadata": {},
   "source": [
    "### 계산기 프로그램을 만들며 클래스 알아보기"
   ]
  },
  {
   "cell_type": "code",
   "execution_count": 1,
   "metadata": {},
   "outputs": [],
   "source": [
    "class Calculator: # 유사 기능을 하는 함수들을 하나의 클래스(class)에 묶어서 정의\n",
    "    def __init__(self):\n",
    "        self.result = 0\n",
    "    \n",
    "    def add(self, num):\n",
    "        self.result += num\n",
    "        return self.result\n",
    "    \n",
    "    def sub(self, num): # 기능을 추가하기 위해 함수를 추가\n",
    "        self.result -= num\n",
    "        return self.result\n",
    "    \n",
    "# 계산기가 필요할 경우, 필요한 만큼 객체를 만들어 함수를 호출하면 된다."
   ]
  },
  {
   "cell_type": "markdown",
   "metadata": {},
   "source": [
    "## 클래스와 객체"
   ]
  },
  {
   "cell_type": "code",
   "execution_count": 2,
   "metadata": {},
   "outputs": [],
   "source": [
    "class Cookie: # 아무 기능도 하지 않는 클래스 Cookie 정의\n",
    "    pass"
   ]
  },
  {
   "cell_type": "code",
   "execution_count": 3,
   "metadata": {},
   "outputs": [],
   "source": [
    "a = Cookie() # 클래스로 두 개의 객체 생성.\n",
    "b = Cookie() # 각 객체들은 서로 영향을 주고받지 않는다.\n",
    "\n",
    "# 클래스로 만든 객체는 인스턴스(instance)라 한다.\n",
    "# 인스턴스는 객체가 어떤 클래스의 객체인지 관계를 표현할 때 쓰인다.\n",
    "# 가령, {a} 자체는 객체라 하지만, Cookie 클래스와의 관계를 나타낼 때에는 {a}는 Cookie의 인스턴스라 한다."
   ]
  },
  {
   "cell_type": "markdown",
   "metadata": {},
   "source": [
    "## 사칙 연산 클래스 만들기"
   ]
  },
  {
   "cell_type": "markdown",
   "metadata": {},
   "source": [
    "### 클래스를 어떻게 만들지 먼저 구상하기"
   ]
  },
  {
   "cell_type": "code",
   "execution_count": 4,
   "metadata": {},
   "outputs": [],
   "source": [
    "# 클래스의 구성 요소 구상\n",
    "# 전체 클래스 정의: FourCal\n",
    "# 사칙 연산은 두 개의 값을 입력받아야 한다. -> 값을 입력받을 함수 필요: setdata()\n",
    "# 사칙 연산에는 덧셈이 있다. -> 덧셈 함수 필요: add()\n",
    "# 사칙 연산에는 뺄셈이 있다. -> 뺄셈 함수 필요: sub()\n",
    "# 사칙 연산에는 곱셈이 있다. -> 곱셈 함수 필요: mul()\n",
    "# 사칙 연산에는 나눗셈이 있다. -> 나눗셈 함수 필요: div()"
   ]
  },
  {
   "cell_type": "code",
   "execution_count": 5,
   "metadata": {},
   "outputs": [],
   "source": [
    "# 클래스로 만든 객체를 중심으로 동작 방식 구상\n",
    "# a = FourCal() # 객체 생성\n",
    "# a.setdata(4, 2) # 계산을 수행할 두 개의 값을 지정\n",
    "# a.add() # add()를 실행하면 합을 계산하고 결과를 반환\n",
    "# a.sub() # sub()를 실행하면 차를 계산하고 결과를 반환\n",
    "# a.mul() # mul()을 실행하면 곱을 계산하고 결과를 반환\n",
    "# a.div() # div()를 실행하면 나눗셈을 계산하고 결과를 반환\n",
    "\n",
    "# 이렇게 코드의 작동 방식을 대략적으로 구상하여 만든 코드를 의사코드(pseudocode)라 한다."
   ]
  },
  {
   "cell_type": "markdown",
   "metadata": {},
   "source": [
    "### 클래스 구조 만들기"
   ]
  },
  {
   "cell_type": "code",
   "execution_count": 6,
   "metadata": {},
   "outputs": [],
   "source": [
    "# 객체를 생성할 수 있도록 클래스 만들기\n",
    "class FourCal:\n",
    "    pass # 현재에는 아무 기능도 없음"
   ]
  },
  {
   "cell_type": "code",
   "execution_count": 7,
   "metadata": {},
   "outputs": [
    {
     "data": {
      "text/plain": [
       "__main__.FourCal"
      ]
     },
     "execution_count": 7,
     "metadata": {},
     "output_type": "execute_result"
    }
   ],
   "source": [
    "# 1. 객체 생성\n",
    "a = FourCal()\n",
    "type(a) # 객체 {a}의 타입은 FourCal 클래스에 해당한다. -> {a}는 FourCal 클래스의 인스턴스이다."
   ]
  },
  {
   "cell_type": "markdown",
   "metadata": {},
   "source": [
    "### 객체에 연산할 숫자 지정하기"
   ]
  },
  {
   "cell_type": "code",
   "execution_count": 8,
   "metadata": {},
   "outputs": [],
   "source": [
    "# 2. 계산을 수행할 두 개의 값을 지정\n",
    "\n",
    "class FourCal:\n",
    "    def setdata(self, first, second):\n",
    "        self.first = first\n",
    "        self.second = second\n",
    "\n",
    "# 클래스 내부의 함수 역시 일반적인 함수들과 똑같이 정의된다.\n",
    "# 클래스에 정의된 함수를 메서드(method)라 한다."
   ]
  },
  {
   "cell_type": "code",
   "execution_count": 9,
   "metadata": {},
   "outputs": [],
   "source": [
    "a = FourCal() # FourCal 클래스로 객체를 생성\n",
    "a.setdata(4, 2) # 객체를 통해 클래스를 호출할 땐 도트(.) 연산자를 사용한다.\n",
    "\n",
    "# 메서드의 첫 번째 매개변수({self})는 자동으로 객체가 전달된다.\n",
    "# 따라서, 위와 같이 함수를 호출할 때엔 {self}에 객체 {a}가 전달된다.\n",
    "# 따라서, 메서드의 첫 번째 매개변수에는 관습적으로 {self}를 사용한다.\n",
    "# {first}와 {second} 매개변수에는 4와 2가 전달된다."
   ]
  },
  {
   "cell_type": "code",
   "execution_count": 10,
   "metadata": {},
   "outputs": [],
   "source": [
    "# 메서드는 아래의 방법들을 이용하여 호출할 수 있다.\n",
    "\n",
    "a = FourCal()\n",
    "FourCal.setdata(a, 4, 2) # 클래스를 이용하여 메서드 호출\n",
    "# 위와 같이 메서드를 호출할 땐, 객체를 반드시 직접 전달해야 한다.\n",
    "# 가능은 하지만, 굳이 이렇게 쓰는 경우가 많지는 않다.\n",
    "\n",
    "a = FourCal()\n",
    "a.setdata(4, 2) # 객체를 이용하여 메서드 호출\n",
    "# 위와 같이 메서드를 호출할 땐, 객체가 자동으로 첫 번째 매개변수에 전달되므로,\n",
    "# 반드시 첫 번째 매개변수는 생략하고 호출해야 한다."
   ]
  },
  {
   "cell_type": "code",
   "execution_count": 11,
   "metadata": {},
   "outputs": [],
   "source": [
    "# 위 코드가 실행되면, 인터프리터는 수행문을 다음과 같이 해석한다.\n",
    "# self.first = 4\n",
    "# self.second = 2\n",
    "\n",
    "# 이는 다음과 같다.\n",
    "# a.first = 4\n",
    "# a.second = 2"
   ]
  },
  {
   "cell_type": "code",
   "execution_count": 12,
   "metadata": {},
   "outputs": [
    {
     "data": {
      "text/plain": [
       "2"
      ]
     },
     "execution_count": 12,
     "metadata": {},
     "output_type": "execute_result"
    }
   ],
   "source": [
    "a = FourCal()\n",
    "a.setdata(4, 2)\n",
    "\n",
    "a.first # 4\n",
    "\n",
    "a.second # a.second = 4라는 문장이 수행되어, {second}라는 객체 변수(object variable)가 생성된다.\n",
    "# 객체에 생성되는 객체만의 변수를 객체 변수, 혹은 속성(attribute)이라 한다."
   ]
  },
  {
   "cell_type": "code",
   "execution_count": 13,
   "metadata": {},
   "outputs": [],
   "source": [
    "a = FourCal()\n",
    "b = FourCal() # 별개의 객체 {a}와 {b}를 FourCal 클래스로 생성"
   ]
  },
  {
   "cell_type": "code",
   "execution_count": 14,
   "metadata": {},
   "outputs": [
    {
     "data": {
      "text/plain": [
       "4"
      ]
     },
     "execution_count": 14,
     "metadata": {},
     "output_type": "execute_result"
    }
   ],
   "source": [
    "a.setdata(4, 2) # {a} 객체의 객체 변수에 4와 2 전달\n",
    "a.first"
   ]
  },
  {
   "cell_type": "code",
   "execution_count": 15,
   "metadata": {},
   "outputs": [
    {
     "data": {
      "text/plain": [
       "3"
      ]
     },
     "execution_count": 15,
     "metadata": {},
     "output_type": "execute_result"
    }
   ],
   "source": [
    "b.setdata(3, 7) # {b} 객체의 객체변수에 3과 7 전달\n",
    "b.first\n",
    "# 그럼 객체 {a}의 객체 변수는 변할까?"
   ]
  },
  {
   "cell_type": "code",
   "execution_count": 16,
   "metadata": {},
   "outputs": [
    {
     "data": {
      "text/plain": [
       "4"
      ]
     },
     "execution_count": 16,
     "metadata": {},
     "output_type": "execute_result"
    }
   ],
   "source": [
    "a.first\n",
    "# 당연히 변하지 않는다. 두 객체 {a}와 {b}는 독립적인 객체이다.\n",
    "# 한 객체의 객체 변수 변경은 다른 객체에 영향을 주지 않는다."
   ]
  },
  {
   "cell_type": "markdown",
   "metadata": {},
   "source": [
    "### 더하기 기능 만들기"
   ]
  },
  {
   "cell_type": "code",
   "execution_count": 17,
   "metadata": {},
   "outputs": [],
   "source": [
    "# add()를 실행하면 합을 계산하고 결과를 반환\n",
    "class FourCal:\n",
    "    def setdata(self, first, second):\n",
    "        self.first = first\n",
    "        self.second = second\n",
    "    def add(self): # add() 메서드 추가\n",
    "        result = self.first + self.second # setdata() 메서드에 의해 생성된 객체 변수를 이용해 덧셈 수행\n",
    "        return result"
   ]
  },
  {
   "cell_type": "code",
   "execution_count": 18,
   "metadata": {},
   "outputs": [],
   "source": [
    "a = FourCal()\n",
    "a.setdata(4, 2)"
   ]
  },
  {
   "cell_type": "code",
   "execution_count": 19,
   "metadata": {},
   "outputs": [
    {
     "data": {
      "text/plain": [
       "6"
      ]
     },
     "execution_count": 19,
     "metadata": {},
     "output_type": "execute_result"
    }
   ],
   "source": [
    "a.add()"
   ]
  },
  {
   "cell_type": "code",
   "execution_count": 20,
   "metadata": {},
   "outputs": [],
   "source": [
    "# setdata() 메서드가 수행된 이후에 add()가 수행될 때의 상황은 다음과 같다.\n",
    "# 1. result = self.first + self.second # 이 때, {result}는 add() 메서드의 지역 변수이다.\n",
    "# 2. 인터프리터는 위 코드를 다음과 같이 해석한다.\n",
    "#    result = a.first + a.second\n",
    "# 3. 객체 변수는 setdata() 메서드에 의해 4와 2가 대입된 상태이다. 따라서 위 코드는 다음과 같다.\n",
    "#    result = 4 + 2\n",
    "# 4. 따라서, add() 메서드는 6을 반환한다."
   ]
  },
  {
   "cell_type": "markdown",
   "metadata": {},
   "source": [
    "### 곱하기, 빼기, 나누기 기능 만들기"
   ]
  },
  {
   "cell_type": "code",
   "execution_count": 21,
   "metadata": {},
   "outputs": [],
   "source": [
    "class FourCal:\n",
    "    def setdata(self, first, second):\n",
    "        self.first = first\n",
    "        self.second = second\n",
    "    def add(self):\n",
    "        result = self.first + self.second\n",
    "        return result\n",
    "    def mul(self): # 곱셈을 수행할 mul() 메서드 추가\n",
    "        result = self.first * self.second\n",
    "        return result\n",
    "    def sub(self): # 뺄셈을 수행할 sub() 메서드 추가\n",
    "        result = self.first - self.second\n",
    "        return result\n",
    "    def div(self): # 나눗셈을 수행할 div() 메서드 추가\n",
    "        result = self.first / self.second\n",
    "        return result"
   ]
  },
  {
   "cell_type": "code",
   "execution_count": 22,
   "metadata": {},
   "outputs": [
    {
     "data": {
      "text/plain": [
       "0.375"
      ]
     },
     "execution_count": 22,
     "metadata": {},
     "output_type": "execute_result"
    }
   ],
   "source": [
    "# 작동 여부 확인\n",
    "a = FourCal()\n",
    "b = FourCal()\n",
    "a.setdata(4, 2)\n",
    "b.setdata(3, 8)\n",
    "\n",
    "a.add() # 6\n",
    "a.mul() # 8\n",
    "a.sub() # 2\n",
    "a.div() # 2\n",
    "\n",
    "b.add() # 11\n",
    "b.mul() # 24\n",
    "b.sub() # -5\n",
    "b.div()"
   ]
  },
  {
   "cell_type": "markdown",
   "metadata": {},
   "source": [
    "## 생성자"
   ]
  },
  {
   "cell_type": "code",
   "execution_count": 23,
   "metadata": {},
   "outputs": [
    {
     "ename": "AttributeError",
     "evalue": "'FourCal' object has no attribute 'first'",
     "output_type": "error",
     "traceback": [
      "\u001b[1;31m---------------------------------------------------------------------------\u001b[0m",
      "\u001b[1;31mAttributeError\u001b[0m                            Traceback (most recent call last)",
      "Cell \u001b[1;32mIn[23], line 2\u001b[0m\n\u001b[0;32m      1\u001b[0m a \u001b[38;5;241m=\u001b[39m FourCal()\n\u001b[1;32m----> 2\u001b[0m \u001b[43ma\u001b[49m\u001b[38;5;241;43m.\u001b[39;49m\u001b[43madd\u001b[49m\u001b[43m(\u001b[49m\u001b[43m)\u001b[49m \u001b[38;5;66;03m# 오류: setdata()를 수행하여 객체 변수를 지정하지 않았으므로 add() 메서드를 수행할 수 없음\u001b[39;00m\n",
      "Cell \u001b[1;32mIn[21], line 6\u001b[0m, in \u001b[0;36mFourCal.add\u001b[1;34m(self)\u001b[0m\n\u001b[0;32m      5\u001b[0m \u001b[38;5;28;01mdef\u001b[39;00m \u001b[38;5;21madd\u001b[39m(\u001b[38;5;28mself\u001b[39m):\n\u001b[1;32m----> 6\u001b[0m     result \u001b[38;5;241m=\u001b[39m \u001b[38;5;28;43mself\u001b[39;49m\u001b[38;5;241;43m.\u001b[39;49m\u001b[43mfirst\u001b[49m \u001b[38;5;241m+\u001b[39m \u001b[38;5;28mself\u001b[39m\u001b[38;5;241m.\u001b[39msecond\n\u001b[0;32m      7\u001b[0m     \u001b[38;5;28;01mreturn\u001b[39;00m result\n",
      "\u001b[1;31mAttributeError\u001b[0m: 'FourCal' object has no attribute 'first'"
     ]
    }
   ],
   "source": [
    "a = FourCal()\n",
    "a.add() # 오류: setdata()를 수행하여 객체 변수를 지정하지 않았으므로 add() 메서드를 수행할 수 없음"
   ]
  },
  {
   "cell_type": "code",
   "execution_count": 24,
   "metadata": {},
   "outputs": [],
   "source": [
    "# 객체에 초깃값을 설정하고 싶을 경우, 생성자(constructor)를 이용한다.\n",
    "class FourCal:\n",
    "    def __init__(self, first, second): # __init__()은 자동으로 생성자가 된다.\n",
    "        self.first = first\n",
    "        self.second = second # setdata() 메서드와 정확히 동일한 기능\n",
    "    def setdata(self, first, second):\n",
    "        self.first = first\n",
    "        self.second = second\n",
    "    def add(self):\n",
    "        result = self.first + self.second\n",
    "        return result\n",
    "    def mul(self):\n",
    "        result = self.first * self.second\n",
    "        return result\n",
    "    def sub(self):\n",
    "        result = self.first - self.second\n",
    "        return result\n",
    "    def div(self):\n",
    "        result = self.first / self.second\n",
    "        return result\n",
    "\n",
    "# 생성자는 객체 생성 시점에 자동으로 호출되는 메서드이다."
   ]
  },
  {
   "cell_type": "code",
   "execution_count": 25,
   "metadata": {},
   "outputs": [
    {
     "ename": "TypeError",
     "evalue": "FourCal.__init__() missing 2 required positional arguments: 'first' and 'second'",
     "output_type": "error",
     "traceback": [
      "\u001b[1;31m---------------------------------------------------------------------------\u001b[0m",
      "\u001b[1;31mTypeError\u001b[0m                                 Traceback (most recent call last)",
      "Cell \u001b[1;32mIn[25], line 1\u001b[0m\n\u001b[1;32m----> 1\u001b[0m a \u001b[38;5;241m=\u001b[39m \u001b[43mFourCal\u001b[49m\u001b[43m(\u001b[49m\u001b[43m)\u001b[49m \u001b[38;5;66;03m# 오류: 객체 생성과 동시에 생성자가 호출되므로, 매개변수에 값이 전달되어야 한다.\u001b[39;00m\n",
      "\u001b[1;31mTypeError\u001b[0m: FourCal.__init__() missing 2 required positional arguments: 'first' and 'second'"
     ]
    }
   ],
   "source": [
    "a = FourCal() # 오류: 객체 생성과 동시에 생성자가 호출되므로, 매개변수에 값이 전달되어야 한다."
   ]
  },
  {
   "cell_type": "code",
   "execution_count": 26,
   "metadata": {},
   "outputs": [],
   "source": [
    "a = FourCal(4, 2) # 생성자의 호출에 필요한 값을 반드시 전달해야 객체가 생성된다."
   ]
  },
  {
   "cell_type": "code",
   "execution_count": 27,
   "metadata": {},
   "outputs": [
    {
     "data": {
      "text/plain": [
       "2"
      ]
     },
     "execution_count": 27,
     "metadata": {},
     "output_type": "execute_result"
    }
   ],
   "source": [
    "a = FourCal(4, 2)\n",
    "a.first # 4\n",
    "a.second # 생성자 호출로 인해 객체 변수가 생성된다."
   ]
  },
  {
   "cell_type": "code",
   "execution_count": 28,
   "metadata": {},
   "outputs": [
    {
     "data": {
      "text/plain": [
       "2.0"
      ]
     },
     "execution_count": 28,
     "metadata": {},
     "output_type": "execute_result"
    }
   ],
   "source": [
    "a.add() # 6\n",
    "a.div()"
   ]
  },
  {
   "cell_type": "markdown",
   "metadata": {},
   "source": [
    "## 클래스의 상속"
   ]
  },
  {
   "cell_type": "code",
   "execution_count": 29,
   "metadata": {},
   "outputs": [],
   "source": [
    "# 다른 클래스의 기능을 물려받는 것을 상속(inheritance)이라 한다.\n",
    "class MoreFourCal(FourCal): # 클래스 FourCal을 상속받는 클래스 MoreFourCal 정의\n",
    "    pass # 추가된 것은 딱히 없으므로, 아직은 상속 클래스와 피상속 클래스의 차이는 없다."
   ]
  },
  {
   "cell_type": "code",
   "execution_count": 30,
   "metadata": {},
   "outputs": [
    {
     "data": {
      "text/plain": [
       "2.0"
      ]
     },
     "execution_count": 30,
     "metadata": {},
     "output_type": "execute_result"
    }
   ],
   "source": [
    "# 피상속 클래스는 상속 클래스의 모든 기능을 사용 가능하다.\n",
    "a = MoreFourCal(4, 2)\n",
    "a.add() # 6\n",
    "a.mul() # 8\n",
    "a.sub() # 2\n",
    "a.div()\n",
    "\n",
    "# 상속은 기존 클래스의 기능을 바꾸지 않고 기능을 추가하거나 기능을 변경할 때 사용한다.\n",
    "# 기존 클래스가 라이브러리로 제공되거나 수정이 허용되지 않을 땐, 상속을 이용하여 수정해야 한다."
   ]
  },
  {
   "cell_type": "code",
   "execution_count": 31,
   "metadata": {},
   "outputs": [],
   "source": [
    "# 상속을 통해 기능 추가\n",
    "class MoreFourCal(FourCal):\n",
    "    def pow(self): # 거듭제곱을 계산하는 기능 추가\n",
    "        result = self.first ** self.second\n",
    "        return result"
   ]
  },
  {
   "cell_type": "code",
   "execution_count": 32,
   "metadata": {},
   "outputs": [
    {
     "data": {
      "text/plain": [
       "6"
      ]
     },
     "execution_count": 32,
     "metadata": {},
     "output_type": "execute_result"
    }
   ],
   "source": [
    "a = MoreFourCal(4, 2)\n",
    "a.pow() # 16, 추가된 메서드가 작동된다.\n",
    "a.add() # 상속받은 메서드도 작동된다."
   ]
  },
  {
   "cell_type": "markdown",
   "metadata": {},
   "source": [
    "## 메서드 오버라이딩"
   ]
  },
  {
   "cell_type": "code",
   "execution_count": 33,
   "metadata": {},
   "outputs": [
    {
     "ename": "ZeroDivisionError",
     "evalue": "division by zero",
     "output_type": "error",
     "traceback": [
      "\u001b[1;31m---------------------------------------------------------------------------\u001b[0m",
      "\u001b[1;31mZeroDivisionError\u001b[0m                         Traceback (most recent call last)",
      "Cell \u001b[1;32mIn[33], line 2\u001b[0m\n\u001b[0;32m      1\u001b[0m a \u001b[38;5;241m=\u001b[39m FourCal(\u001b[38;5;241m4\u001b[39m, \u001b[38;5;241m0\u001b[39m)\n\u001b[1;32m----> 2\u001b[0m \u001b[43ma\u001b[49m\u001b[38;5;241;43m.\u001b[39;49m\u001b[43mdiv\u001b[49m\u001b[43m(\u001b[49m\u001b[43m)\u001b[49m \u001b[38;5;66;03m# 오류: 0으로 나눌 수 없음\u001b[39;00m\n",
      "Cell \u001b[1;32mIn[24], line 19\u001b[0m, in \u001b[0;36mFourCal.div\u001b[1;34m(self)\u001b[0m\n\u001b[0;32m     18\u001b[0m \u001b[38;5;28;01mdef\u001b[39;00m \u001b[38;5;21mdiv\u001b[39m(\u001b[38;5;28mself\u001b[39m):\n\u001b[1;32m---> 19\u001b[0m     result \u001b[38;5;241m=\u001b[39m \u001b[38;5;28;43mself\u001b[39;49m\u001b[38;5;241;43m.\u001b[39;49m\u001b[43mfirst\u001b[49m\u001b[43m \u001b[49m\u001b[38;5;241;43m/\u001b[39;49m\u001b[43m \u001b[49m\u001b[38;5;28;43mself\u001b[39;49m\u001b[38;5;241;43m.\u001b[39;49m\u001b[43msecond\u001b[49m\n\u001b[0;32m     20\u001b[0m     \u001b[38;5;28;01mreturn\u001b[39;00m result\n",
      "\u001b[1;31mZeroDivisionError\u001b[0m: division by zero"
     ]
    }
   ],
   "source": [
    "a = FourCal(4, 0)\n",
    "a.div() # 오류: 0으로 나눌 수 없음"
   ]
  },
  {
   "cell_type": "code",
   "execution_count": 34,
   "metadata": {},
   "outputs": [],
   "source": [
    "class SafeFourCal(FourCal):\n",
    "    def div(self): # 상속 클래스(부모 클래스)의 메서드 이름을 바꾸지 않고 재정의\n",
    "        if self.second == 0:\n",
    "            return 0 # 객체변수 {second}가 0일 때, 0을 반환하도록 기능 변경\n",
    "        else:\n",
    "            return self.first / self.second\n",
    "        \n",
    "# 위와 같이, 상속 클래스의 메서드 이름을 바꾸지 않고 기능을 바꾸는 것을\n",
    "# 메서드 오버라이딩(method overriding)이라 한다."
   ]
  },
  {
   "cell_type": "code",
   "execution_count": 35,
   "metadata": {},
   "outputs": [
    {
     "data": {
      "text/plain": [
       "0"
      ]
     },
     "execution_count": 35,
     "metadata": {},
     "output_type": "execute_result"
    }
   ],
   "source": [
    "a = SafeFourCal(4, 0)\n",
    "a.div() # 메서드를 오버라이딩 할 경우, 피상속 클래스(자손 클래스)의 메서드가 실행된다."
   ]
  },
  {
   "cell_type": "markdown",
   "metadata": {},
   "source": [
    "## 클래스 변수"
   ]
  },
  {
   "cell_type": "code",
   "execution_count": 36,
   "metadata": {},
   "outputs": [],
   "source": [
    "class Family:\n",
    "    lastname = 'Koo' # 클래스 내에 선언한 {lastname}을 클래스 변수(class variable)라 한다."
   ]
  },
  {
   "cell_type": "code",
   "execution_count": 37,
   "metadata": {},
   "outputs": [
    {
     "data": {
      "text/plain": [
       "'Koo'"
      ]
     },
     "execution_count": 37,
     "metadata": {},
     "output_type": "execute_result"
    }
   ],
   "source": [
    "Family.lastname # 클래스 변수는 왼쪽과 같이 사용할 수 있다."
   ]
  },
  {
   "cell_type": "code",
   "execution_count": 38,
   "metadata": {},
   "outputs": [
    {
     "data": {
      "text/plain": [
       "'Koo'"
      ]
     },
     "execution_count": 38,
     "metadata": {},
     "output_type": "execute_result"
    }
   ],
   "source": [
    "a = Family()\n",
    "b = Family()\n",
    "a.lastname # 'Koo'\n",
    "b.lastname # 클래스 변수는 해당 클래스로 만든 모든 객체에서 같다."
   ]
  },
  {
   "cell_type": "code",
   "execution_count": 39,
   "metadata": {},
   "outputs": [
    {
     "data": {
      "text/plain": [
       "'Yeh'"
      ]
     },
     "execution_count": 39,
     "metadata": {},
     "output_type": "execute_result"
    }
   ],
   "source": [
    "Family.lastname = 'Yeh' # 클래스 변수에 접근하여 변경\n",
    "a.lastname # 'Yeh\n",
    "b.lastname # 클래스 변수의 변화가 모든 객체에 그대로 적용된다."
   ]
  },
  {
   "cell_type": "code",
   "execution_count": 40,
   "metadata": {},
   "outputs": [
    {
     "data": {
      "text/plain": [
       "'Song'"
      ]
     },
     "execution_count": 40,
     "metadata": {},
     "output_type": "execute_result"
    }
   ],
   "source": [
    "a.lastname = 'Song' # 이 경우, 객체 {a}에 객체 변수 {lastname}이 새롭게 생성된다.\n",
    "a.lastname # 객체 변수는 클래스 변수와 같은 이름을 가질 수 있다.\n",
    "# 단, 객체 변수와 클래스 변수의 이름이 같을 경우, 객체 변수를 우선 사용한다.\n",
    "# 따라서, 클래스 변수를 사용해야 할 경우, 객체 변수를 삭제해야 한다."
   ]
  },
  {
   "cell_type": "code",
   "execution_count": 41,
   "metadata": {},
   "outputs": [
    {
     "data": {
      "text/plain": [
       "'Yeh'"
      ]
     },
     "execution_count": 41,
     "metadata": {},
     "output_type": "execute_result"
    }
   ],
   "source": [
    "Family.lastname # 'Yeh'\n",
    "b.lastname # {a} 객체의 객체 변수 생성은 변화는 Family 클래스나 객체 {b}에 아무런 영향도 주지 않는다."
   ]
  }
 ],
 "metadata": {
  "kernelspec": {
   "display_name": "Python 3",
   "language": "python",
   "name": "python3"
  },
  "language_info": {
   "codemirror_mode": {
    "name": "ipython",
    "version": 3
   },
   "file_extension": ".py",
   "mimetype": "text/x-python",
   "name": "python",
   "nbconvert_exporter": "python",
   "pygments_lexer": "ipython3",
   "version": "3.12.4"
  }
 },
 "nbformat": 4,
 "nbformat_minor": 2
}
