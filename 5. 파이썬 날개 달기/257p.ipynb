{
 "cells": [
  {
   "cell_type": "markdown",
   "metadata": {},
   "source": [
    "# 표준 라이브러리"
   ]
  },
  {
   "cell_type": "markdown",
   "metadata": {},
   "source": [
    "## datetime.date"
   ]
  },
  {
   "cell_type": "code",
   "execution_count": 1,
   "metadata": {},
   "outputs": [],
   "source": [
    "import datetime\n",
    "dayA = datetime.date(2011, 4, 19) # datetime.date()는 연, 월, 일에 해당하는 숫자를 받아 datetime.date 객체를 생성한다.\n",
    "dayG = datetime.date(2018, 5, 2)"
   ]
  },
  {
   "cell_type": "code",
   "execution_count": 2,
   "metadata": {},
   "outputs": [
    {
     "data": {
      "text/plain": [
       "2570"
      ]
     },
     "execution_count": 2,
     "metadata": {},
     "output_type": "execute_result"
    }
   ],
   "source": [
    "diff = dayG - dayA # 두 객체를 빼면 날짜 차이를 나타내는 timedelta 객체가 반환된다.\n",
    "diff.days # timedelta의 객체 변수 {days}는 일 단위로 계산된 정수 값을 의미한다."
   ]
  },
  {
   "cell_type": "code",
   "execution_count": 3,
   "metadata": {},
   "outputs": [
    {
     "data": {
      "text/plain": [
       "2"
      ]
     },
     "execution_count": 3,
     "metadata": {},
     "output_type": "execute_result"
    }
   ],
   "source": [
    "day = datetime.date(2018, 5, 2)\n",
    "day.weekday() # weekday(): datetime.date 객체로 나타난 날짜의 요일을 정수로 반환한다.\n",
    "# 0: 월, 1: 화, 2: 수, 3: 목, 4: 금, 5: 토, 6: 일"
   ]
  },
  {
   "cell_type": "code",
   "execution_count": 4,
   "metadata": {},
   "outputs": [
    {
     "data": {
      "text/plain": [
       "3"
      ]
     },
     "execution_count": 4,
     "metadata": {},
     "output_type": "execute_result"
    }
   ],
   "source": [
    "day.isoweekday() # 0부터 보는 것이 불편하다면 isoweekday() 함수를 사용하여 1부터 볼 수 있다."
   ]
  },
  {
   "cell_type": "markdown",
   "metadata": {},
   "source": [
    "## time"
   ]
  },
  {
   "cell_type": "markdown",
   "metadata": {},
   "source": [
    "### time.time"
   ]
  },
  {
   "cell_type": "code",
   "execution_count": 5,
   "metadata": {},
   "outputs": [
    {
     "data": {
      "text/plain": [
       "1736262222.9877143"
      ]
     },
     "execution_count": 5,
     "metadata": {},
     "output_type": "execute_result"
    }
   ],
   "source": [
    "# time.time()은 협정 세계 표준시(UTC) 1970년 1월 1일 0시 0분 0초를 기준으로,\n",
    "# 현재까지 지난 시간을 초 단위의 실수로 반환한다.\n",
    "import time\n",
    "time.time()"
   ]
  },
  {
   "cell_type": "markdown",
   "metadata": {},
   "source": [
    "### time.localtime"
   ]
  },
  {
   "cell_type": "code",
   "execution_count": 6,
   "metadata": {},
   "outputs": [
    {
     "data": {
      "text/plain": [
       "time.struct_time(tm_year=2025, tm_mon=1, tm_mday=8, tm_hour=0, tm_min=3, tm_sec=42, tm_wday=2, tm_yday=8, tm_isdst=0)"
      ]
     },
     "execution_count": 6,
     "metadata": {},
     "output_type": "execute_result"
    }
   ],
   "source": [
    "# time.localtime()은 time.time()이 반환한 실숫값을\n",
    "# 연, 월, 일, 시, 분, 초, ...의 형태로 바꾸어 반환한다.\n",
    "time.localtime(time.time())"
   ]
  },
  {
   "cell_type": "markdown",
   "metadata": {},
   "source": [
    "### time.asctime"
   ]
  },
  {
   "cell_type": "code",
   "execution_count": 7,
   "metadata": {},
   "outputs": [
    {
     "data": {
      "text/plain": [
       "'Wed Jan  8 00:03:43 2025'"
      ]
     },
     "execution_count": 7,
     "metadata": {},
     "output_type": "execute_result"
    }
   ],
   "source": [
    "# time.asctime()은 time.localtime()이 반환한 날짜를 받아\n",
    "# 알아보기 쉬운 형태로 반환한다.\n",
    "time.asctime(time.localtime(time.time()))"
   ]
  },
  {
   "cell_type": "markdown",
   "metadata": {},
   "source": [
    "### time.ctime"
   ]
  },
  {
   "cell_type": "code",
   "execution_count": 8,
   "metadata": {},
   "outputs": [
    {
     "data": {
      "text/plain": [
       "'Wed Jan  8 00:03:43 2025'"
      ]
     },
     "execution_count": 8,
     "metadata": {},
     "output_type": "execute_result"
    }
   ],
   "source": [
    "# time.ctime()은 현재 시각을 time.asctime()과 같은 형태로 반환한다.\n",
    "time.ctime() # time.asctime(time.localtime(time.time()))과 같은 기능을 수행한다."
   ]
  },
  {
   "cell_type": "markdown",
   "metadata": {},
   "source": [
    "### time.strftime"
   ]
  },
  {
   "cell_type": "code",
   "execution_count": 9,
   "metadata": {},
   "outputs": [
    {
     "data": {
      "text/plain": [
       "'Wed Jan  8 00:03:43 2025'"
      ]
     },
     "execution_count": 9,
     "metadata": {},
     "output_type": "execute_result"
    }
   ],
   "source": [
    "# time.strftime()은 시간을 원하는 형태로 세밀하게 표현하는 포맷 코드를 제공한다.\n",
    "time.strftime('%x', time.localtime(time.time())) # 현재 설정 지역의 '월/일/연' 형태의 날짜 문자열 출력\n",
    "time.strftime('%c', time.localtime(time.time())) # 날짜와 시간을 같이 출력\n"
   ]
  },
  {
   "cell_type": "code",
   "execution_count": 10,
   "metadata": {},
   "outputs": [
    {
     "name": "stdout",
     "output_type": "stream",
     "text": [
      "time.struct_time(tm_year=2025, tm_mon=1, tm_mday=8, tm_hour=0, tm_min=3, tm_sec=43, tm_wday=2, tm_yday=8, tm_isdst=0)\n",
      "Wed Jan  8 00:03:43 2025\n"
     ]
    },
    {
     "data": {
      "text/plain": [
       "'Wed Jan  8 00:03:43 2025'"
      ]
     },
     "execution_count": 10,
     "metadata": {},
     "output_type": "execute_result"
    }
   ],
   "source": [
    "# localtime(), asctime(), strftime() 함수는 인수 없이 사용할 수 있다.\n",
    "# 이 경우, 무조건 현재 시각을 기준으로 함수가 실행된다.\n",
    "print(time.localtime())\n",
    "print(time.asctime())\n",
    "time.strftime('%c') # 각 함수는 순차적으로 실행되므로, 살짝 다르게 나타날 수도 있다."
   ]
  },
  {
   "cell_type": "markdown",
   "metadata": {},
   "source": [
    "## math.gcd"
   ]
  },
  {
   "cell_type": "code",
   "execution_count": 11,
   "metadata": {},
   "outputs": [
    {
     "data": {
      "text/plain": [
       "20"
      ]
     },
     "execution_count": 11,
     "metadata": {},
     "output_type": "execute_result"
    }
   ],
   "source": [
    "# math.gcd()는 입력받은 숫자의 최대공약수를 반환한다.\n",
    "import math\n",
    "math.gcd(60, 100, 80)"
   ]
  },
  {
   "cell_type": "code",
   "execution_count": 12,
   "metadata": {},
   "outputs": [
    {
     "data": {
      "text/plain": [
       "(3.0, 5.0, 4.0)"
      ]
     },
     "execution_count": 12,
     "metadata": {},
     "output_type": "execute_result"
    }
   ],
   "source": [
    "60/20, 100/20, 80/20 # 각 수를 최대공약수로 나누어 몫을 확인할 수 있다.\n",
    "# 별 말 없이 쉼표로 수식을 나열하면 결과가 튜플로 나타난다."
   ]
  },
  {
   "cell_type": "markdown",
   "metadata": {},
   "source": [
    "## math.lcm"
   ]
  },
  {
   "cell_type": "code",
   "execution_count": 13,
   "metadata": {},
   "outputs": [
    {
     "data": {
      "text/plain": [
       "75"
      ]
     },
     "execution_count": 13,
     "metadata": {},
     "output_type": "execute_result"
    }
   ],
   "source": [
    "# math.lcm()은 입력받은 숫자의 최소공배수를 반환한다.\n",
    "math.lcm(15, 25)"
   ]
  },
  {
   "cell_type": "markdown",
   "metadata": {},
   "source": [
    "## random"
   ]
  },
  {
   "cell_type": "code",
   "execution_count": 14,
   "metadata": {},
   "outputs": [
    {
     "data": {
      "text/plain": [
       "0.17111431751502792"
      ]
     },
     "execution_count": 14,
     "metadata": {},
     "output_type": "execute_result"
    }
   ],
   "source": [
    "# random은 난수를 발생시키는 모듈이다.\n",
    "import random\n",
    "# random.random()은 0.0부터 1.0 사이의 실수 중에서 난수 실수를 생성하여 반환한다.\n",
    "random.random()"
   ]
  },
  {
   "cell_type": "code",
   "execution_count": 15,
   "metadata": {},
   "outputs": [
    {
     "data": {
      "text/plain": [
       "5"
      ]
     },
     "execution_count": 15,
     "metadata": {},
     "output_type": "execute_result"
    }
   ],
   "source": [
    "# random.randint()는 입력받은 두 정수 사이의 난수 정수를 생성하여 반환한다.\n",
    "# 난수를 발생시킬 때, 양 끝 값도 포함한다.\n",
    "random.randint(1, 10) # 1 이상, 10 이하의 정수 중 임의의 수 반환"
   ]
  },
  {
   "cell_type": "code",
   "execution_count": 16,
   "metadata": {},
   "outputs": [
    {
     "data": {
      "text/plain": [
       "7"
      ]
     },
     "execution_count": 16,
     "metadata": {},
     "output_type": "execute_result"
    }
   ],
   "source": [
    "random.randint(1, 55) # 1 이상, 55 이하의 정수 중 임의의 수 반환"
   ]
  },
  {
   "cell_type": "code",
   "execution_count": 17,
   "metadata": {},
   "outputs": [
    {
     "name": "stdout",
     "output_type": "stream",
     "text": [
      "4 [1, 2, 3, 5]\n",
      "2 [1, 3, 5]\n",
      "3 [1, 5]\n",
      "5 [1]\n",
      "1 []\n"
     ]
    }
   ],
   "source": [
    "# random.choice()는 입력받은 리스트에서 무작위로 하나를 선택하여 반환\n",
    "def random_pop(data):\n",
    "    number = random.choice(data) # 리스트에서 무작위 요소를 추출\n",
    "    data.remove(number) # 추출된 숫자를 리스트에서 제거\n",
    "    return number\n",
    "\n",
    "data = [1, 2, 3, 4, 5]\n",
    "while data:\n",
    "    a = random_pop(data)\n",
    "    print(a, data)"
   ]
  },
  {
   "cell_type": "code",
   "execution_count": 18,
   "metadata": {},
   "outputs": [
    {
     "name": "stdout",
     "output_type": "stream",
     "text": [
      "[3, 1, 2, 4, 5]\n"
     ]
    },
    {
     "data": {
      "text/plain": [
       "[4, 2, 3]"
      ]
     },
     "execution_count": 18,
     "metadata": {},
     "output_type": "execute_result"
    }
   ],
   "source": [
    "# random.sample()은 입력받은 리스트에서, 입력받은 수 만큼의 개수의 원소를 무작위로 추출함.\n",
    "data = [1, 2, 3, 4, 5]\n",
    "print(random.sample(data, len(data))) # 추출된 원소들의 순서는 임의로 섞여 있다.\n",
    "\n",
    "data = [1, 2, 3, 4, 5]\n",
    "random.sample(data, 3)"
   ]
  },
  {
   "cell_type": "markdown",
   "metadata": {},
   "source": [
    "## itertools.zip_longest"
   ]
  },
  {
   "cell_type": "code",
   "execution_count": 19,
   "metadata": {},
   "outputs": [
    {
     "name": "stdout",
     "output_type": "stream",
     "text": [
      "[('Miyeon', 'candy'), ('Minnie', 'chocolate'), ('Soyeon', 'jelly'), ('Yuqi', 'nacho'), ('Shuhua', 'nacho')]\n"
     ]
    }
   ],
   "source": [
    "# itertools.zip_longest()는 길이가 다른 반복 가능 데이터를 묶을 수 있다.\n",
    "# 이 때, 그 길이는 가장 긴 데이터에 맞추어지며, 짧은 객체에 채움값을 추가한다.\n",
    "import itertools\n",
    "\n",
    "gidle = ['Miyeon', 'Minnie', 'Soyeon', 'Yuqi', 'Shuhua']\n",
    "snacks = ['candy', 'chocolate', 'jelly']\n",
    "\n",
    "result = itertools.zip_longest(gidle, snacks, fillvalue='nacho') # {fillvalue}는 채움값을 나타내는 매개변수로, 디폴트는 None이다.\n",
    "print(list(result)) # 긴 리스트인 {gidle}의 뒤의 원소 'Yuqi'와 'Shuhua'는 채움값인 'nacho'로 채워진다."
   ]
  },
  {
   "cell_type": "markdown",
   "metadata": {},
   "source": [
    "## itertools.permutations"
   ]
  },
  {
   "cell_type": "code",
   "execution_count": 20,
   "metadata": {},
   "outputs": [
    {
     "data": {
      "text/plain": [
       "[('1', '2'), ('1', '3'), ('2', '1'), ('2', '3'), ('3', '1'), ('3', '2')]"
      ]
     },
     "execution_count": 20,
     "metadata": {},
     "output_type": "execute_result"
    }
   ],
   "source": [
    "# itertools.permutations()는 반복 가능 객체에서,\n",
    "# 특정 개수의 요소로 만들 수 있는 순열을 구해 반복 가능 객체로 만들어 반환한다.\n",
    "list(itertools.permutations(['1', '2', '3'], 2))"
   ]
  },
  {
   "cell_type": "code",
   "execution_count": 21,
   "metadata": {},
   "outputs": [
    {
     "name": "stdout",
     "output_type": "stream",
     "text": [
      "12\n",
      "13\n",
      "21\n",
      "23\n",
      "31\n",
      "32\n"
     ]
    }
   ],
   "source": [
    "# 조합 가능한 두 자리 숫자를 찾을 수도 있다.\n",
    "for a, b in itertools.permutations(['1', '2', '3'], 2):\n",
    "    print(a + b)"
   ]
  },
  {
   "cell_type": "markdown",
   "metadata": {},
   "source": [
    "## itertools.combinations"
   ]
  },
  {
   "cell_type": "code",
   "execution_count": 22,
   "metadata": {},
   "outputs": [],
   "source": [
    "# itertools.combinations()는 반복 가능 객체에서,\n",
    "# 특정 개수의 요소로 만들 수 있는 조합을 구해 반복 가능 객체로 만들어 반환한다.\n",
    "it = itertools.combinations(range(1, 46), 6) # 1부터 45까지의 숫자 중 6개의 숫자를 뽑는 경우의 수(로또)"
   ]
  },
  {
   "cell_type": "code",
   "execution_count": null,
   "metadata": {},
   "outputs": [],
   "source": [
    "for num in it:\n",
    "    print(num) # 8,145,060개의 조합이 출력되므로, 오류는 없으나 실행하지 않는 것을 권장한다."
   ]
  },
  {
   "cell_type": "code",
   "execution_count": 22,
   "metadata": {},
   "outputs": [
    {
     "data": {
      "text/plain": [
       "8145060"
      ]
     },
     "execution_count": 22,
     "metadata": {},
     "output_type": "execute_result"
    }
   ],
   "source": [
    "len(list(itertools.combinations(range(1,46), 6))) # 경우의 수"
   ]
  },
  {
   "cell_type": "code",
   "execution_count": 23,
   "metadata": {},
   "outputs": [
    {
     "data": {
      "text/plain": [
       "15890700"
      ]
     },
     "execution_count": 23,
     "metadata": {},
     "output_type": "execute_result"
    }
   ],
   "source": [
    "# itertools.combinations_with_replacement()를 사용해\n",
    "# 중복 조합을 구할 수 있다.\n",
    "len(list(itertools.combinations_with_replacement(range(1,46), 6))) # 수가 같을 경우, 중복 조합이 조합보다 크다."
   ]
  },
  {
   "cell_type": "markdown",
   "metadata": {},
   "source": [
    "## functools.reduce"
   ]
  },
  {
   "cell_type": "code",
   "execution_count": 24,
   "metadata": {},
   "outputs": [
    {
     "name": "stdout",
     "output_type": "stream",
     "text": [
      "8\n"
     ]
    }
   ],
   "source": [
    "# functools.reduce()는 함수와 반복 가능 객체를 받아,\n",
    "# 함수를 반복 가능 객체의 왼쪽 요소부터 치례로 적용하여,\n",
    "# 하나의 값으로 줄여서 반환한다.\n",
    "import functools\n",
    "\n",
    "num_list = [3, 2, 8, 1, 6, 7]\n",
    "max_num = functools.reduce(lambda x,y : x if x>y else y, num_list) # 둘 중 더 큰 수 선택(왼쪽 요소부터)\n",
    "print(max_num) # 리스트 {num_list}의 최댓값을 반환"
   ]
  },
  {
   "cell_type": "markdown",
   "metadata": {},
   "source": [
    "## shutil"
   ]
  },
  {
   "cell_type": "code",
   "execution_count": 25,
   "metadata": {},
   "outputs": [],
   "source": [
    "# shutil은 파일을 복사하거나 이동할 때 사용하는 모듈이다.\n",
    "# 다음을 미리 터미널에서 실행하여, 파일과 디렉토리를 준비하라.\n",
    "# Anywhere> cd C:\\doit\n",
    "# C:\\doit> mkdir temp"
   ]
  },
  {
   "cell_type": "code",
   "execution_count": 26,
   "metadata": {},
   "outputs": [
    {
     "data": {
      "text/plain": [
       "'C:/doit/temp/foo.bak'"
      ]
     },
     "execution_count": 26,
     "metadata": {},
     "output_type": "execute_result"
    }
   ],
   "source": [
    "# 지금까지의 과정을 잘 따라왔다면 foo.txt라는 파일이 이 디렉토리에 있을 것이다.\n",
    "# shutil.copy()는 두 개의 문자열을 받아,\n",
    "# 첫 문자열이 가리키는 파일을 두 번째 문자열의 경로로 복사한다.\n",
    "import shutil\n",
    "\n",
    "shutil.copy(\"./foo.txt\", \"C:/doit/temp/foo.bak\") # 현재 디렉토리의 foo.txt를 C:\\doit\\temp 디렉토리에 foo.bak로 복사\n",
    "# .bak는 백업 파일을 나타내는 확장자이다.\n",
    "# 원본 파일의 내용을 그대로 담고 있으며, 확장자만 바꾸면 원본 파일로 돌릴 수 있다."
   ]
  },
  {
   "cell_type": "code",
   "execution_count": 27,
   "metadata": {},
   "outputs": [
    {
     "data": {
      "text/plain": [
       "'./foo.bak'"
      ]
     },
     "execution_count": 27,
     "metadata": {},
     "output_type": "execute_result"
    }
   ],
   "source": [
    "# shutil.move()은 두 개의 문자열을 받아,\n",
    "# 첫 문자열이 가리키는 파일을 두 번째 문자열의 경로로 이동시킨다.\n",
    "shutil.move(\"C:/doit/temp/foo.bak\", \"./foo.bak\") # 이 시점에서 \"C:\\doit\\temp\"는 비어 있다."
   ]
  },
  {
   "cell_type": "markdown",
   "metadata": {},
   "source": [
    "## glob"
   ]
  },
  {
   "cell_type": "markdown",
   "metadata": {},
   "source": [
    "### 디렉토리에 있는 파일들을 리스트로 만들기 - glob(pathname)"
   ]
  },
  {
   "cell_type": "code",
   "execution_count": 28,
   "metadata": {},
   "outputs": [
    {
     "data": {
      "text/plain": [
       "['C:/Users/SAMSUNG/Documents/TCCL/코딩연습/Python/점프 투 파이썬/5. 파이썬 날개 달기\\\\241p.ipynb',\n",
       " 'C:/Users/SAMSUNG/Documents/TCCL/코딩연습/Python/점프 투 파이썬/5. 파이썬 날개 달기\\\\246p-1.py',\n",
       " 'C:/Users/SAMSUNG/Documents/TCCL/코딩연습/Python/점프 투 파이썬/5. 파이썬 날개 달기\\\\246p-2.py']"
      ]
     },
     "execution_count": 28,
     "metadata": {},
     "output_type": "execute_result"
    }
   ],
   "source": [
    "# glob.glob()은 해당 디렉토리 안의 파일 이름을 리스트로 묶어 반환한다.\n",
    "# * 등의 메타 문자를 써서 원하는 파일만 불러서 읽을 수 있다.\n",
    "import glob\n",
    "\n",
    "glob.glob(\"C:/Users/SAMSUNG/Documents/TCCL/코딩연습/Python/점프 투 파이썬/5. 파이썬 날개 달기/24*\")\n",
    "# 개인의 컴퓨터 경로에 따라 문자열을 수정하면 된다.\n",
    "# 위의 경우 '.../5. 파이썬 날개 달기' 디렉토리에서,\n",
    "# 이름이 24로 시작하는 파일을 리스트로 만들어 반환한다."
   ]
  },
  {
   "cell_type": "markdown",
   "metadata": {},
   "source": [
    "## pickle"
   ]
  },
  {
   "cell_type": "code",
   "execution_count": 29,
   "metadata": {},
   "outputs": [],
   "source": [
    "# pickle은 객체의 형태를 유지하며 파일에 저장하고 불러올 수 있게 하는 모듈이다.\n",
    "# pickle.dump()는 현재 파일의 객체를 다른 파일에 그대로 저장할 수 있게 한다.\n",
    "import pickle\n",
    "f = open(\"./test.txt\", 'wb') # 'wb'이는 바이너리 쓰기 모드이다.\n",
    "data = {1:'Yuqi', 2:'Shuhua'}\n",
    "pickle.dump(data, f) # 파일 객체 {f}에 딕셔너리 {data}를 저장한다.\n",
    "f.close()"
   ]
  },
  {
   "cell_type": "code",
   "execution_count": 30,
   "metadata": {},
   "outputs": [
    {
     "name": "stdout",
     "output_type": "stream",
     "text": [
      "{1: 'Yuqi', 2: 'Shuhua'}\n"
     ]
    }
   ],
   "source": [
    "# pickle.load()로 저장한 객체를 그대로 불러올 수 있다.\n",
    "f = open(\"./test.txt\", 'rb') # 'rb'는 바이너리 읽기 모드이다.\n",
    "data = pickle.load(f) # 불러온 파일의 딕셔너리 객체를 그대로 불러온다.\n",
    "print(data) # pickle.dump()로 저장했던 딕셔너리가 출력된다."
   ]
  },
  {
   "cell_type": "markdown",
   "metadata": {},
   "source": [
    "## os"
   ]
  },
  {
   "cell_type": "markdown",
   "metadata": {},
   "source": [
    "### 내 시스템의 환경 변숫값을 알고 싶을 때 - os.environ"
   ]
  },
  {
   "cell_type": "code",
   "execution_count": 31,
   "metadata": {},
   "outputs": [
    {
     "data": {
      "text/plain": [
       "environ{'ALLUSERSPROFILE': 'C:\\\\ProgramData',\n",
       "        'APPDATA': 'C:\\\\Users\\\\SAMSUNG\\\\AppData\\\\Roaming',\n",
       "        'CHROME_CRASHPAD_PIPE_NAME': '\\\\\\\\.\\\\pipe\\\\crashpad_37136_WDTCRNMXXDTULBSI',\n",
       "        'COMMONPROGRAMFILES': 'C:\\\\Program Files\\\\Common Files',\n",
       "        'COMMONPROGRAMFILES(X86)': 'C:\\\\Program Files (x86)\\\\Common Files',\n",
       "        'COMMONPROGRAMW6432': 'C:\\\\Program Files\\\\Common Files',\n",
       "        'COMPUTERNAME': 'BOOK-E0IQ45B7JV',\n",
       "        'COMSPEC': 'C:\\\\WINDOWS\\\\system32\\\\cmd.exe',\n",
       "        'DRIVERDATA': 'C:\\\\Windows\\\\System32\\\\Drivers\\\\DriverData',\n",
       "        'EFC_10168': '1',\n",
       "        'ELECTRON_RUN_AS_NODE': '1',\n",
       "        'HOMEDRIVE': 'C:',\n",
       "        'HOMEPATH': '\\\\Users\\\\SAMSUNG',\n",
       "        'JPY_INTERRUPT_EVENT': '1876',\n",
       "        'LOCALAPPDATA': 'C:\\\\Users\\\\SAMSUNG\\\\AppData\\\\Local',\n",
       "        'LOGONSERVER': '\\\\\\\\BOOK-E0IQ45B7JV',\n",
       "        'NUMBER_OF_PROCESSORS': '16',\n",
       "        'ONEDRIVE': 'C:\\\\Users\\\\SAMSUNG\\\\OneDrive',\n",
       "        'ONEDRIVECONSUMER': 'C:\\\\Users\\\\SAMSUNG\\\\OneDrive',\n",
       "        'ORIGINAL_XDG_CURRENT_DESKTOP': 'undefined',\n",
       "        'OS': 'Windows_NT',\n",
       "        'PATH': 'c:\\\\Users\\\\SAMSUNG\\\\AppData\\\\Local\\\\Programs\\\\Python\\\\Python312;c:\\\\Users\\\\SAMSUNG\\\\AppData\\\\Roaming\\\\Python\\\\Python312\\\\Scripts;C:\\\\WINDOWS\\\\system32;C:\\\\WINDOWS;C:\\\\WINDOWS\\\\System32\\\\Wbem;C:\\\\WINDOWS\\\\System32\\\\WindowsPowerShell\\\\v1.0\\\\;C:\\\\WINDOWS\\\\System32\\\\OpenSSH\\\\;C:\\\\MinGW\\\\bin;C:\\\\MinGW\\\\msys\\\\1.0\\\\bin;C:\\\\Program Files\\\\Git\\\\cmd;C:\\\\Users\\\\SAMSUNG\\\\AppData\\\\Local\\\\Programs\\\\Python\\\\Python312\\\\Scripts\\\\;C:\\\\Users\\\\SAMSUNG\\\\AppData\\\\Local\\\\Programs\\\\Python\\\\Python312\\\\;C:\\\\Users\\\\SAMSUNG\\\\AppData\\\\Local\\\\Microsoft\\\\WindowsApps;C:\\\\Users\\\\SAMSUNG\\\\AppData\\\\Local\\\\Programs\\\\Microsoft VS Code\\\\bin;;C:\\\\WINDOWS\\\\system32;C:\\\\WINDOWS;C:\\\\WINDOWS\\\\System32\\\\Wbem;C:\\\\WINDOWS\\\\System32\\\\WindowsPowerShell\\\\v1.0\\\\;C:\\\\WINDOWS\\\\System32\\\\OpenSSH\\\\;C:\\\\MinGW\\\\bin;C:\\\\MinGW\\\\msys\\\\1.0\\\\bin;C:\\\\Program Files\\\\Git\\\\cmd;C:\\\\Users\\\\SAMSUNG\\\\AppData\\\\Local\\\\Programs\\\\Python\\\\Python312\\\\Scripts\\\\;C:\\\\Users\\\\SAMSUNG\\\\AppData\\\\Local\\\\Programs\\\\Python\\\\Python312\\\\;C:\\\\Users\\\\SAMSUNG\\\\AppData\\\\Local\\\\Microsoft\\\\WindowsApps;C:\\\\Users\\\\SAMSUNG\\\\AppData\\\\Local\\\\Programs\\\\Microsoft VS Code\\\\bin;',\n",
       "        'PATHEXT': '.COM;.EXE;.BAT;.CMD;.VBS;.VBE;.JS;.JSE;.WSF;.WSH;.MSC',\n",
       "        'PROCESSOR_ARCHITECTURE': 'AMD64',\n",
       "        'PROCESSOR_IDENTIFIER': 'Intel64 Family 6 Model 154 Stepping 3, GenuineIntel',\n",
       "        'PROCESSOR_LEVEL': '6',\n",
       "        'PROCESSOR_REVISION': '9a03',\n",
       "        'PROGRAMDATA': 'C:\\\\ProgramData',\n",
       "        'PROGRAMFILES': 'C:\\\\Program Files',\n",
       "        'PROGRAMFILES(X86)': 'C:\\\\Program Files (x86)',\n",
       "        'PROGRAMW6432': 'C:\\\\Program Files',\n",
       "        'PSMODULEPATH': 'C:\\\\Program Files\\\\WindowsPowerShell\\\\Modules;C:\\\\WINDOWS\\\\system32\\\\WindowsPowerShell\\\\v1.0\\\\Modules',\n",
       "        'PUBLIC': 'C:\\\\Users\\\\Public',\n",
       "        'PYDEVD_IPYTHON_COMPATIBLE_DEBUGGING': '1',\n",
       "        'PYTHONIOENCODING': 'utf-8',\n",
       "        'PYTHONUNBUFFERED': '1',\n",
       "        'PYTHON_FROZEN_MODULES': 'on',\n",
       "        'SESSIONNAME': 'Console',\n",
       "        'SYSTEMDRIVE': 'C:',\n",
       "        'SYSTEMROOT': 'C:\\\\WINDOWS',\n",
       "        'TEMP': 'C:\\\\Users\\\\SAMSUNG\\\\AppData\\\\Local\\\\Temp',\n",
       "        'TMP': 'C:\\\\Users\\\\SAMSUNG\\\\AppData\\\\Local\\\\Temp',\n",
       "        'USERDOMAIN': 'BOOK-E0IQ45B7JV',\n",
       "        'USERDOMAIN_ROAMINGPROFILE': 'BOOK-E0IQ45B7JV',\n",
       "        'USERNAME': 'SAMSUNG',\n",
       "        'USERPROFILE': 'C:\\\\Users\\\\SAMSUNG',\n",
       "        'VMDNOOSPRAY': '1',\n",
       "        'VSCODE_CODE_CACHE_PATH': 'C:\\\\Users\\\\SAMSUNG\\\\AppData\\\\Roaming\\\\Code\\\\CachedData\\\\fabdb6a30b49f79a7aba0f2ad9df9b399473380f',\n",
       "        'VSCODE_CRASH_REPORTER_PROCESS_TYPE': 'extensionHost',\n",
       "        'VSCODE_CWD': 'C:\\\\Users\\\\SAMSUNG\\\\AppData\\\\Local\\\\Programs\\\\Microsoft VS Code',\n",
       "        'VSCODE_ESM_ENTRYPOINT': 'vs/workbench/api/node/extensionHostProcess',\n",
       "        'VSCODE_HANDLES_UNCAUGHT_ERRORS': 'true',\n",
       "        'VSCODE_IPC_HOOK': '\\\\\\\\.\\\\pipe\\\\3e926ebd-1.96.2-main-sock',\n",
       "        'VSCODE_L10N_BUNDLE_LOCATION': 'file:///c%3A/Users/SAMSUNG/.vscode/extensions/ms-ceintl.vscode-language-pack-ko-1.96.2024121109/translations/extensions/vscode.markdown-language-features.i18n.json',\n",
       "        'VSCODE_NLS_CONFIG': '{\"userLocale\":\"ko\",\"osLocale\":\"ko\",\"resolvedLanguage\":\"ko\",\"defaultMessagesFile\":\"C:\\\\\\\\Users\\\\\\\\SAMSUNG\\\\\\\\AppData\\\\\\\\Local\\\\\\\\Programs\\\\\\\\Microsoft VS Code\\\\\\\\resources\\\\\\\\app\\\\\\\\out\\\\\\\\nls.messages.json\",\"languagePack\":{\"translationsConfigFile\":\"C:\\\\\\\\Users\\\\\\\\SAMSUNG\\\\\\\\AppData\\\\\\\\Roaming\\\\\\\\Code\\\\\\\\clp\\\\\\\\0d8c6eb27ebf0819b0f03bef87650722.ko\\\\\\\\tcf.json\",\"messagesFile\":\"C:\\\\\\\\Users\\\\\\\\SAMSUNG\\\\\\\\AppData\\\\\\\\Roaming\\\\\\\\Code\\\\\\\\clp\\\\\\\\0d8c6eb27ebf0819b0f03bef87650722.ko\\\\\\\\fabdb6a30b49f79a7aba0f2ad9df9b399473380f\\\\\\\\nls.messages.json\",\"corruptMarkerFile\":\"C:\\\\\\\\Users\\\\\\\\SAMSUNG\\\\\\\\AppData\\\\\\\\Roaming\\\\\\\\Code\\\\\\\\clp\\\\\\\\0d8c6eb27ebf0819b0f03bef87650722.ko\\\\\\\\corrupted.info\"},\"locale\":\"ko\",\"availableLanguages\":{\"*\":\"ko\"},\"_languagePackId\":\"0d8c6eb27ebf0819b0f03bef87650722.ko\",\"_languagePackSupport\":true,\"_translationsConfigFile\":\"C:\\\\\\\\Users\\\\\\\\SAMSUNG\\\\\\\\AppData\\\\\\\\Roaming\\\\\\\\Code\\\\\\\\clp\\\\\\\\0d8c6eb27ebf0819b0f03bef87650722.ko\\\\\\\\tcf.json\",\"_cacheRoot\":\"C:\\\\\\\\Users\\\\\\\\SAMSUNG\\\\\\\\AppData\\\\\\\\Roaming\\\\\\\\Code\\\\\\\\clp\\\\\\\\0d8c6eb27ebf0819b0f03bef87650722.ko\",\"_resolvedLanguagePackCoreLocation\":\"C:\\\\\\\\Users\\\\\\\\SAMSUNG\\\\\\\\AppData\\\\\\\\Roaming\\\\\\\\Code\\\\\\\\clp\\\\\\\\0d8c6eb27ebf0819b0f03bef87650722.ko\\\\\\\\fabdb6a30b49f79a7aba0f2ad9df9b399473380f\",\"_corruptedFile\":\"C:\\\\\\\\Users\\\\\\\\SAMSUNG\\\\\\\\AppData\\\\\\\\Roaming\\\\\\\\Code\\\\\\\\clp\\\\\\\\0d8c6eb27ebf0819b0f03bef87650722.ko\\\\\\\\corrupted.info\"}',\n",
       "        'VSCODE_PID': '37136',\n",
       "        'WINDIR': 'C:\\\\WINDOWS',\n",
       "        'ZES_ENABLE_SYSMAN': '1',\n",
       "        'PYDEVD_USE_FRAME_EVAL': 'NO',\n",
       "        'TERM': 'xterm-color',\n",
       "        'CLICOLOR': '1',\n",
       "        'FORCE_COLOR': '1',\n",
       "        'CLICOLOR_FORCE': '1',\n",
       "        'PAGER': 'cat',\n",
       "        'GIT_PAGER': 'cat',\n",
       "        'MPLBACKEND': 'module://matplotlib_inline.backend_inline'}"
      ]
     },
     "execution_count": 31,
     "metadata": {},
     "output_type": "execute_result"
    }
   ],
   "source": [
    "# os는 환경 변수, 디렉토리, 파일 등의 OS 자원을 제어하는 모듈이다.\n",
    "# os.environ은 시스템의 환경 변수를 딕셔너리 형태의 environ 객체로 반환한다.\n",
    "import os\n",
    "\n",
    "os.environ"
   ]
  },
  {
   "cell_type": "code",
   "execution_count": 32,
   "metadata": {},
   "outputs": [
    {
     "data": {
      "text/plain": [
       "'c:\\\\Users\\\\SAMSUNG\\\\AppData\\\\Local\\\\Programs\\\\Python\\\\Python312;c:\\\\Users\\\\SAMSUNG\\\\AppData\\\\Roaming\\\\Python\\\\Python312\\\\Scripts;C:\\\\WINDOWS\\\\system32;C:\\\\WINDOWS;C:\\\\WINDOWS\\\\System32\\\\Wbem;C:\\\\WINDOWS\\\\System32\\\\WindowsPowerShell\\\\v1.0\\\\;C:\\\\WINDOWS\\\\System32\\\\OpenSSH\\\\;C:\\\\MinGW\\\\bin;C:\\\\MinGW\\\\msys\\\\1.0\\\\bin;C:\\\\Program Files\\\\Git\\\\cmd;C:\\\\Users\\\\SAMSUNG\\\\AppData\\\\Local\\\\Programs\\\\Python\\\\Python312\\\\Scripts\\\\;C:\\\\Users\\\\SAMSUNG\\\\AppData\\\\Local\\\\Programs\\\\Python\\\\Python312\\\\;C:\\\\Users\\\\SAMSUNG\\\\AppData\\\\Local\\\\Microsoft\\\\WindowsApps;C:\\\\Users\\\\SAMSUNG\\\\AppData\\\\Local\\\\Programs\\\\Microsoft VS Code\\\\bin;;C:\\\\WINDOWS\\\\system32;C:\\\\WINDOWS;C:\\\\WINDOWS\\\\System32\\\\Wbem;C:\\\\WINDOWS\\\\System32\\\\WindowsPowerShell\\\\v1.0\\\\;C:\\\\WINDOWS\\\\System32\\\\OpenSSH\\\\;C:\\\\MinGW\\\\bin;C:\\\\MinGW\\\\msys\\\\1.0\\\\bin;C:\\\\Program Files\\\\Git\\\\cmd;C:\\\\Users\\\\SAMSUNG\\\\AppData\\\\Local\\\\Programs\\\\Python\\\\Python312\\\\Scripts\\\\;C:\\\\Users\\\\SAMSUNG\\\\AppData\\\\Local\\\\Programs\\\\Python\\\\Python312\\\\;C:\\\\Users\\\\SAMSUNG\\\\AppData\\\\Local\\\\Microsoft\\\\WindowsApps;C:\\\\Users\\\\SAMSUNG\\\\AppData\\\\Local\\\\Programs\\\\Microsoft VS Code\\\\bin;'"
      ]
     },
     "execution_count": 32,
     "metadata": {},
     "output_type": "execute_result"
    }
   ],
   "source": [
    "# 반환받은 객체는 다음과 같이 호출할 수 있다.\n",
    "os.environ['PATH']"
   ]
  },
  {
   "cell_type": "markdown",
   "metadata": {},
   "source": [
    "### 디렉토리 위치 변경하기 - os.chdir"
   ]
  },
  {
   "cell_type": "code",
   "execution_count": 33,
   "metadata": {},
   "outputs": [],
   "source": [
    "# os.chdir()은 입력받은 디렉토리로 위치를 변경한다.\n",
    "# chdir은 change directory의 약자이다.\n",
    "os.chdir(\"C:/WINDOWS\") # C:\\WINDOWS 디렉토리로 이동"
   ]
  },
  {
   "cell_type": "markdown",
   "metadata": {},
   "source": [
    "### 디렉토리 위치 돌려받기 - os.getcwd"
   ]
  },
  {
   "cell_type": "code",
   "execution_count": 34,
   "metadata": {},
   "outputs": [
    {
     "data": {
      "text/plain": [
       "'C:\\\\WINDOWS'"
      ]
     },
     "execution_count": 34,
     "metadata": {},
     "output_type": "execute_result"
    }
   ],
   "source": [
    "# os.getcwd()는 현재 작업 디렉토리 위치를 문자열로 반환한다.\n",
    "# getcwd는 get current working directory의 약자이다.\n",
    "# 작업 디렉토리(working directory)는 현재 파일 작업이 이루어지는 디렉토리를 말한다.\n",
    "os.getcwd() # 앞서 이동한 C:\\WINDOWS의 주소가 반환된다."
   ]
  },
  {
   "cell_type": "markdown",
   "metadata": {},
   "source": [
    "### 시스템 명령어 호출하기 - os.system"
   ]
  },
  {
   "cell_type": "code",
   "execution_count": 35,
   "metadata": {},
   "outputs": [
    {
     "data": {
      "text/plain": [
       "0"
      ]
     },
     "execution_count": 35,
     "metadata": {},
     "output_type": "execute_result"
    }
   ],
   "source": [
    "# os.system()은 시스템 자체의 프로그램이나 기타 명령어를 호출한다.\n",
    "# 아래는 윈도우 명령어인 dir을 파일에서 실행하는 예이다.\n",
    "os.system(\"dir\") # dir은 현재 디렉토리의 상태를 알려주는 명령어이다.\n",
    "# 명령 실행을 성공하면 0을 반환하고, 실패하면 다른 수를 반환한다.\n",
    "# 이를 종료 상태 코드(exit state code)라 한다."
   ]
  },
  {
   "cell_type": "markdown",
   "metadata": {},
   "source": [
    "### 실행한 시스템 명령어의 결괏값 돌려받기 - os.popen"
   ]
  },
  {
   "cell_type": "code",
   "execution_count": 36,
   "metadata": {},
   "outputs": [],
   "source": [
    "# os.popen()은 시스템 명령어를 실행한 결과를 읽기 모드 형태의 파일 객체로 반환한다.\n",
    "f = os.popen(\"dir\")"
   ]
  },
  {
   "cell_type": "code",
   "execution_count": 37,
   "metadata": {},
   "outputs": [
    {
     "name": "stdout",
     "output_type": "stream",
     "text": [
      " C 드라이브의 볼륨에는 이름이 없습니다.\n",
      " 볼륨 일련 번호: 2626-C43D\n",
      "\n",
      " C:\\Windows 디렉터리\n",
      "\n",
      "2025-01-05  오전 11:49    <DIR>          .\n",
      "2025-01-02  오전 10:26    <DIR>          addins\n",
      "2016-09-26  오후 05:46           370,070 adobe_acrobat_pro_dc_edge.ico\n",
      "2016-09-26  오후 05:51           370,070 adobe_creative_cloud_all_apps_edge.ico\n",
      "2016-09-26  오후 05:55           370,070 adobe_premiere_pro_cc_edge.ico\n",
      "2025-01-05  오후 12:16    <DIR>          appcompat\n",
      "2025-01-05  오후 02:25    <DIR>          apppatch\n",
      "2025-01-07  오후 06:52    <DIR>          AppReadiness\n",
      "2025-01-06  오후 12:31    <DIR>          assembly\n",
      "2025-01-02  오전 10:31    <DIR>          bcastdvr\n",
      "2025-01-02  오전 10:28           126,976 bfsvc.exe\n",
      "2024-04-01  오후 04:34    <DIR>          Boot\n",
      "2024-04-01  오후 04:26    <DIR>          Branding\n",
      "2025-01-02  오전 10:31    <DIR>          BrowserCore\n",
      "2025-01-07  오후 04:17    <DIR>          CbsTemp\n",
      "2025-01-05  오전 11:50             9,441 comsetup.log\n",
      "2024-04-01  오후 04:22            23,885 Core.xml\n",
      "2022-05-07  오후 02:20            23,461 CoreSingleLanguage.xml\n",
      "2022-09-22  오후 05:28                10 Csup.txt\n",
      "2024-04-01  오후 04:26    <DIR>          Cursors\n",
      "2025-01-05  오후 12:26    <DIR>          debug\n",
      "2024-04-01  오후 04:34    <DIR>          diagnostics\n",
      "2024-04-01  오후 04:34    <DIR>          DiagTrack\n",
      "2024-04-02  오전 01:35    <DIR>          DigitalLocker\n",
      "2024-12-24  오전 07:19            28,240 DPINST.LOG\n",
      "2025-01-02  오전 10:31             1,156 DtcInstall.log\n",
      "2025-01-02  오전 10:31    <DIR>          en-US\n",
      "2025-01-02  오전 10:28         2,864,984 explorer.exe\n",
      "2025-01-02  오전 10:34    <DIR>          Firmware\n",
      "2024-04-01  오후 04:26    <DIR>          GameBarPresenceWriter\n",
      "2024-04-02  오전 01:37    <DIR>          Globalization\n",
      "2021-07-16  오후 12:44           195,823 Google Duo.ico\n",
      "2024-12-16  오후 01:36    <DIR>          HancomIME\n",
      "2024-04-02  오전 01:35    <DIR>          Help\n",
      "2025-01-02  오전 10:29         1,085,440 HelpPane.exe\n",
      "2025-01-02  오전 10:29            40,960 hh.exe\n",
      "2024-04-01  오후 04:34    <DIR>          IdentityCRL\n",
      "2020-12-15  오전 09:54            13,424 ImageSAFERSvc.exe\n",
      "2025-01-05  오전 11:48    <DIR>          IME\n",
      "2020-12-11  오전 09:00           552,560 IMGSF50Svc.exe\n",
      "2025-01-05  오전 11:49    <DIR>          ImmersiveControlPanel\n",
      "2025-01-02  오전 10:31    <DIR>          InboxApps\n",
      "2025-01-07  오전 11:24    <DIR>          INF\n",
      "2024-04-01  오후 04:34    <DIR>          InputMethod\n",
      "2025-01-02  오전 10:31    <DIR>          ko-KR\n",
      "2024-04-01  오후 04:26    <DIR>          L2Schemas\n",
      "2025-01-05  오전 11:55    <DIR>          LiveKernelReports\n",
      "2025-01-06  오후 12:30    <DIR>          Logs\n",
      "2020-04-28  오후 04:59            24,060 mcafee_edge.ico\n",
      "2024-04-01  오후 04:22            43,131 mib.bin\n",
      "2025-01-07  오전 11:55    <DIR>          Microsoft.NET\n",
      "2024-04-01  오후 04:26    <DIR>          Migration\n",
      "2024-04-01  오후 04:26    <DIR>          ModemLogs\n",
      "2012-08-06  오후 02:14         1,731,072 MSetCaller.exe\n",
      "2024-08-05  오후 01:54    <DIR>          MSetup\n",
      "2025-01-02  오전 10:29           360,448 notepad.exe\n",
      "2025-01-02  오전 10:26    <DIR>          OCR\n",
      "2025-01-05  오전 11:48    <DIR>          oem\n",
      "2024-04-01  오후 04:26    <DIR>          Offline Web Pages\n",
      "2025-01-05  오전 11:52    <DIR>          Panther\n",
      "2024-04-01  오후 04:26    <DIR>          Performance\n",
      "2025-01-05  오전 11:55           103,562 PFRO.log\n",
      "2024-04-01  오후 04:34    <DIR>          PLA\n",
      "2025-01-02  오전 10:31    <DIR>          PolicyDefinitions\n",
      "2025-01-07  오후 07:58    <DIR>          Prefetch\n",
      "2025-01-02  오전 10:31    <DIR>          Provisioning\n",
      "2024-06-06  오후 07:54           766,232 py.exe\n",
      "2024-06-06  오후 07:55            50,968 pyshellext.amd64.dll\n",
      "2024-06-06  오후 07:54           764,696 pyw.exe\n",
      "2025-01-02  오전 10:29           606,208 regedit.exe\n",
      "2025-01-05  오전 11:50    <DIR>          Registration\n",
      "2024-04-01  오후 04:26    <DIR>          rescache\n",
      "2024-04-01  오후 04:34    <DIR>          Resources\n",
      "2021-05-18  오전 01:50         2,875,968 RtlExUpd.dll\n",
      "2010-08-06  오후 05:09            16,018 Samsung.png\n",
      "2024-04-01  오후 04:26    <DIR>          SchCache\n",
      "2025-01-02  오전 10:36    <DIR>          schemas\n",
      "2022-09-23  오전 09:58    <DIR>          sec\n",
      "2021-04-29  오전 11:43         1,971,048 SecTimeSync.exe\n",
      "2024-04-01  오후 04:34    <DIR>          security\n",
      "2025-01-02  오전 10:36    <DIR>          ServiceProfiles\n",
      "2025-01-05  오전 11:55    <DIR>          ServiceState\n",
      "2025-01-02  오전 10:31    <DIR>          servicing\n",
      "2025-01-02  오전 11:04    <DIR>          Setup\n",
      "2025-01-05  오전 11:49            20,999 setupact.log\n",
      "2025-01-05  오전 11:48                 0 setuperr.log\n",
      "2025-01-02  오전 10:31    <DIR>          ShellComponents\n",
      "2025-01-02  오전 10:31    <DIR>          ShellExperiences\n",
      "2024-04-01  오후 04:34    <DIR>          SKB\n",
      "2025-01-05  오전 11:52    <DIR>          SoftwareDistribution\n",
      "2024-04-01  오후 04:26    <DIR>          Speech\n",
      "2024-04-01  오후 04:26    <DIR>          Speech_OneCore\n",
      "2025-01-02  오전 10:29           241,664 splwow64.exe\n",
      "2024-04-01  오후 04:26    <DIR>          System\n",
      "2022-05-07  오후 02:22               219 system.ini\n",
      "2025-01-07  오전 11:24    <DIR>          System32\n",
      "2025-01-02  오전 10:31    <DIR>          SystemApps\n",
      "2025-01-02  오전 10:31    <DIR>          SystemResources\n",
      "2025-01-07  오후 10:48    <DIR>          SystemTemp\n",
      "2025-01-05  오전 11:50    <DIR>          SysWOW64\n",
      "2024-04-01  오후 04:26    <DIR>          TAPI\n",
      "2025-01-05  오전 11:52    <DIR>          Tasks\n",
      "2025-01-07  오후 11:44    <DIR>          Temp\n",
      "2024-04-01  오후 04:26    <DIR>          tracing\n",
      "2024-04-01  오후 04:26    <DIR>          twain_32\n",
      "2024-04-01  오후 04:22            69,120 twain_32.dll\n",
      "2025-01-02  오전 10:31    <DIR>          UUS\n",
      "2024-04-01  오후 04:26    <DIR>          Vss\n",
      "2024-04-01  오후 04:26    <DIR>          WaaS\n",
      "2024-04-01  오후 04:34    <DIR>          Web\n",
      "2022-09-22  오후 05:25               124 win.ini\n",
      "2025-01-07  오후 10:48               276 WindowsUpdate.log\n",
      "2024-04-01  오후 04:22            12,288 winhlp32.exe\n",
      "2025-01-05  오전 11:49    <DIR>          WinSxS\n",
      "2024-04-02  오전 01:38           316,640 WMSysPr9.prx\n",
      "2025-01-02  오전 10:31    <DIR>          WUModels\n",
      "              37개 파일          16,051,311 바이트\n",
      "              79개 디렉터리  847,640,989,696 바이트 남음\n",
      "\n"
     ]
    }
   ],
   "source": [
    "print(f.read()) # 생성된 파일 객체를 읽으면 결과를 알 수 있다."
   ]
  },
  {
   "cell_type": "code",
   "execution_count": 38,
   "metadata": {},
   "outputs": [],
   "source": [
    "# 유용한 os 명령어는 아래의 내용들이 있다.\n",
    "# os.mkdir(): 입력받은 이름의 디렉토리를 생성. (make directory)\n",
    "# os.rmdir(): 입력받은 이름의 디렉토리를 삭제. (remove directory)\n",
    "# os.remove(): 입력받은 이름의 파일을 삭제.\n",
    "# os.rename(): 첫 번째 인수의 파일을 두 번째 인수의 이름으로 변경."
   ]
  },
  {
   "cell_type": "markdown",
   "metadata": {},
   "source": [
    "## zipfile"
   ]
  },
  {
   "cell_type": "code",
   "execution_count": 39,
   "metadata": {},
   "outputs": [],
   "source": [
    "# zipfile은 여러 개의 파일을 zip 형식으로 합치거나 해제하는 모듈이다.\n",
    "# 미리 아래의 명령어를 실행하거나 파일을 직접 만들어라.\n",
    "os.chdir(\"C:/Users/SAMSUNG/Documents/TCCL/코딩연습/Python/점프 투 파이썬/5. 파이썬 날개 달기\")\n",
    "f1 = open(\"./miyeon.txt\", 'w') # 일부 상위 디렉토리는 접근이 제한되어 파일 생성이 안 될 수 있다.\n",
    "f2 = open(\"./minnie.txt\", 'w')\n",
    "f3 = open(\"./soyeon.txt\", 'w')\n",
    "f1.close()\n",
    "f2.close()\n",
    "f3.close()"
   ]
  },
  {
   "cell_type": "code",
   "execution_count": 40,
   "metadata": {},
   "outputs": [],
   "source": [
    "# extract()를 사용하면 .zip의 특정 파일만 골라서 해제할 수 있다.\n",
    "import zipfile\n",
    "\n",
    "with zipfile.ZipFile(\"unnie.zip\") as myzip:\n",
    "    myzip.extract('minnie.txt') # unnie.zip 안의 minnie.txt만 선택적으로 분리"
   ]
  },
  {
   "cell_type": "code",
   "execution_count": 41,
   "metadata": {},
   "outputs": [],
   "source": [
    "# {compression}, {compresslevel} 매개변수를 이용하여 압축하여 묶을 수 있다.\n",
    "with zipfile.ZipFile(\"korean.zip\", 'w', compression=zipfile.ZIP_LZMA, compresslevel=9) as myzip:\n",
    "    myzip.write(\"miyeon.txt\")\n",
    "    myzip.write(\"soyeon.txt\")\n",
    "\n",
    "# 다양한 압축 옵션이 존재한다. 우선 {compression} 옵션에는 아래의 4가지가 존재한다.\n",
    "# ZIP_STORED: 압축하지 않고 zip으로 묶기만 한다. 속도가 빠르다.\n",
    "# ZIP_DEFLATED: 일반적인 zip 압축으로 속도가 빠르지만 압축률이 낮다. (호환성이 좋다.)\n",
    "# ZIP_BZIP: bzip2 압축으로 압축률이 높지만 속도가 느리다.\n",
    "# ZIP_LZMA: lzma 압축으로 압축률이 높지만 속도가 느리다. (7zip과 동일 알고리즘으로 알려져 있다.)\n",
    "\n",
    "# {compressionlevel}은 압축 수준을 의미하며 1부터 9까지 존재한다.\n",
    "# 숫자가 높을수록 압축률이 높아지고 속도는 느려진다."
   ]
  },
  {
   "cell_type": "markdown",
   "metadata": {},
   "source": [
    "## tempfile"
   ]
  },
  {
   "cell_type": "code",
   "execution_count": 42,
   "metadata": {},
   "outputs": [
    {
     "data": {
      "text/plain": [
       "'C:\\\\Users\\\\SAMSUNG\\\\AppData\\\\Local\\\\Temp\\\\tmp_y3lczbj'"
      ]
     },
     "execution_count": 42,
     "metadata": {},
     "output_type": "execute_result"
    }
   ],
   "source": [
    "# tempfile은 파일을 임시로 만들어 사용할 때 유용한 모듈이다.\n",
    "# tempfile.mkstemp()는 중복되지 않는 임시 디렉토리를 만들고 그 이름을 반환한다.\n",
    "import tempfile\n",
    "filename = tempfile.mkdtemp()\n",
    "filename\n",
    "# 만들어진 임시 디렉토리는 자동으로 삭제되지 않으므로, 직접 삭제해야 한다."
   ]
  },
  {
   "cell_type": "code",
   "execution_count": 43,
   "metadata": {},
   "outputs": [],
   "source": [
    "# tempfile.TemporaryFile()은 임시 공간으로 사용할 파일 객체를 반환한다.\n",
    "# 생성된 파일 객체는 기본적으로 바이너리 쓰기 모드(wb)이다.\n",
    "# f.close()가 호출되면 자동으로 파일이 삭제된다.\n",
    "f = tempfile.TemporaryFile() # 임시 파일 생성\n",
    "f.close() # 닫기와 동시에 임시 파일 삭제"
   ]
  },
  {
   "cell_type": "markdown",
   "metadata": {},
   "source": [
    "## json"
   ]
  },
  {
   "cell_type": "code",
   "execution_count": 44,
   "metadata": {},
   "outputs": [],
   "source": [
    "# json은 JSON 데이터를 쉽게 처리하도록 도와주는 모듈이다.\n",
    "# JSON은 데이터를 저장, 전송할 때 사용되는 경량 데이터 교환 방식이다.\n",
    "# JavaScript Object Notation의 약자로, 키-값 쌍으로 구성된 객체로 구성된다.\n",
    "# 본 예제의 경우, 아래의 명령어를 실행하여 미리 .json 파일을 만들자.\n",
    "with open(\"282p.json\", 'w') as f:\n",
    "    content = \"\"\"{\\n    \"name\": \"Minnie\",\\n    \"birth\": \"1023\",\\n    \"age\": 29\\n}\"\"\"\n",
    "    f.write(content)"
   ]
  },
  {
   "cell_type": "code",
   "execution_count": 45,
   "metadata": {},
   "outputs": [
    {
     "data": {
      "text/plain": [
       "{'name': 'Minnie', 'birth': '1023', 'age': 29}"
      ]
     },
     "execution_count": 45,
     "metadata": {},
     "output_type": "execute_result"
    }
   ],
   "source": [
    "import json\n",
    "with open(\"282p.json\") as f:\n",
    "    data = json.load(f) # json.load(): JSON 파일 객체를 불러와 딕셔너리로 반환\n",
    "\n",
    "type(data) # <class 'dict'>\n",
    "data"
   ]
  },
  {
   "cell_type": "code",
   "execution_count": 46,
   "metadata": {},
   "outputs": [],
   "source": [
    "miyeon = {\"name\":\"조미연\", \"birth\":\"0131\", \"age\": 29}\n",
    "with open('283p.json', 'w') as f:\n",
    "    json.dump(miyeon, f) # json.dump(): 딕셔너리와 파일 객체를 받아 JSON 형식으로 저장 "
   ]
  },
  {
   "cell_type": "code",
   "execution_count": 47,
   "metadata": {},
   "outputs": [
    {
     "data": {
      "text/plain": [
       "'{\"name\": \"\\\\uc804\\\\uc18c\\\\uc5f0\", \"birth\": \"0826\", \"age\": 28}'"
      ]
     },
     "execution_count": 47,
     "metadata": {},
     "output_type": "execute_result"
    }
   ],
   "source": [
    "soyeon = {\"name\":\"전소연\", \"birth\":\"0826\", \"age\": 28}\n",
    "json_data = json.dumps(soyeon) # json.dumps(): 딕셔너리를 받아 JSON 문자열 형태로 변환\n",
    "json_data\n",
    "# dump(), dumps()는 기본적으로 데이터를 아스키 형태로 저장한다.\n",
    "# 따라서, 한글을 그대로 나타내면 문자열이 깨지므로 유니코드를 문자열로 저장한다."
   ]
  },
  {
   "cell_type": "code",
   "execution_count": 48,
   "metadata": {},
   "outputs": [
    {
     "data": {
      "text/plain": [
       "{'name': '전소연', 'birth': '0826', 'age': 28}"
      ]
     },
     "execution_count": 48,
     "metadata": {},
     "output_type": "execute_result"
    }
   ],
   "source": [
    "# JSON 문자열을 다시 딕셔너리로 되돌릴 땐 한글이 정상적으로 출력된다.\n",
    "json.loads(json_data) # json.loads(): JSON 문자열을 딕셔너리로 변환"
   ]
  },
  {
   "cell_type": "code",
   "execution_count": 49,
   "metadata": {},
   "outputs": [
    {
     "data": {
      "text/plain": [
       "'{\"name\": \"전소연\", \"birth\": \"0826\", \"age\": 28}'"
      ]
     },
     "execution_count": 49,
     "metadata": {},
     "output_type": "execute_result"
    }
   ],
   "source": [
    "# 한글이 아스키 문자열로 변경되는 것은\n",
    "# {ensure_ascii} 매개변수를 False로 두어 방지할 수 있다.\n",
    "soyeon = {\"name\":\"전소연\", \"birth\":\"0826\", \"age\": 28}\n",
    "json_data = json.dumps(soyeon, ensure_ascii=False)\n",
    "json_data # 유니코드가 아니라 한글이 그대로 출력된다."
   ]
  },
  {
   "cell_type": "code",
   "execution_count": 50,
   "metadata": {},
   "outputs": [
    {
     "name": "stdout",
     "output_type": "stream",
     "text": [
      "{\n",
      "    \"name\": \"조미연\",\n",
      "    \"birth\": \"0131\",\n",
      "    \"age\": 29\n",
      "}\n"
     ]
    }
   ],
   "source": [
    "# {indent} 매개변수를 통해 JSON 문자열을 보기 좋게 정렬할 수 있다.\n",
    "miyeon = {\"name\":\"조미연\", \"birth\":\"0131\", \"age\": 29}\n",
    "print(json.dumps(miyeon, indent=4, ensure_ascii=False))"
   ]
  },
  {
   "cell_type": "code",
   "execution_count": 51,
   "metadata": {},
   "outputs": [
    {
     "data": {
      "text/plain": [
       "'[4, 5, 6]'"
      ]
     },
     "execution_count": 51,
     "metadata": {},
     "output_type": "execute_result"
    }
   ],
   "source": [
    "# 리스트나 튜플도 JSON 문자열로 바꿀 수 있다. 이들은 JSON의 배열 형태로 변환된다.\n",
    "json.dumps([1, 2, 3]) # '[1, 2, 3]'\n",
    "json.dumps((4, 5, 6))"
   ]
  },
  {
   "cell_type": "markdown",
   "metadata": {},
   "source": [
    "## webbrowser"
   ]
  },
  {
   "cell_type": "code",
   "execution_count": 52,
   "metadata": {},
   "outputs": [
    {
     "data": {
      "text/plain": [
       "True"
      ]
     },
     "execution_count": 52,
     "metadata": {},
     "output_type": "execute_result"
    }
   ],
   "source": [
    "# webbrowser는 프로그램 내에서 시스템 브라우저를 호출할 때 쓰이는 모듈이다.\n",
    "import webbrowser\n",
    "\n",
    "webbrowser.open_new(\"https://namu.wiki/w/민니\") # webbrowser.open_new(): 입력받은 주소의 페이지를 새 창으로 엶"
   ]
  },
  {
   "cell_type": "code",
   "execution_count": 53,
   "metadata": {},
   "outputs": [
    {
     "data": {
      "text/plain": [
       "True"
      ]
     },
     "execution_count": 53,
     "metadata": {},
     "output_type": "execute_result"
    }
   ],
   "source": [
    "webbrowser.open(\"https://namu.wiki/w/민니\") # webbrowser.open(): 입력받은 주소의 페이지를 이미 열린 브라우저로 엶"
   ]
  }
 ],
 "metadata": {
  "kernelspec": {
   "display_name": "Python 3",
   "language": "python",
   "name": "python3"
  },
  "language_info": {
   "codemirror_mode": {
    "name": "ipython",
    "version": 3
   },
   "file_extension": ".py",
   "mimetype": "text/x-python",
   "name": "python",
   "nbconvert_exporter": "python",
   "pygments_lexer": "ipython3",
   "version": "3.12.4"
  }
 },
 "nbformat": 4,
 "nbformat_minor": 2
}
