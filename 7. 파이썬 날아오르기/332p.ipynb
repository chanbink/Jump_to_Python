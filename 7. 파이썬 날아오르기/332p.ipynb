{
 "cells": [
  {
   "cell_type": "markdown",
   "metadata": {},
   "source": [
    "# 클로저와 데코레이터"
   ]
  },
  {
   "cell_type": "markdown",
   "metadata": {},
   "source": [
    "## 데코레이터란?"
   ]
  },
  {
   "cell_type": "code",
   "execution_count": 1,
   "metadata": {},
   "outputs": [
    {
     "name": "stdout",
     "output_type": "stream",
     "text": [
      "Function is executed...\n"
     ]
    }
   ],
   "source": [
    "# 문자열을 출력하는 함수 정의\n",
    "def myfunc():\n",
    "    print(\"Function is executed...\")\n",
    "\n",
    "myfunc()"
   ]
  },
  {
   "cell_type": "code",
   "execution_count": 2,
   "metadata": {},
   "outputs": [
    {
     "name": "stdout",
     "output_type": "stream",
     "text": [
      "Function is executed...\n",
      "Function execution time: 0.000000 sec\n"
     ]
    }
   ],
   "source": [
    "# 실행 시간을 축정하도록 정의\n",
    "import time\n",
    "\n",
    "def myfunc():\n",
    "    start = time.time() # 호출 시점\n",
    "    print(\"Function is executed...\")\n",
    "    end = time.time() # 종료 시점\n",
    "    print(\"Function execution time: %f sec\" %(end - start))\n",
    "\n",
    "myfunc()\n",
    "# 직관적이지만, 매 함수마다 이런 코드를 정의하는 것이 비효율적이다."
   ]
  },
  {
   "cell_type": "code",
   "execution_count": 3,
   "metadata": {},
   "outputs": [
    {
     "name": "stdout",
     "output_type": "stream",
     "text": [
      "(1, 2, 3)\n",
      "{'name': 'Minnie', 'age': 29}\n"
     ]
    }
   ],
   "source": [
    "# *args는 입력 인수를 튜플로 변환한다.\n",
    "# **kwargs는 '키=값' 형태의 입력 인수를 딕셔너리로 변환한다.\n",
    "# 데코레이터를 사용할 때 자주 사용하게 되므로 그 전달 형태를 알아야 한다.\n",
    "def func(*args, **kwargs):\n",
    "    print(args)\n",
    "    print(kwargs)\n",
    "\n",
    "func(1, 2, 3, name='Minnie', age = 29)"
   ]
  }
 ],
 "metadata": {
  "kernelspec": {
   "display_name": "Python 3",
   "language": "python",
   "name": "python3"
  },
  "language_info": {
   "codemirror_mode": {
    "name": "ipython",
    "version": 3
   },
   "file_extension": ".py",
   "mimetype": "text/x-python",
   "name": "python",
   "nbconvert_exporter": "python",
   "pygments_lexer": "ipython3",
   "version": "3.12.4"
  }
 },
 "nbformat": 4,
 "nbformat_minor": 2
}
