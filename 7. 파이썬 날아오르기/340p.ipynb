{
 "cells": [
  {
   "cell_type": "markdown",
   "metadata": {},
   "source": [
    "# 이터레이터와 제너레이터"
   ]
  },
  {
   "cell_type": "code",
   "execution_count": 1,
   "metadata": {},
   "outputs": [
    {
     "name": "stdout",
     "output_type": "stream",
     "text": [
      "1\n",
      "2\n",
      "3\n"
     ]
    }
   ],
   "source": [
    "for i in [1, 2, 3]:\n",
    "    print(i)\n",
    "# 리스트와 같이, 반복 구문에 적용할 수 있는 객체를 반복 가능한(iterable) 객체라 한다."
   ]
  },
  {
   "cell_type": "markdown",
   "metadata": {},
   "source": [
    "## 이터레이터란?"
   ]
  },
  {
   "cell_type": "code",
   "execution_count": 2,
   "metadata": {},
   "outputs": [
    {
     "ename": "TypeError",
     "evalue": "'list' object is not an iterator",
     "output_type": "error",
     "traceback": [
      "\u001b[1;31m---------------------------------------------------------------------------\u001b[0m",
      "\u001b[1;31mTypeError\u001b[0m                                 Traceback (most recent call last)",
      "Cell \u001b[1;32mIn[2], line 3\u001b[0m\n\u001b[0;32m      1\u001b[0m \u001b[38;5;66;03m# next() 호출 시 그 다음 값을 반환하는 객체를 이터레이터(iterator)라 한다.\u001b[39;00m\n\u001b[0;32m      2\u001b[0m a \u001b[38;5;241m=\u001b[39m [\u001b[38;5;241m1\u001b[39m, \u001b[38;5;241m2\u001b[39m, \u001b[38;5;241m3\u001b[39m]\n\u001b[1;32m----> 3\u001b[0m \u001b[38;5;28;43mnext\u001b[39;49m\u001b[43m(\u001b[49m\u001b[43ma\u001b[49m\u001b[43m)\u001b[49m \u001b[38;5;66;03m# next(): 이터레이터의 각 요소를 차례로 반환\u001b[39;00m\n\u001b[0;32m      4\u001b[0m \u001b[38;5;66;03m# 오류: 리스트는 이터레이터가 아니다.\u001b[39;00m\n\u001b[0;32m      5\u001b[0m \u001b[38;5;66;03m# 리스트는 반복 가능 객체이지만, 이터레이터는 아니다.\u001b[39;00m\n",
      "\u001b[1;31mTypeError\u001b[0m: 'list' object is not an iterator"
     ]
    }
   ],
   "source": [
    "# next() 호출 시 그 다음 값을 반환하는 객체를 이터레이터(iterator)라 한다.\n",
    "a = [1, 2, 3]\n",
    "next(a) # next(): 이터레이터의 각 요소를 차례로 반환\n",
    "# 오류: 리스트는 이터레이터가 아니다.\n",
    "# 리스트는 반복 가능 객체이지만, 이터레이터는 아니다."
   ]
  },
  {
   "cell_type": "code",
   "execution_count": 3,
   "metadata": {},
   "outputs": [
    {
     "data": {
      "text/plain": [
       "list_iterator"
      ]
     },
     "execution_count": 3,
     "metadata": {},
     "output_type": "execute_result"
    }
   ],
   "source": [
    "a = [1, 2, 3]\n",
    "ia = iter(a) # iter(): 반복 가능 객체를 이터레이터로 바꾸어 반환\n",
    "type(ia)"
   ]
  },
  {
   "cell_type": "code",
   "execution_count": 4,
   "metadata": {},
   "outputs": [
    {
     "ename": "StopIteration",
     "evalue": "",
     "output_type": "error",
     "traceback": [
      "\u001b[1;31m---------------------------------------------------------------------------\u001b[0m",
      "\u001b[1;31mStopIteration\u001b[0m                             Traceback (most recent call last)",
      "Cell \u001b[1;32mIn[4], line 4\u001b[0m\n\u001b[0;32m      2\u001b[0m \u001b[38;5;28mnext\u001b[39m(ia) \u001b[38;5;66;03m# 2\u001b[39;00m\n\u001b[0;32m      3\u001b[0m \u001b[38;5;28mnext\u001b[39m(ia) \u001b[38;5;66;03m# 3\u001b[39;00m\n\u001b[1;32m----> 4\u001b[0m \u001b[38;5;28;43mnext\u001b[39;49m\u001b[43m(\u001b[49m\u001b[43mia\u001b[49m\u001b[43m)\u001b[49m \u001b[38;5;66;03m# 오류: 이터레이터의 모든 요소를 반환하여 더 반환할 값이 없음\u001b[39;00m\n",
      "\u001b[1;31mStopIteration\u001b[0m: "
     ]
    }
   ],
   "source": [
    "next(ia) # 1\n",
    "next(ia) # 2\n",
    "next(ia) # 3\n",
    "next(ia) # 오류: 이터레이터의 모든 요소를 반환하여 더 반환할 값이 없음"
   ]
  },
  {
   "cell_type": "code",
   "execution_count": 5,
   "metadata": {},
   "outputs": [
    {
     "name": "stdout",
     "output_type": "stream",
     "text": [
      "1\n",
      "2\n",
      "3\n"
     ]
    }
   ],
   "source": [
    "# 이터레이터의 값을 가져오는 가장 일반적인 방법은 for문이다.\n",
    "a = [1, 2, 3]\n",
    "ia = iter(a)\n",
    "for i in ia: # 이터레이터 {ia}의 요소를 호출\n",
    "    print(i)"
   ]
  },
  {
   "cell_type": "code",
   "execution_count": 6,
   "metadata": {},
   "outputs": [
    {
     "name": "stdout",
     "output_type": "stream",
     "text": [
      "1\n",
      "2\n",
      "3\n"
     ]
    }
   ],
   "source": [
    "a = [1, 2, 3]\n",
    "ia = iter(a)\n",
    "for i in ia:\n",
    "    print(i) # 이터레이터 {ia}의 요소를 모두 호출\n",
    "\n",
    "for i in ia:\n",
    "    print(i) # {ia}의 요소를 전부 가져왔으므로, 더 이상 출력되지 않는다.\n",
    "\n",
    "# 이터레이터에서 next()나 for문으로 가져온 요소들은 다시 불러올 수 없다."
   ]
  },
  {
   "cell_type": "markdown",
   "metadata": {},
   "source": [
    "## 제너레이터란?"
   ]
  },
  {
   "cell_type": "code",
   "execution_count": 7,
   "metadata": {},
   "outputs": [],
   "source": [
    "# 이터레이터를 생성하는 함수를 제너레이터라 한다.\n",
    "# 제너레이터에선, 차례로 결과를 반환하도록 return 대신 yield를 사용한다.\n",
    "def mygen(): # 문자열 'a', 'b', 'c'를 차례로 호출하는 제너레이터\n",
    "    yield 'a'\n",
    "    yield 'b'\n",
    "    yield 'c'\n",
    "\n",
    "g = mygen() # 제너레이터 함수를 호출하면 자동으로 제너레이터 객체가 생성된다."
   ]
  },
  {
   "cell_type": "code",
   "execution_count": 8,
   "metadata": {},
   "outputs": [
    {
     "data": {
      "text/plain": [
       "generator"
      ]
     },
     "execution_count": 8,
     "metadata": {},
     "output_type": "execute_result"
    }
   ],
   "source": [
    "type(g) # 제너레이터를 호출하여 만든 객체 {g}는 제너레이터 객체이다."
   ]
  },
  {
   "cell_type": "code",
   "execution_count": 9,
   "metadata": {},
   "outputs": [
    {
     "data": {
      "text/plain": [
       "'a'"
      ]
     },
     "execution_count": 9,
     "metadata": {},
     "output_type": "execute_result"
    }
   ],
   "source": [
    "# next() 함수로 제너레이터의 요소를 불러올 수 있다.\n",
    "next(g)"
   ]
  },
  {
   "cell_type": "code",
   "execution_count": 10,
   "metadata": {},
   "outputs": [
    {
     "data": {
      "text/plain": [
       "'b'"
      ]
     },
     "execution_count": 10,
     "metadata": {},
     "output_type": "execute_result"
    }
   ],
   "source": [
    "# 제너레이터는 값을 반환하고 현재 상태를 기억한다.\n",
    "next(g)"
   ]
  },
  {
   "cell_type": "code",
   "execution_count": 11,
   "metadata": {},
   "outputs": [
    {
     "ename": "StopIteration",
     "evalue": "",
     "output_type": "error",
     "traceback": [
      "\u001b[1;31m---------------------------------------------------------------------------\u001b[0m",
      "\u001b[1;31mStopIteration\u001b[0m                             Traceback (most recent call last)",
      "Cell \u001b[1;32mIn[11], line 2\u001b[0m\n\u001b[0;32m      1\u001b[0m \u001b[38;5;28mnext\u001b[39m(g) \u001b[38;5;66;03m# c\u001b[39;00m\n\u001b[1;32m----> 2\u001b[0m \u001b[38;5;28;43mnext\u001b[39;49m\u001b[43m(\u001b[49m\u001b[43mg\u001b[49m\u001b[43m)\u001b[49m \u001b[38;5;66;03m# 오류: StopIteration 발생\u001b[39;00m\n",
      "\u001b[1;31mStopIteration\u001b[0m: "
     ]
    }
   ],
   "source": [
    "next(g) # c\n",
    "next(g) # 오류: StopIteration 발생"
   ]
  },
  {
   "cell_type": "markdown",
   "metadata": {},
   "source": [
    "## 제너레이터 표현식"
   ]
  },
  {
   "cell_type": "code",
   "execution_count": 12,
   "metadata": {},
   "outputs": [
    {
     "name": "stdout",
     "output_type": "stream",
     "text": [
      "1\n",
      "4\n",
      "9\n"
     ]
    }
   ],
   "source": [
    "# 제너레이터를 튜플 표현식으로 간단하게 만들 수 있다.\n",
    "gen = (i * i for i in range(1, 1000)) # 리스트 컴프리헨션과 유사하다.\n",
    "\n",
    "print(next(gen)) # 생성된 {gen}은 제너레이터 객체이다. next()로 요소를 불러올 수 있다.\n",
    "print(next(gen))\n",
    "print(next(gen))"
   ]
  },
  {
   "cell_type": "markdown",
   "metadata": {},
   "source": [
    "## 제너레이터와 이터레이터"
   ]
  },
  {
   "cell_type": "code",
   "execution_count": 13,
   "metadata": {},
   "outputs": [],
   "source": [
    "# 이터레이터는 클래스와 제너레이터를 이용하여 만들 수 있다.\n",
    "# 이터레이터를 만들 때, 성격에 따라 클래스로 구현할지,\n",
    "# 제너레이터로 구현할지 선택해야 한다.\n",
    "class MyIterator: # 1부터 999까지의 제곱을 차례로 내놓는 이터레이터 클래스 정의\n",
    "    def __init__(self):\n",
    "        self.data = 1\n",
    "    \n",
    "    def __iter__(self):\n",
    "        return self\n",
    "    \n",
    "    def __next__(self):\n",
    "        if self.data >= 1000:\n",
    "            raise StopIteration\n",
    "        result = self.data * self.data\n",
    "        self.data += 1\n",
    "        return result\n",
    "\n",
    "gen = MyIterator()"
   ]
  },
  {
   "cell_type": "code",
   "execution_count": 14,
   "metadata": {},
   "outputs": [],
   "source": [
    "# 위 코드는 아래의 코드와 정확히 동일한 기능을 수행한다.\n",
    "# 간단한 기능은 제너레이터를 사용하는 것이 유리하다.\n",
    "def mygen():\n",
    "    for i in range(1, 1000):\n",
    "        yield i * i\n",
    "\n",
    "gen = mygen()"
   ]
  },
  {
   "cell_type": "code",
   "execution_count": 15,
   "metadata": {},
   "outputs": [],
   "source": [
    "# 제너레이터 표현식을 사용하면 더 간단하게 나타난다.\n",
    "gen = (i * i for i in range(1, 1000))"
   ]
  }
 ],
 "metadata": {
  "kernelspec": {
   "display_name": "Python 3",
   "language": "python",
   "name": "python3"
  },
  "language_info": {
   "codemirror_mode": {
    "name": "ipython",
    "version": 3
   },
   "file_extension": ".py",
   "mimetype": "text/x-python",
   "name": "python",
   "nbconvert_exporter": "python",
   "pygments_lexer": "ipython3",
   "version": "3.12.4"
  }
 },
 "nbformat": 4,
 "nbformat_minor": 2
}
