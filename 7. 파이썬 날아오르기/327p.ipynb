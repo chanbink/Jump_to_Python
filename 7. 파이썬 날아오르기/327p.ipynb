{
 "cells": [
  {
   "cell_type": "markdown",
   "metadata": {},
   "source": [
    "# 파이썬과 유니코드"
   ]
  },
  {
   "cell_type": "markdown",
   "metadata": {},
   "source": [
    "## 유니코드로 문자열 다루기"
   ]
  },
  {
   "cell_type": "markdown",
   "metadata": {},
   "source": [
    "### 인코딩하기"
   ]
  },
  {
   "cell_type": "code",
   "execution_count": 1,
   "metadata": {},
   "outputs": [],
   "source": [
    "# 파이썬의 모든 문자열은 유니코드(unicode) 문자열이다.\n",
    "# 가령, 아래의 문자열은 모두 유니코드에 맞추어 이진수로 바뀌어 전달된다.\n",
    "a = \"I love (G)IDLE.\""
   ]
  },
  {
   "cell_type": "code",
   "execution_count": 2,
   "metadata": {},
   "outputs": [
    {
     "data": {
      "text/plain": [
       "bytes"
      ]
     },
     "execution_count": 2,
     "metadata": {},
     "output_type": "execute_result"
    }
   ],
   "source": [
    "# 유니코드는 문자 세트를 구성하는 규칙일 뿐이다.\n",
    "# 따라서, 문자열을 파일에 적거나, 다른 시스템으로 전송할 때,\n",
    "# 바이트(byte) 문자열로 변환해야 한다. 이를 인코딩(encoding)이라 한다.\n",
    "# 바이트 문자열을 수신할 때에는, 인코딩 방식을 알아야 한다.\n",
    "a = \"I love (G)IDLE.\"\n",
    "b = a.encode('utf-8') # encode(): 유니코드 문자열을 입력받은 방식의 바이트 문자열로 변환하여 반환\n",
    "# 위 코드에 의해, 문자열 {a}는 UTF-8 방식으로 바이트 문자열로 변환된다.\n",
    "# encode()의 인수를 생략하면 UTF-8을 디폴트로 받아 작동한다.\n",
    "b # b'I love (G)IDLE.'\n",
    "type(b)"
   ]
  },
  {
   "cell_type": "code",
   "execution_count": 3,
   "metadata": {},
   "outputs": [
    {
     "ename": "UnicodeEncodeError",
     "evalue": "'ascii' codec can't encode characters in position 1-2: ordinal not in range(128)",
     "output_type": "error",
     "traceback": [
      "\u001b[1;31m---------------------------------------------------------------------------\u001b[0m",
      "\u001b[1;31mUnicodeEncodeError\u001b[0m                        Traceback (most recent call last)",
      "Cell \u001b[1;32mIn[3], line 2\u001b[0m\n\u001b[0;32m      1\u001b[0m a \u001b[38;5;241m=\u001b[39m \u001b[38;5;124m\"\u001b[39m\u001b[38;5;124m(여자)아이들\u001b[39m\u001b[38;5;124m\"\u001b[39m \u001b[38;5;66;03m# 한글이 포함된 유니코드 문자열\u001b[39;00m\n\u001b[1;32m----> 2\u001b[0m \u001b[43ma\u001b[49m\u001b[38;5;241;43m.\u001b[39;49m\u001b[43mencode\u001b[49m\u001b[43m(\u001b[49m\u001b[38;5;124;43m'\u001b[39;49m\u001b[38;5;124;43mascii\u001b[39;49m\u001b[38;5;124;43m'\u001b[39;49m\u001b[43m)\u001b[49m \u001b[38;5;66;03m# 문자열을 아스키(ASCII) 방식의 바이트 문자열로 변환\u001b[39;00m\n\u001b[0;32m      3\u001b[0m \u001b[38;5;66;03m# 오류: 아스키 방식으로는 한글을 인코딩할 수 없음.\u001b[39;00m\n",
      "\u001b[1;31mUnicodeEncodeError\u001b[0m: 'ascii' codec can't encode characters in position 1-2: ordinal not in range(128)"
     ]
    }
   ],
   "source": [
    "a = \"(여자)아이들\" # 한글이 포함된 유니코드 문자열\n",
    "a.encode('ascii') # 문자열을 아스키(ASCII) 방식의 바이트 문자열로 변환\n",
    "# 오류: 아스키 방식으로는 한글을 인코딩할 수 없음."
   ]
  },
  {
   "cell_type": "code",
   "execution_count": 4,
   "metadata": {},
   "outputs": [
    {
     "data": {
      "text/plain": [
       "b'(\\xec\\x97\\xac\\xec\\x9e\\x90)\\xec\\x95\\x84\\xec\\x9d\\xb4\\xeb\\x93\\xa4'"
      ]
     },
     "execution_count": 4,
     "metadata": {},
     "output_type": "execute_result"
    }
   ],
   "source": [
    "a = '(여자)아이들'\n",
    "a.encode('euc-kr') # b'(\\xbf\\xa9\\xc0\\xda)\\xbe\\xc6\\xc0\\xcc\\xb5\\xe9'\n",
    "# 유니코드 문자열을 EUC-KR 방식으로 바이트 문자열로 변환\n",
    "a.encode('utf-8') # 유니코드 방식으로 바이트 문자열로 변환\n",
    "# 인코딩 방식이 달라 다른 바이트 문자열을 반환한다."
   ]
  },
  {
   "cell_type": "markdown",
   "metadata": {},
   "source": [
    "### 디코딩하기"
   ]
  },
  {
   "cell_type": "code",
   "execution_count": 5,
   "metadata": {},
   "outputs": [
    {
     "data": {
      "text/plain": [
       "'(여자)아이들'"
      ]
     },
     "execution_count": 5,
     "metadata": {},
     "output_type": "execute_result"
    }
   ],
   "source": [
    "# 인코딩된 문자열은 해당 방식에 맞도록 원래 문자로 돌려야 한다.\n",
    "# 이러한 행위를 디코딩(decoding)이라 한다.\n",
    "# 인코딩과 디코딩은 같은 방식을 사용해야 한다.\n",
    "a = '(여자)아이들'\n",
    "b = a.encode('euc-kr') # EUC-KR 방식으로 인코딩\n",
    "b.decode('euc-kr') # 인코딩된 문자열을 EUC-KR 방식으로 디코딩"
   ]
  },
  {
   "cell_type": "code",
   "execution_count": 6,
   "metadata": {},
   "outputs": [
    {
     "ename": "UnicodeDecodeError",
     "evalue": "'utf-8' codec can't decode byte 0xbf in position 1: invalid start byte",
     "output_type": "error",
     "traceback": [
      "\u001b[1;31m---------------------------------------------------------------------------\u001b[0m",
      "\u001b[1;31mUnicodeDecodeError\u001b[0m                        Traceback (most recent call last)",
      "Cell \u001b[1;32mIn[6], line 1\u001b[0m\n\u001b[1;32m----> 1\u001b[0m \u001b[43mb\u001b[49m\u001b[38;5;241;43m.\u001b[39;49m\u001b[43mdecode\u001b[49m\u001b[43m(\u001b[49m\u001b[38;5;124;43m'\u001b[39;49m\u001b[38;5;124;43mutf-8\u001b[39;49m\u001b[38;5;124;43m'\u001b[39;49m\u001b[43m)\u001b[49m \u001b[38;5;66;03m# 인코딩된 문자열을 UTF-8 방식으로 디코딩\u001b[39;00m\n\u001b[0;32m      2\u001b[0m \u001b[38;5;66;03m# 오류: 인코딩과 디코딩이 다른 방식으로 이루어짐.\u001b[39;00m\n",
      "\u001b[1;31mUnicodeDecodeError\u001b[0m: 'utf-8' codec can't decode byte 0xbf in position 1: invalid start byte"
     ]
    }
   ],
   "source": [
    "b.decode('utf-8') # 인코딩된 문자열을 UTF-8 방식으로 디코딩\n",
    "# 오류: 인코딩과 디코딩이 다른 방식으로 이루어짐."
   ]
  },
  {
   "cell_type": "markdown",
   "metadata": {},
   "source": [
    "### 입출력과 인코딩"
   ]
  },
  {
   "cell_type": "code",
   "execution_count": 7,
   "metadata": {},
   "outputs": [],
   "source": [
    "# 개발자는 데이터 입출력 작업에서 인코딩 때문에 많이 고생한다.\n",
    "# 개념 자체는 어렵지 않지만, 인코딩, 디코딩 실수로 인해,\n",
    "# 다중 인코딩이나 문자열이 꼬이면서 문제가 발생할 수 있다.\n",
    "# 아래의 원칙을 지키면 파일 읽기나 데이터 송수신에서 실수를 피할 수 있다.\n",
    "\n",
    "# 1. 입력으로 받은 바이트 문자열은 되도록 빨리 유니코드 문자열로 디코딩하다.\n",
    "# 2. 함수나 클래스에서는 유니코드 문자열만 사용한다.\n",
    "# 3. 입력에 대한 결과를 전송하는 마지막 부분에서만 유니코드 문자열을 바이트 문자열로 인코딩한다."
   ]
  },
  {
   "cell_type": "code",
   "execution_count": 8,
   "metadata": {},
   "outputs": [],
   "source": [
    "# 아래의 코드를 먼저 수행하라.\n",
    "with open(\"euc_kr.txt\", encoding='euc-kr', mode='w') as f:\n",
    "    data = \"(여자)아이들\" # {data} 자체는 유니코드 문자열이다.\n",
    "    f.write(data) # write() 함수가 호출되어 문자열을 저장할 땐 EUC-KR로 인코딩하여 저장한다.\n",
    "# 따라서, 텍스트 파일에 저장된 이진수와 {data}가 저장하는 이진수는 다르다.\n",
    "\n",
    "# 윈도우와 맥OS 모두 메모장, TextEdit으로 열면 한글을 제대로 보여줄 것이다.\n",
    "# 이는 두 프로그램 모두, 설정 언어를 바탕으로 자동으로 인코딩 방식을 찾아내기 때문이다.\n",
    "# 두 프로그램 모두 UTF-8이 기본 인코딩이나, 일반 사용자를 위해 언어에 따라 레거시 인코딩을 자동으로 지원한다.\n",
    "\n",
    "# 하지만, 비주얼 스튜디오 코드는 해당 기능을 지원하지 않는다.\n",
    "# 비주얼 스튜디오 코드는 인코딩 방식이 현행 표준인 UTF-8을 우선으로 한다.\n",
    "# 따라서, 위에서 만든 파일을 비주얼 스튜디오 코드로 열 경우, 한글이 깨져 �로 보일 것이다."
   ]
  },
  {
   "cell_type": "markdown",
   "metadata": {},
   "source": [
    "### 소스 코드의 인코딩"
   ]
  },
  {
   "cell_type": "code",
   "execution_count": 9,
   "metadata": {},
   "outputs": [],
   "source": [
    "# 소스 코드 역시 텍스트로 구성되는 파일이므로 인코딩 방식이 중요하다.\n",
    "# 이는 비주얼 스튜디오 코드 등의 편집기로 코딩할 때 중요해진다.\n",
    "# 따라서, 소스 코드에는 인코딩 방식을 명시할 필요가 있다."
   ]
  },
  {
   "cell_type": "code",
   "execution_count": 10,
   "metadata": {},
   "outputs": [],
   "source": [
    "# -*- coding: utf-8 -*-\n",
    "# 위의 문장을 소스 코드 가장 위에 적어 파일 인코딩 방식을 명시한다.\n",
    "# 단, 파이썬 3.0 이후로는 UTF-8이 기본 인코딩 방식이므로,\n",
    "# UTF-8로 인코딩한 소스 코드라면 굳이 문장을 적지 않아도 된다.\n",
    "# 단, 다른 방식으로 인코딩했다면, 반드시 인코딩 방식을 적어야 한다.\n",
    "# 그렇지 않다면 오류를 유발할 가능성이 높다.\n",
    "# -*- coding: euc-kr -*-"
   ]
  }
 ],
 "metadata": {
  "kernelspec": {
   "display_name": "Python 3",
   "language": "python",
   "name": "python3"
  },
  "language_info": {
   "codemirror_mode": {
    "name": "ipython",
    "version": 3
   },
   "file_extension": ".py",
   "mimetype": "text/x-python",
   "name": "python",
   "nbconvert_exporter": "python",
   "pygments_lexer": "ipython3",
   "version": "3.12.4"
  }
 },
 "nbformat": 4,
 "nbformat_minor": 2
}
