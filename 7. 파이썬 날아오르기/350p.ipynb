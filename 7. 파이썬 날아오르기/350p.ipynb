{
 "cells": [
  {
   "cell_type": "markdown",
   "metadata": {},
   "source": [
    "# 파이썬 타입 어노테이션"
   ]
  },
  {
   "cell_type": "markdown",
   "metadata": {},
   "source": [
    "## 동적 언어와 정적 언어"
   ]
  },
  {
   "cell_type": "code",
   "execution_count": 1,
   "metadata": {},
   "outputs": [
    {
     "data": {
      "text/plain": [
       "int"
      ]
     },
     "execution_count": 1,
     "metadata": {},
     "output_type": "execute_result"
    }
   ],
   "source": [
    "a = 1\n",
    "type(a)"
   ]
  },
  {
   "cell_type": "code",
   "execution_count": 2,
   "metadata": {},
   "outputs": [
    {
     "data": {
      "text/plain": [
       "str"
      ]
     },
     "execution_count": 2,
     "metadata": {},
     "output_type": "execute_result"
    }
   ],
   "source": [
    "a = '1'\n",
    "type(a) # 원래 int이던 {a}가 str으로 자료형이 변했다.\n",
    "# 이처럼, 프로그램 실행 중에 변수의 자료형을 바꿀 수 있는 언어를\n",
    "# 동적 프로그래밍 언어(dynamic programming language)라 한다.\n",
    "# 반대로, C는 변수 선언 시에 자료형을 같이 정해야 하며,\n",
    "# 해당 자료형에서 벗어난 값을 입력하면, 값이 왜곡되거나 컴파일 자체가 거부된다.\n",
    "# 이러한 언어를 정적 프로그래밍 언어(static programming language)라 한다.\n",
    "# int a = 1;\n",
    "# a = \"Minnie\" # 오류: int형 변수는 문자열을 받을 수 없음"
   ]
  },
  {
   "cell_type": "code",
   "execution_count": 3,
   "metadata": {},
   "outputs": [],
   "source": [
    "# 동적 언어와 정적 언어의 장단점은 다음과 같다.\n",
    "# 동적 언어\n",
    "# 1. 변수를 유연하게 사용할 수 있기 때문에 쉽고 빠른 프로그래밍이 가능하다.\n",
    "# 2. 자료형 체크나 자료형 변환을 위한 별도의 코드가 없어 코드가 깔끔하다.\n",
    "# 3. 자료형 변환을 마음대로 할 수 있으므로, 잘못된 자료형 사용으로 버그가 생길 가능성이 높아진다.\n",
    "# 정적 언어\n",
    "# 1. 선언 시에 변수의 자료형을 명시하고, 자료형을 직접 염두에 두게 되므로, 실수할 가능성이 줄어든다.\n",
    "# 2. 실수를 해도, 자료형이 맞지 않으면 문법 오류로 판단하여, 컴파일러가 잡아낸다.\n",
    "# 3. 변수 간의 자료형 변환이 매끄럽지 못하고 일일이 변환 코드를 적어주어야 한다."
   ]
  },
  {
   "cell_type": "markdown",
   "metadata": {},
   "source": [
    "## 파이썬 타입 어노테이션"
   ]
  },
  {
   "cell_type": "code",
   "execution_count": 4,
   "metadata": {},
   "outputs": [
    {
     "data": {
      "text/plain": [
       "int"
      ]
     },
     "execution_count": 4,
     "metadata": {},
     "output_type": "execute_result"
    }
   ],
   "source": [
    "# 동적 언어의 단점을 극복하기 이해, 파이썬 3.5 버전부터 타입 어노테이션(type annotation) 기능을 지원한다.\n",
    "# 타입 어노테이션은, 변수의 타입을 명시하여 혼동을 방지하기 위한 장치이다.\n",
    "# 단, 정적 언어와 달리, 자료형에 강제성을 부여하지는 않는다.\n",
    "num: int = 1 # 변수 옆에 : int를 붙여, 정수형 변수임을 명시\n",
    "type(num)\n",
    "\n",
    "# C에서 다음과 같은 의미를 가진다.\n",
    "# int num = 1"
   ]
  },
  {
   "cell_type": "code",
   "execution_count": 5,
   "metadata": {},
   "outputs": [],
   "source": [
    "# 매개변수에도 똑같은 규칙을 사용할 수 있다.\n",
    "# ->를 사용하여 함수의 반환형도 명시할 수 있다.\n",
    "def add(a: int, b: int) -> int:\n",
    "    return a + b\n",
    "\n",
    "# C에서 다음과 같은 의미를 가진다.\n",
    "# int add(int a, int b) {\n",
    "#     return a + b\n",
    "# }"
   ]
  },
  {
   "cell_type": "markdown",
   "metadata": {},
   "source": [
    "## mypy"
   ]
  },
  {
   "cell_type": "code",
   "execution_count": 6,
   "metadata": {},
   "outputs": [],
   "source": [
    "# 다음을 터미널에서 실행하여 mypy 라이브러리를 다운로드하라.\n",
    "# Anywhere> pip install mypy\n",
    "\n",
    "# 이후, 다음의 명령어를 터미널에서 실행하라.\n",
    "# CWD> mypy 352p.py # mypy는 명시한 자료형과 값이 맞지 않으면 오류로 처리한다."
   ]
  },
  {
   "cell_type": "code",
   "execution_count": 7,
   "metadata": {},
   "outputs": [],
   "source": [
    "# 자료형을 올바르게 고친 353p.py를 가지고 다음을 터미널에서 실행하라.\n",
    "# CWD> mypy 353p.py # 자료형이 모두 맞으므로 성공으로 처리된다."
   ]
  }
 ],
 "metadata": {
  "kernelspec": {
   "display_name": "Python 3",
   "language": "python",
   "name": "python3"
  },
  "language_info": {
   "codemirror_mode": {
    "name": "ipython",
    "version": 3
   },
   "file_extension": ".py",
   "mimetype": "text/x-python",
   "name": "python",
   "nbconvert_exporter": "python",
   "pygments_lexer": "ipython3",
   "version": "3.12.4"
  }
 },
 "nbformat": 4,
 "nbformat_minor": 2
}
