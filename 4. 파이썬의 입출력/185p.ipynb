{
 "cells": [
  {
   "cell_type": "code",
   "execution_count": 1,
   "metadata": {},
   "outputs": [],
   "source": [
    "# Q1. 홀수, 짝수 판별하기\n",
    "def is_odd(number):\n",
    "    if number%2 == 1:\n",
    "        return True\n",
    "    else:\n",
    "        return False"
   ]
  },
  {
   "cell_type": "code",
   "execution_count": 2,
   "metadata": {},
   "outputs": [
    {
     "data": {
      "text/plain": [
       "3.0"
      ]
     },
     "execution_count": 2,
     "metadata": {},
     "output_type": "execute_result"
    }
   ],
   "source": [
    "# Q2. 모든 입력의 평균값 구하기\n",
    "def avg_numbers(*args):\n",
    "    result = 0\n",
    "    for i in args:\n",
    "        result += i\n",
    "    return result / len(args)\n",
    "\n",
    "avg_numbers(1, 2) # 1.5\n",
    "avg_numbers(1, 2, 3, 4, 5)"
   ]
  },
  {
   "cell_type": "code",
   "execution_count": 3,
   "metadata": {},
   "outputs": [
    {
     "name": "stdout",
     "output_type": "stream",
     "text": [
      "Sum of two numbers is 9.\n"
     ]
    }
   ],
   "source": [
    "# Q3. 프로그램 오류 수정하기 1\n",
    "input1 = int(input(\"Enter 1st number: \"))\n",
    "input2 = int(input(\"Enter 2nd number: \"))\n",
    "\n",
    "total = input1 + input2\n",
    "print(\"Sum of two numbers is %s.\" %total)"
   ]
  },
  {
   "cell_type": "code",
   "execution_count": 4,
   "metadata": {},
   "outputs": [
    {
     "name": "stdout",
     "output_type": "stream",
     "text": [
      "MinnieYuqiShuhua\n",
      "MinnieYuqiShuhua\n",
      "Minnie Yuqi Shuhua\n",
      "MinnieYuqiShuhua\n"
     ]
    }
   ],
   "source": [
    "# Q4. 출력 결과가 다른 것은?\n",
    "print(\"Minnie\" \"Yuqi\" \"Shuhua\")\n",
    "print(\"Minnie\" + \"Yuqi\" + \"Shuhua\")\n",
    "print(\"Minnie\", \"Yuqi\", \"Shuhua\") # ans\n",
    "print(\"\".join([\"Minnie\", \"Yuqi\", \"Shuhua\"]))"
   ]
  },
  {
   "cell_type": "code",
   "execution_count": 5,
   "metadata": {},
   "outputs": [
    {
     "name": "stdout",
     "output_type": "stream",
     "text": [
      "Miyeon, Soyeon\n"
     ]
    }
   ],
   "source": [
    "# Q5. 프로그램 오류 수정하기 2\n",
    "f1 = open(\"test.txt\", 'w')\n",
    "f1.write(\"Miyeon, Soyeon\")\n",
    "f1.close() # 쓰기 모드로 연 파일에 내용을 적을 경우, 강제로 저장을 하거나 파일을 닫을 때 저장된다.\n",
    "\n",
    "f2 = open(\"test.txt\", 'r')\n",
    "print(f2.read())"
   ]
  },
  {
   "cell_type": "code",
   "execution_count": 6,
   "metadata": {},
   "outputs": [],
   "source": [
    "# Q6. 사용자 입력 저장하기\n",
    "user_input = input(\"Enter the text you want to save: \")\n",
    "f = open(\"test.txt\", 'a')\n",
    "f.write(user_input)\n",
    "f.write('\\n')\n",
    "f.close()"
   ]
  },
  {
   "cell_type": "code",
   "execution_count": 7,
   "metadata": {},
   "outputs": [],
   "source": [
    "# Q7. 파일의 문자열 바꾸기\n",
    "f = open(\"test.txt\", 'r')\n",
    "body = f.read()\n",
    "f.close()\n",
    "body = body.replace('SoyeonMinnie', 'Soyeon, Minnie')\n",
    "f = open(\"test.txt\", 'w')\n",
    "f.write(body)\n",
    "f.close()"
   ]
  }
 ],
 "metadata": {
  "kernelspec": {
   "display_name": "Python 3",
   "language": "python",
   "name": "python3"
  },
  "language_info": {
   "codemirror_mode": {
    "name": "ipython",
    "version": 3
   },
   "file_extension": ".py",
   "mimetype": "text/x-python",
   "name": "python",
   "nbconvert_exporter": "python",
   "pygments_lexer": "ipython3",
   "version": "3.12.4"
  }
 },
 "nbformat": 4,
 "nbformat_minor": 2
}
