{
 "cells": [
  {
   "cell_type": "markdown",
   "metadata": {},
   "source": [
    "# 함수"
   ]
  },
  {
   "cell_type": "markdown",
   "metadata": {},
   "source": [
    "## 파이썬 함수의 구조"
   ]
  },
  {
   "cell_type": "code",
   "execution_count": 1,
   "metadata": {},
   "outputs": [],
   "source": [
    "def add(a, b): # def: 함수를 정의하는 예약어. 괄호 안의 변수는 매개변수(parameter)라 한다.\n",
    "    return a + b # return: 함수의 결괏값을 변환하는 명령어이다."
   ]
  },
  {
   "cell_type": "code",
   "execution_count": 2,
   "metadata": {},
   "outputs": [
    {
     "name": "stdout",
     "output_type": "stream",
     "text": [
      "7\n"
     ]
    }
   ],
   "source": [
    "a = 3\n",
    "b = 4\n",
    "c = add(a, b) # add()가 반환한 값이 {c}에 저장된다.\n",
    "print(c)"
   ]
  },
  {
   "cell_type": "markdown",
   "metadata": {},
   "source": [
    "## 매개변수와 인수"
   ]
  },
  {
   "cell_type": "code",
   "execution_count": 3,
   "metadata": {},
   "outputs": [
    {
     "name": "stdout",
     "output_type": "stream",
     "text": [
      "7\n"
     ]
    }
   ],
   "source": [
    "# 매개변수는 함수로 전달될 값을 받는 변수를 말하며, 인수는 함수가 호출될 때 전달되는 값을 말한다.\n",
    "def add(a, b): # {a}, {b}는 add() 함수가 받을 매개변수이다.\n",
    "    return a + b\n",
    "\n",
    "print(add(3, 4)) # 3, 4는 add() 함수가 받은 인수(argument)이다."
   ]
  },
  {
   "cell_type": "markdown",
   "metadata": {},
   "source": [
    "## 입력값과 리턴값에 따른 함수의 형태"
   ]
  },
  {
   "cell_type": "markdown",
   "metadata": {},
   "source": [
    "### 일반적인 함수"
   ]
  },
  {
   "cell_type": "code",
   "execution_count": 4,
   "metadata": {},
   "outputs": [],
   "source": [
    "# 입력값, 결괏값 모두 존재\n",
    "def add(a, b): # 입력값은 매개변수를 통해 전달된다.\n",
    "    result = a + b\n",
    "    return result # 결괏값은 return으로 반환된다."
   ]
  },
  {
   "cell_type": "code",
   "execution_count": 5,
   "metadata": {},
   "outputs": [
    {
     "name": "stdout",
     "output_type": "stream",
     "text": [
      "7\n"
     ]
    }
   ],
   "source": [
    "a = add(3, 4) # 반환된 결괏값은 변수에 저장할 수 있다.\n",
    "print(a)"
   ]
  },
  {
   "cell_type": "markdown",
   "metadata": {},
   "source": [
    "### 입력값이 없는 함수"
   ]
  },
  {
   "cell_type": "code",
   "execution_count": 6,
   "metadata": {},
   "outputs": [],
   "source": [
    "# 입력값은 없지만 결괏값은 존재\n",
    "def sayHi(): # 매개변수가 존재하지 않음\n",
    "    return \"Hi!\" # 결괏값은 반환"
   ]
  },
  {
   "cell_type": "code",
   "execution_count": 7,
   "metadata": {},
   "outputs": [
    {
     "name": "stdout",
     "output_type": "stream",
     "text": [
      "Hi!\n"
     ]
    }
   ],
   "source": [
    "a = sayHi() # sayHi() 함수는 \"Hi!\"를 반환하고 이 문자열은 변수 {a}에 저장된다.\n",
    "# 위 문장은 a = \"Hi!\"와 정확하게 같은 기능을 한다.\n",
    "print(a)"
   ]
  },
  {
   "cell_type": "markdown",
   "metadata": {},
   "source": [
    "### 리턴값이 없는 함수"
   ]
  },
  {
   "cell_type": "code",
   "execution_count": 8,
   "metadata": {},
   "outputs": [],
   "source": [
    "# 입력값은 있지만 결괏값은 없음\n",
    "def add(a, b):\n",
    "    print(\"%d plus %d is %d\" %(a, b, a+b))"
   ]
  },
  {
   "cell_type": "code",
   "execution_count": 9,
   "metadata": {},
   "outputs": [
    {
     "name": "stdout",
     "output_type": "stream",
     "text": [
      "3 plus 4 is 7\n"
     ]
    }
   ],
   "source": [
    "add(3, 4) # 함수 호출 시, 함수 내부의 명령어가 실행된다."
   ]
  },
  {
   "cell_type": "code",
   "execution_count": 10,
   "metadata": {},
   "outputs": [
    {
     "name": "stdout",
     "output_type": "stream",
     "text": [
      "3 plus 4 is 7\n",
      "None\n"
     ]
    }
   ],
   "source": [
    "a = add(3, 4) # add()는 아무 값도 반환하지 않는다. 따라서 이를 변수에 저장하면 아무것도 저장되지 않는다.\n",
    "print(a) # None은 '아무것도 없음'을 의미한다. C의 NULL, Java의 null과 비슷한 의미를 가진다."
   ]
  },
  {
   "cell_type": "markdown",
   "metadata": {},
   "source": [
    "### 입력값도, 리턴값도 없는 함수"
   ]
  },
  {
   "cell_type": "code",
   "execution_count": 11,
   "metadata": {},
   "outputs": [],
   "source": [
    "def sayHi(): # 매개변수도 없고\n",
    "    print(\"Hi!\") # 반환하는 값도 없다."
   ]
  },
  {
   "cell_type": "code",
   "execution_count": 12,
   "metadata": {},
   "outputs": [
    {
     "name": "stdout",
     "output_type": "stream",
     "text": [
      "Hi!\n"
     ]
    }
   ],
   "source": [
    "sayHi() # 이 함수는 내부에 정의된 명령만 수행한다."
   ]
  },
  {
   "cell_type": "markdown",
   "metadata": {},
   "source": [
    "## 매개변수를 지정하여 호출하기"
   ]
  },
  {
   "cell_type": "code",
   "execution_count": 13,
   "metadata": {},
   "outputs": [],
   "source": [
    "def sub(a, b):\n",
    "    return a - b"
   ]
  },
  {
   "cell_type": "code",
   "execution_count": 14,
   "metadata": {},
   "outputs": [
    {
     "name": "stdout",
     "output_type": "stream",
     "text": [
      "4\n"
     ]
    }
   ],
   "source": [
    "result = sub(a=7, b=3) # 함수의 매개변수를 지정하여 직접 값을 전달할 수 있다.\n",
    "print(result)"
   ]
  },
  {
   "cell_type": "code",
   "execution_count": 15,
   "metadata": {},
   "outputs": [
    {
     "name": "stdout",
     "output_type": "stream",
     "text": [
      "-2\n"
     ]
    }
   ],
   "source": [
    "result = sub(b=5, a=3) # 이 경우, 순서는 굳이 고려할 필요가 없다. 매개변수가 많아질 때 이러한 방식을 많이 사용한다.\n",
    "print(result)"
   ]
  },
  {
   "cell_type": "markdown",
   "metadata": {},
   "source": [
    "## 입력값이 몇 개가 될지 모를 때는 어떻게 해야 할까?"
   ]
  },
  {
   "cell_type": "markdown",
   "metadata": {},
   "source": [
    "### 여러 개의 입력값을 받는 함수 만들기"
   ]
  },
  {
   "cell_type": "code",
   "execution_count": 16,
   "metadata": {},
   "outputs": [],
   "source": [
    "def add_many(*args): # 매개변수 이름 앞에 *를 붙이면, 입력값을 모두 모아 튜플로 만든다.\n",
    "    # 관습적으로 args를 이름으로 사용하나, 무슨 이름이어도 상관 없다.\n",
    "    result = 0\n",
    "    for i in args: # {args}는 튜플.\n",
    "        result = result + i # 튜플 {args}의 원소를 반복적으로 더함.\n",
    "    return result"
   ]
  },
  {
   "cell_type": "code",
   "execution_count": 17,
   "metadata": {},
   "outputs": [
    {
     "name": "stdout",
     "output_type": "stream",
     "text": [
      "6\n",
      "55\n"
     ]
    }
   ],
   "source": [
    "result = add_many(1, 2 ,3)\n",
    "print(result)\n",
    "\n",
    "result = add_many(1, 2, 3, 4, 5, 6, 7, 8, 9, 10)\n",
    "print(result)"
   ]
  },
  {
   "cell_type": "code",
   "execution_count": 18,
   "metadata": {},
   "outputs": [],
   "source": [
    "def add_mul(choice, *args): # 여러 값을 받는 매개변수 이외의 매개변수를 추가로 설정 가능하다.\n",
    "    if choice == 'add': # {choice} 매개변수에 문자열 'add'가 입력되었을 때\n",
    "        result = 0\n",
    "        for i in args:\n",
    "            result = result + i # {args}에 입력받은 값을 모두 더함.\n",
    "    elif choice == 'mul': # {choice} 매개변수에 문자열 'mul'이 입력되었을 때\n",
    "        result = 1\n",
    "        for i in args:\n",
    "            result = result * i # {args}에 입력받은 값을 모두 곱함\n",
    "    return result"
   ]
  },
  {
   "cell_type": "code",
   "execution_count": 19,
   "metadata": {},
   "outputs": [
    {
     "name": "stdout",
     "output_type": "stream",
     "text": [
      "15\n",
      "120\n"
     ]
    }
   ],
   "source": [
    "result = add_mul('add', 1, 2, 3, 4, 5)\n",
    "print(result)\n",
    "\n",
    "result = add_mul('mul', 1, 2, 3, 4, 5)\n",
    "print(result)"
   ]
  },
  {
   "cell_type": "markdown",
   "metadata": {},
   "source": [
    "## 키워드 매개변수, kwargs"
   ]
  },
  {
   "cell_type": "code",
   "execution_count": 20,
   "metadata": {},
   "outputs": [],
   "source": [
    "def print_kwargs(**kwargs): # 매개변수 앞에 **를 붙일 경우, 키워드 매개변수(keyword parameter)가 된다.\n",
    "    # 키워드 매개변수 역시 이름에 제약은 없으나, 관습적으로 kwargs를 사용한다.\n",
    "    print(kwargs) # 입력받은 키워드 매개변수를 출력"
   ]
  },
  {
   "cell_type": "code",
   "execution_count": 21,
   "metadata": {},
   "outputs": [
    {
     "name": "stdout",
     "output_type": "stream",
     "text": [
      "{'a': 1}\n",
      "{'name': 'foo', 'age': 3}\n"
     ]
    }
   ],
   "source": [
    "print_kwargs(a=1) # 키워드 매개변수는 입력받은 값을 딕셔너리로 만든다. 이 때, 좌변은 키, 우변은 값이 된다.\n",
    "\n",
    "print_kwargs(name='foo', age=3) # 변수 이름은 자동으로 문자열로 처리된다."
   ]
  },
  {
   "cell_type": "markdown",
   "metadata": {},
   "source": [
    "## 함수의 리턴값은 언제나 하나이다."
   ]
  },
  {
   "cell_type": "code",
   "execution_count": 22,
   "metadata": {},
   "outputs": [],
   "source": [
    "def add_and_mul(a, b):\n",
    "    return a+b, a*b # 반환하는 값이 두 개처럼 보임"
   ]
  },
  {
   "cell_type": "code",
   "execution_count": 23,
   "metadata": {},
   "outputs": [
    {
     "name": "stdout",
     "output_type": "stream",
     "text": [
      "(7, 12)\n"
     ]
    }
   ],
   "source": [
    "result = add_and_mul(3, 4)\n",
    "print(result) # 반환 값을 위와 같이 적을 경우, 튜플이 반환된다. 함수는 반드시 하나의 값만을 반환한다."
   ]
  },
  {
   "cell_type": "code",
   "execution_count": 24,
   "metadata": {},
   "outputs": [
    {
     "name": "stdout",
     "output_type": "stream",
     "text": [
      "7\n",
      "12\n"
     ]
    }
   ],
   "source": [
    "result1, result2 = add_and_mul(3, 4) # 위의 함수를 이렇게 호출할 경우, 값들은 분리되어 대입된다.\n",
    "print(result1)\n",
    "print(result2)"
   ]
  },
  {
   "cell_type": "code",
   "execution_count": 25,
   "metadata": {},
   "outputs": [],
   "source": [
    "def add_and_mul(a, b):\n",
    "    return a + b\n",
    "    return a * b # 한 함수에 return문을 두 번 사용"
   ]
  },
  {
   "cell_type": "code",
   "execution_count": 26,
   "metadata": {},
   "outputs": [],
   "source": [
    "result = add_and_mul(2, 3) # return문이 실행되면 함수를 탈출한다. 뒤의 return문은 실행되지 않음\n",
    "\n",
    "# 따라서, 위의 함수는 아래와 정확하게 같은 기능을 한다.\n",
    "# def add_and_mul(a, b):\n",
    "#     return a + b"
   ]
  },
  {
   "cell_type": "code",
   "execution_count": 27,
   "metadata": {},
   "outputs": [],
   "source": [
    "# return만 단독으로 써서 바로 함수를 탈출하는 방법도 쓰인다.\n",
    "def say_nick(nick):\n",
    "    if nick == 'idiot':\n",
    "        return # return 예약어가 단독으로 쓰이면 실행 즉시 함수를 탈출한다.\n",
    "    print(\"My nickname is %s.\" %nick) # 입력받은 인수를 대입하여 문자열 출력."
   ]
  },
  {
   "cell_type": "code",
   "execution_count": 28,
   "metadata": {},
   "outputs": [
    {
     "name": "stdout",
     "output_type": "stream",
     "text": [
      "My nickname is queencard.\n"
     ]
    }
   ],
   "source": [
    "say_nick('queencard') # return문이 실행되지 않고 문자열이 출력된다.\n",
    "\n",
    "say_nick('idiot') # return문이 실행되어 함수를 탈출하고 아무것도 실행되지 않는다."
   ]
  },
  {
   "cell_type": "markdown",
   "metadata": {},
   "source": [
    "## lambda 예약어"
   ]
  },
  {
   "cell_type": "code",
   "execution_count": 29,
   "metadata": {},
   "outputs": [
    {
     "name": "stdout",
     "output_type": "stream",
     "text": [
      "7\n"
     ]
    }
   ],
   "source": [
    "add = lambda a,b : a+b # add()는 두 매개변수 {a}, {b}에 전달된 인수를 더하여 반환 이변수 람다 함수(lambda function)이다.\n",
    "result = add(3, 4) # 함수를 정의할 때, lambda는 def...return과 동일한 기능을 한다. 따라서, 람다 함수와 일반 함수의 차이는 없다.\n",
    "print(result)\n",
    "\n",
    "# 파이썬에서 람다 함수는 한 줄만 사용할 수 있다.\n",
    "# 따라서, 복잡한 기능을 하는 함수는 가독성을 위해 def로 정의하는 것이 좋다.\n",
    "# 람다 함수는 편리하지만, 남용하면 코드의 가독성을 해친다.\n",
    "# 가령, 중요한 기능을 하는 함수를 람다 함수로 즉석에서 한 줄에 정의했을 경우,\n",
    "# 해당 함수가 정의된 곳을 찾기가 어려워지거나, 한 줄에 너무 많은 기능이 담겨 있어 보기 어려워진다.\n",
    "# 함수 이름을 정의할 경우, lambda보단 def를 사용하는 것이 좋다.\n",
    "# 단, 이름 없는 함수를 즉석에서 만들 경우, lambda는 많은 편의성을 제공한다."
   ]
  },
  {
   "cell_type": "code",
   "execution_count": 30,
   "metadata": {},
   "outputs": [
    {
     "name": "stdout",
     "output_type": "stream",
     "text": [
      "7\n"
     ]
    }
   ],
   "source": [
    "def add(a, b):\n",
    "    return a + b\n",
    "\n",
    "result = add(3, 4) # lambda로 정의한 add()와 정확히 동일함을 확인할 수 있다.\n",
    "print(result)"
   ]
  }
 ],
 "metadata": {
  "kernelspec": {
   "display_name": "Python 3",
   "language": "python",
   "name": "python3"
  },
  "language_info": {
   "codemirror_mode": {
    "name": "ipython",
    "version": 3
   },
   "file_extension": ".py",
   "mimetype": "text/x-python",
   "name": "python",
   "nbconvert_exporter": "python",
   "pygments_lexer": "ipython3",
   "version": "3.12.4"
  }
 },
 "nbformat": 4,
 "nbformat_minor": 2
}
